{
  "nbformat": 4,
  "nbformat_minor": 0,
  "metadata": {
    "colab": {
      "name": "RL_cw3_questions.ipynb",
      "version": "0.3.2",
      "views": {},
      "default_view": {},
      "provenance": [
        {
          "file_id": "1mIWeHr4YB6AVcwtRszH87Lj7y3pEhLVM",
          "timestamp": 1520447403512
        },
        {
          "file_id": "1AmoBDF9hWeKfxWp6h_ihyI-KFbhQeSJW",
          "timestamp": 1520259410401
        },
        {
          "file_id": "1FwMxkDPkt68fxovrMmmWwm6ohYvX2wt1",
          "timestamp": 1517660129183
        },
        {
          "file_id": "1wwTq5nociiMHUb26jxrvZvGN6l11xV5o",
          "timestamp": 1517174839485
        },
        {
          "file_id": "1_gJNoj9wG4mnigscGRAcZx7RHix3HCjG",
          "timestamp": 1515086437469
        },
        {
          "file_id": "1hcBeMVfaSh8g1R2ujtmxOSHoxJ8xYkaW",
          "timestamp": 1511098107887
        }
      ],
      "collapsed_sections": []
    },
    "kernelspec": {
      "name": "python2",
      "display_name": "Python 2"
    },
    "accelerator": "GPU"
  },
  "cells": [
    {
      "metadata": {
        "id": "pYs6LMEbNqoQ",
        "colab_type": "text"
      },
      "cell_type": "markdown",
      "source": [
        "# RL homework 3\n",
        "\n",
        "-------------------------------\n",
        "\n",
        "\n",
        "**Name:** WU Zhi\n",
        "\n",
        "**SN:** 17040772\n",
        "\n",
        "-----------------------------------\n",
        "\n",
        "\n",
        "**Start date:** *7th March 2018*\n",
        "\n",
        "**Due date:** *21st March 2018, 11:55 pm*\n",
        "\n",
        "------------------------------------\n",
        "\n",
        "## How to Submit\n",
        "\n",
        "When you have completed the exercises and everything has finsihed running, click on 'File' in the menu-bar and then 'Download .ipynb'. This file must be submitted to Moodle named as **studentnumber_RL_hw3.ipynb** before the deadline above.\n",
        "\n",
        "Also send a **sharable link** to the notebook at the following email: ucl.coursework.submit@gmail.com. You can also make it sharable via link to everyone, up to you.\n",
        "\n",
        "Please compile all results and all answers to the understanding questions into a PDF. Name convention: **studentnumber_RL_hw3.pdf**. Do not include any of the code (we will use the notebook for that). \n",
        "\n",
        "**Page limit: 10 pg **\n"
      ]
    },
    {
      "metadata": {
        "id": "9v_SYckYfv5G",
        "colab_type": "text"
      },
      "cell_type": "markdown",
      "source": [
        "## Context\n",
        "\n",
        "In this assignment, we will investigate the properties of 3 distinct reinforcement learning algorithms:\n",
        "\n",
        "* Online Q-learning\n",
        "* Experience Replay\n",
        "* Dyna-Q\n",
        "\n",
        "We will consider two different dimensions:\n",
        "* Tabular vs Function Approximation\n",
        "* Stationary vs Non-Stationary environments\n",
        "\n",
        "## Background reading\n",
        "\n",
        "* Sutton and Barto (2018), Chapters 8"
      ]
    },
    {
      "metadata": {
        "id": "rNuohp44N00i",
        "colab_type": "text"
      },
      "cell_type": "markdown",
      "source": [
        "# The Assignment\n",
        "\n",
        "### Objectives\n",
        "\n",
        "You will use Python to implement several reinforcement learning algorithms **[50 pts]**.\n",
        "\n",
        "You will then run these algorithms on a few problems, to understand their properties.\n",
        "\n",
        "Finally you will answer a few question about the performance of these algorithms in the various problems **[50pts]**."
      ]
    },
    {
      "metadata": {
        "id": "ztQEQvnKh2t6",
        "colab_type": "text"
      },
      "cell_type": "markdown",
      "source": [
        "# Setup"
      ]
    },
    {
      "metadata": {
        "id": "Ps5OnkPmDbMX",
        "colab_type": "code",
        "colab": {
          "autoexec": {
            "startup": false,
            "wait_interval": 0
          }
        }
      },
      "cell_type": "code",
      "source": [
        "import matplotlib.pyplot as plt\n",
        "import numpy as np\n",
        "from collections import namedtuple\n",
        "\n",
        "np.set_printoptions(precision=3, suppress=1)\n",
        "plt.style.use('seaborn-notebook')"
      ],
      "execution_count": 0,
      "outputs": []
    },
    {
      "metadata": {
        "id": "ALrRR76eAd6u",
        "colab_type": "text"
      },
      "cell_type": "markdown",
      "source": [
        "# Grid worlds"
      ]
    },
    {
      "metadata": {
        "id": "uMC6nODK1HAV",
        "colab_type": "text"
      },
      "cell_type": "markdown",
      "source": [
        "**Tabular Grid-World**\n",
        "\n",
        "Simple tabular grid world.\n",
        "\n",
        "You can visualize the grid worlds we will train our agents on, by running the cells below.\n",
        "`S` indicates the start state and `G` indicates the goal.  The agent has four possible actions: up, right, down, and left.  Rewards are: `-5` for bumping into a wall, `+10` for reaching the goal, and `0` otherwise.  The episode ends when the agent reaches the goal, and otherwise continues.  The discount, on continuing steps, is $\\gamma = 0.9$.\n",
        "\n",
        "We will use three distinct GridWorlds:\n",
        "* `Grid` tabular grid world withh a goal in the top right of the grid\n",
        "* `AltGrid` tabular grid world withh a goal in the bottom left of the grid\n",
        "* `FeatureGrid` a grid world with a non tabular representation of states, the features are such to allow some degree of state aliasing"
      ]
    },
    {
      "metadata": {
        "id": "YP97bVN3NuG8",
        "colab_type": "code",
        "colab": {
          "autoexec": {
            "startup": false,
            "wait_interval": 0
          }
        },
        "cellView": "form"
      },
      "cell_type": "code",
      "source": [
        "#@title Grid\n",
        "class Grid(object):\n",
        "\n",
        "  def __init__(self, discount=0.9):\n",
        "    # -1: wall\n",
        "    # 0: empty, episode continues\n",
        "    # other: number indicates reward, episode will terminate\n",
        "    self._layout = np.array([\n",
        "      [-1, -1, -1, -1, -1, -1, -1, -1, -1, -1],\n",
        "      [-1,  0,  0,  0,  0,  0,  0,  0,  0, -1],\n",
        "      [-1,  0,  0,  0, -1, -1,  0,  0, 10, -1],\n",
        "      [-1,  0,  0,  0, -1, -1,  0,  0,  0, -1],\n",
        "      [-1,  0,  0,  0, -1, -1,  0,  0,  0, -1],\n",
        "      [-1,  0,  0,  0,  0,  0,  0,  0,  0, -1],\n",
        "      [-1,  0,  0,  0,  0,  0,  0,  0,  0, -1],\n",
        "      [-1,  0,  0,  0,  0,  0,  0,  0,  0, -1],\n",
        "      [-1, -1, -1, -1, -1, -1, -1, -1, -1, -1]\n",
        "    ])\n",
        "    self._start_state = (2, 2)\n",
        "    self._goal_state = (8, 2)\n",
        "    self._state = self._start_state\n",
        "    self._number_of_states = np.prod(np.shape(self._layout))\n",
        "    self._discount = discount\n",
        "\n",
        "  @property\n",
        "  def number_of_states(self):\n",
        "      return self._number_of_states\n",
        "    \n",
        "  def plot_grid(self):\n",
        "    plt.figure(figsize=(3, 3))\n",
        "    plt.imshow(self._layout > -1, interpolation=\"nearest\", cmap = \"pink\")     \n",
        "    ax = plt.gca()\n",
        "    ax.grid(0)\n",
        "    plt.xticks([])\n",
        "    plt.yticks([])\n",
        "    plt.title(\"The grid\")\n",
        "    plt.text(\n",
        "        self._start_state[0], self._start_state[1], \n",
        "        r\"$\\mathbf{S}$\", ha='center', va='center')\n",
        "    plt.text(\n",
        "        self._goal_state[0], self._goal_state[1], \n",
        "        r\"$\\mathbf{G}$\", ha='center', va='center')\n",
        "    h, w = self._layout.shape\n",
        "    for y in range(h-1):\n",
        "      plt.plot([-0.5, w-0.5], [y+0.5, y+0.5], '-k', lw=2)\n",
        "    for x in range(w-1):\n",
        "      plt.plot([x+0.5, x+0.5], [-0.5, h-0.5], '-k', lw=2)\n",
        "\n",
        "  \n",
        "  def get_obs(self):\n",
        "    y, x = self._state\n",
        "    return y*self._layout.shape[1] + x\n",
        "  \n",
        "  def int_to_state(self, int_obs):\n",
        "    x = int_obs % self._layout.shape[1]\n",
        "    y = int_obs // self._layout.shape[1]\n",
        "    return y, x\n",
        "\n",
        "  def step(self, action):\n",
        "    y, x = self._state\n",
        "\n",
        "    if action == 0:  # up\n",
        "      new_state = (y - 1, x)\n",
        "    elif action == 1:  # right\n",
        "      new_state = (y, x + 1)\n",
        "    elif action == 2:  # down\n",
        "      new_state = (y + 1, x)\n",
        "    elif action == 3:  # left\n",
        "      new_state = (y, x - 1)\n",
        "    else:\n",
        "      raise ValueError(\"Invalid action: {} is not 0, 1, 2, or 3.\".format(action))\n",
        "\n",
        "    new_y, new_x = new_state\n",
        "    if self._layout[new_y, new_x] == -1:  # wall\n",
        "      reward = -5.\n",
        "      discount = self._discount\n",
        "      new_state = (y, x)\n",
        "    elif self._layout[new_y, new_x] == 0:  # empty cell\n",
        "      reward = 0.\n",
        "      discount = self._discount\n",
        "    else:  # a goal\n",
        "      reward = self._layout[new_y, new_x]\n",
        "      discount = 0.\n",
        "      new_state = self._start_state\n",
        "    \n",
        "    self._state = new_state\n",
        "    return reward, discount, self.get_obs()"
      ],
      "execution_count": 0,
      "outputs": []
    },
    {
      "metadata": {
        "id": "UXyPvOq-S2OT",
        "colab_type": "code",
        "colab": {
          "autoexec": {
            "startup": false,
            "wait_interval": 0
          }
        },
        "cellView": "form"
      },
      "cell_type": "code",
      "source": [
        "#@title AltGrid\n",
        "class AltGrid(Grid):\n",
        "  \n",
        "    def __init__(self, discount=0.9):\n",
        "      # -1: wall\n",
        "      # 0: empty, episode continues\n",
        "      # other: number indicates reward, episode will terminate\n",
        "      self._layout = np.array([\n",
        "        [-1, -1, -1, -1, -1, -1, -1, -1, -1, -1],\n",
        "        [-1,  0,  0,  0,  0,  0,  0,  0,  0, -1],\n",
        "        [-1,  0,  0,  0, -1, -1,  0,  0,  0, -1],\n",
        "        [-1,  0,  0,  0, -1, -1,  0,  0,  0, -1],\n",
        "        [-1,  0,  0,  0, -1, -1,  0,  0,  0, -1],\n",
        "        [-1,  0,  0,  0,  0,  0,  0,  0,  0, -1],\n",
        "        [-1,  0,  0,  0,  0,  0,  0,  0,  0, -1],\n",
        "        [-1,  0, 10,  0,  0,  0,  0,  0,  0, -1],\n",
        "        [-1, -1, -1, -1, -1, -1, -1, -1, -1, -1]\n",
        "      ])\n",
        "      self._start_state = (2, 2)\n",
        "      self._goal_state = (2, 7)\n",
        "      self._state = self._start_state\n",
        "      self._number_of_states = np.prod(np.shape(self._layout))\n",
        "      self._discount = discount"
      ],
      "execution_count": 0,
      "outputs": []
    },
    {
      "metadata": {
        "id": "a1OFB5Mv1gC_",
        "colab_type": "code",
        "colab": {
          "autoexec": {
            "startup": false,
            "wait_interval": 0
          }
        },
        "cellView": "form"
      },
      "cell_type": "code",
      "source": [
        "#@title FeatureGrid\n",
        "class FeatureGrid(Grid):\n",
        "  \n",
        "  def get_obs(self):\n",
        "    return self.state_to_features(self._state)\n",
        "  \n",
        "  def state_to_features(self, state):\n",
        "    y, x = state\n",
        "    x /= float(self._layout.shape[1] - 1)\n",
        "    y /= float(self._layout.shape[0] - 1)\n",
        "    markers = np.arange(0.1, 1.0, 0.1)\n",
        "    features = np.array([np.exp(-40*((x - m)**2+(y - n)**2))\n",
        "                         for m in markers\n",
        "                         for n in markers] + [1.])\n",
        "    return features / np.sum(features**2)\n",
        "  \n",
        "  def int_to_features(self, int_state):\n",
        "    return self.state_to_features(self.int_to_state(int_state))\n",
        "  \n",
        "  @property\n",
        "  def number_of_features(self):\n",
        "      return len(self.get_obs())"
      ],
      "execution_count": 0,
      "outputs": []
    },
    {
      "metadata": {
        "id": "ZVUhh2qqwep_",
        "colab_type": "code",
        "colab": {
          "autoexec": {
            "startup": false,
            "wait_interval": 0
          },
          "output_extras": [
            {
              "item_id": 1
            },
            {
              "item_id": 2
            },
            {
              "item_id": 3
            }
          ],
          "base_uri": "https://localhost:8080/",
          "height": 691
        },
        "outputId": "33879f42-59be-4d2a-e7bb-bdcdcdcacb54",
        "executionInfo": {
          "status": "ok",
          "timestamp": 1521585459770,
          "user_tz": 0,
          "elapsed": 4559,
          "user": {
            "displayName": "JOY WU",
            "photoUrl": "//lh6.googleusercontent.com/-tPBEt0lFVJA/AAAAAAAAAAI/AAAAAAAABm0/dJFicuVmNrg/s50-c-k-no/photo.jpg",
            "userId": "118283881385645801877"
          }
        }
      },
      "cell_type": "code",
      "source": [
        "# Instantiate the two tabular environments\n",
        "grid = Grid()\n",
        "alt_grid = AltGrid()\n",
        "\n",
        "# Plot tabular environments\n",
        "grid.plot_grid()\n",
        "alt_grid.plot_grid()\n",
        "\n",
        "# Instantiate the non tabular version of the environment.\n",
        "feat_grid = FeatureGrid()\n",
        "\n",
        "# Plot the features of each state\n",
        "shape = feat_grid._layout.shape\n",
        "f, axes = plt.subplots(shape[0], shape[1])\n",
        "for state_idx, ax in enumerate(axes.flatten()):\n",
        "  ax.imshow(np.reshape((feat_grid.int_to_features(state_idx)[:-1]),(9,9)), interpolation='nearest')\n",
        "  ax.set_xticks([])\n",
        "  ax.set_yticks([])"
      ],
      "execution_count": 23,
      "outputs": [
        {
          "output_type": "display_data",
          "data": {
            "image/png": "[encoded data removed]",
            "text/plain": [
              "<matplotlib.figure.Figure at 0x7fb022dd5ad0>"
            ]
          },
          "metadata": {
            "tags": []
          }
        },
        {
          "output_type": "display_data",
          "data": {
            "image/png": "[encoded data removed]",
            "text/plain": [
              "<matplotlib.figure.Figure at 0x7fb027081a50>"
            ]
          },
          "metadata": {
            "tags": []
          }
        },
        {
          "output_type": "display_data",
          "data": {
            "image/png": "[encoded data removed]",
            "text/plain": [
              "<matplotlib.figure.Figure at 0x7fb026fe7ed0>"
            ]
          },
          "metadata": {
            "tags": []
          }
        }
      ]
    },
    {
      "metadata": {
        "id": "cOu9RZY3AkF1",
        "colab_type": "text"
      },
      "cell_type": "markdown",
      "source": [
        "# Helper functions"
      ]
    },
    {
      "metadata": {
        "id": "6EttQGJ1n5Zn",
        "colab_type": "code",
        "colab": {
          "autoexec": {
            "startup": false,
            "wait_interval": 0
          }
        }
      },
      "cell_type": "code",
      "source": [
        "def run_experiment(env, agent, number_of_steps):\n",
        "    mean_reward = 0.\n",
        "    try:\n",
        "      action = agent.initial_action()\n",
        "    except AttributeError:\n",
        "      action = 0\n",
        "    for i in range(number_of_steps):\n",
        "      reward, discount, next_state = env.step(action)\n",
        "      action = agent.step(reward, discount, next_state)\n",
        "      mean_reward += (reward - mean_reward)/(i + 1.)\n",
        "\n",
        "    return mean_reward\n",
        "\n",
        "map_from_action_to_subplot = lambda a: (2, 6, 8, 4)[a]\n",
        "map_from_action_to_name = lambda a: (\"up\", \"right\", \"down\", \"left\")[a]\n",
        "\n",
        "def plot_values(values, colormap='pink', vmin=-1, vmax=10):\n",
        "  plt.imshow(values, interpolation=\"nearest\", cmap=colormap, vmin=vmin, vmax=vmax)\n",
        "  plt.yticks([])\n",
        "  plt.xticks([])\n",
        "  plt.colorbar(ticks=[vmin, vmax])\n",
        "\n",
        "def plot_state_value(action_values):\n",
        "  q = action_values\n",
        "  fig = plt.figure(figsize=(4, 4))\n",
        "  vmin = np.min(action_values)\n",
        "  vmax = np.max(action_values)\n",
        "  v = 0.9 * np.max(q, axis=-1) + 0.1 * np.mean(q, axis=-1)\n",
        "  plot_values(v, colormap='summer', vmin=vmin, vmax=vmax)\n",
        "  plt.title(\"$v(s)$\")\n",
        "\n",
        "def plot_action_values(action_values):\n",
        "  q = action_values\n",
        "  fig = plt.figure(figsize=(8, 8))\n",
        "  fig.subplots_adjust(wspace=0.3, hspace=0.3)\n",
        "  vmin = np.min(action_values)\n",
        "  vmax = np.max(action_values)\n",
        "  dif = vmax - vmin\n",
        "  for a in [0, 1, 2, 3]:\n",
        "    plt.subplot(3, 3, map_from_action_to_subplot(a))\n",
        "    \n",
        "    plot_values(q[..., a], vmin=vmin - 0.05*dif, vmax=vmax + 0.05*dif)\n",
        "    action_name = map_from_action_to_name(a)\n",
        "    plt.title(r\"$q(s, \\mathrm{\" + action_name + r\"})$\")\n",
        "    \n",
        "  plt.subplot(3, 3, 5)\n",
        "  v = 0.9 * np.max(q, axis=-1) + 0.1 * np.mean(q, axis=-1)\n",
        "  plot_values(v, colormap='summer', vmin=vmin, vmax=vmax)\n",
        "  plt.title(\"$v(s)$\")\n",
        "  \n",
        "def random_policy(q):\n",
        "  return np.random.randint(4)\n",
        "\n",
        "def plot_greedy_policy(grid, q):\n",
        "  action_names = [r\"$\\uparrow$\",r\"$\\rightarrow$\", r\"$\\downarrow$\", r\"$\\leftarrow$\"]\n",
        "  greedy_actions = np.argmax(q, axis=2)\n",
        "  grid.plot_grid()\n",
        "  plt.hold('on')\n",
        "  for i in range(9):\n",
        "    for j in range(10):\n",
        "      action_name = action_names[greedy_actions[i,j]]\n",
        "      plt.text(j, i, action_name, ha='center', va='center')"
      ],
      "execution_count": 0,
      "outputs": []
    },
    {
      "metadata": {
        "id": "fzpb_dGVjT0O",
        "colab_type": "text"
      },
      "cell_type": "markdown",
      "source": [
        "# Part 1: Implement Agents\n",
        "\n",
        "Each agent, should implement a step function:\n",
        "\n",
        "### `__init__(self, number_of_actions, number_of_states, initial_observation)`:\n",
        "The constructor will provide the agent the number of actions, number of states, and the initial observation. You can get the initial observation by first instatiating an environment, using `grid = Grid()`, and then calling `grid.get_obs()`.\n",
        "\n",
        "All agents should be in pure Python - so you cannot use TensorFlow to, e.g., compute gradients.  Using `numpy` is fine.\n",
        "\n",
        "### `step(self, reward, discount, next_observation, ...)`:\n",
        "where `...` indicates there could be other inputs (discussed below).  The step should update the internal values, and return a new action to take.\n",
        "\n",
        "When the discount is zero ($\\text{discount} = \\gamma = 0$), then the `next_observation` will be the initial observation of the next episode.  One shouldn't bootstrap on the value of this state, which can simply be guaranteed when using \"$\\gamma \\cdot v(\\text{next_observation})$\" (for whatever definition of $v$ is appropriate) in the update, because $\\gamma = 0$.  So, the end of an episode can be seamlessly handled with the same step function.\n",
        "\n",
        "### `q_values()`:\n",
        "\n",
        "Tabular agents implement a function `q_values()` returning a matrix of Q values of shape: (`number_of_states`, `number_of_actions`)\n",
        "\n",
        "### `q_values(state)`:\n",
        "\n",
        "Agents with Linear function approximation implement a method `q_values(state)` returning an array of Q values of shape: (`number_of_actions`)\n",
        "\n",
        "\n",
        "### A note on the initial action\n",
        "Normally, you would also have to implement a method that gives the initial action, based on the initial state.  As in the previous assignment you can use the action `0` (which corresponds to `up`) as initial action, so that otherwise we do not have to worry about this.  Note that this initial action is only executed once, and the beginning of the first episode---not at the beginning of each episode.\n",
        "\n",
        "Q-learning and it's variants needs to remember the last action in order to update its value when they see the next state.  In the `__init__`, make sure you set the initial action to zero, e.g.,\n",
        "```\n",
        "def __init__(...):\n",
        "  (...)\n",
        "  self._action = 0\n",
        "  (...)\n",
        "```\n"
      ]
    },
    {
      "metadata": {
        "id": "B8oKd0oyvNcH",
        "colab_type": "text"
      },
      "cell_type": "markdown",
      "source": [
        "\n",
        "# Part 1: Implement Agents\n",
        "\n",
        "We are going to implement 5 agent:\n",
        "- Online Tabular Q-learning\n",
        "- Tabular Experience Replay\n",
        "- Tabular Dyna-Q (with a Tabular model)\n",
        "- Experience Replay with linear function approximation\n",
        "- Dyna-Q with linear function approximation (with a linear model)\n",
        "\n"
      ]
    },
    {
      "metadata": {
        "id": "pIgXk6LblHgV",
        "colab_type": "text"
      },
      "cell_type": "markdown",
      "source": [
        "## 1.1 Tabular Model\n",
        "**[5 pts]** Implement a trainable tabular Model of the environment.\n",
        "\n",
        "The Model should implement: \n",
        "* a *next_state* method, taking a state and action and returning the next state in the environment.\n",
        "* a *reward* method, taking a state and action and returning the immediate reward associated to execution that action in that state.\n",
        "* a *discount* method, taking a state and action and returning the discount associated to execution that action in that state.\n",
        "* a *transition* method, taking a state and an action and returning both the next state and the reward associated to that transition.\n",
        "* a *update* method, taking a full transition *(state, action, reward, next_state)* and updating the model (in its reward, discount and next_state component)\n",
        "\n",
        "Given that the environment is deterministic and tabular the model will basically reduce to a simple lookup table."
      ]
    },
    {
      "metadata": {
        "id": "13zx3tTrll1g",
        "colab_type": "code",
        "colab": {
          "autoexec": {
            "startup": false,
            "wait_interval": 0
          }
        }
      },
      "cell_type": "code",
      "source": [
        "class TabularModel(object):\n",
        "\n",
        "  def __init__(self, number_of_states, number_of_actions):\n",
        "    self.table_discount = np.zeros((number_of_states, number_of_actions))\n",
        "    self.table_reward = np.zeros((number_of_states, number_of_actions))\n",
        "    self.table_next_state = np.zeros((number_of_states, number_of_actions))\n",
        "  \n",
        "\n",
        "  # return the next state in the environment\n",
        "  def next_state(self, s, a):\n",
        "    return self.table_next_state(s, a)\n",
        "  \n",
        "  # return the immediate reward\n",
        "  def reward(self, s, a):\n",
        "    return self.table_reward(s, a)\n",
        "\n",
        "  # return the discount associated to execution that action in that state.\n",
        "  def discount(self, s, a):\n",
        "    return self.table_discount(s, a)\n",
        "  \n",
        "  # return both the next state and the reward associated to that transition.\n",
        "  def transition(self, state, action):\n",
        "    return (\n",
        "        self.reward(state, action), \n",
        "        self.discount(state, action),\n",
        "        self.next_state(state, action))\n",
        "  \n",
        "  def update(self, state, action, reward, discount, next_state):\n",
        "    self.table_discount[state, action] = discount\n",
        "    self.table_reward[state, action] = reward\n",
        "    self.table_next_state[state, action] = next_state\n",
        "  "
      ],
      "execution_count": 0,
      "outputs": []
    },
    {
      "metadata": {
        "id": "rPBcz1riy_fD",
        "colab_type": "text"
      },
      "cell_type": "markdown",
      "source": [
        "## 1.2 Linear Model\n",
        "\n",
        "**[5 pts]** Implement a trainable linear model of the environment.\n",
        "\n",
        "The Model should implement: \n",
        "* a *next_state* method, taking a state and action and returning the predicted next state in the environment.\n",
        "* a *reward* method, taking a state and action and returning the predicted immediate reward associated to execution that action in that state.\n",
        "* a *discount* method, taking a state and action and returning the predicted discount associated to execution that action in that state.\n",
        "* a *transition* method, taking a state and an action and returning both the next state and the reward associated to that transition.\n",
        "* a *update* method, taking a full transition *(state, action, reward, next_state)* and updating the model (in its reward, discount and next_state component)\n",
        "\n",
        "For each selected action, the predicted reward, discount and next state will all be a linear function of the state.\n",
        "* $\\text{s'} = T_a s$\n",
        "* $\\text{r'} = R_a s$\n",
        "* $\\text{g'} = G_a s$\n",
        "\n",
        "Where $T_a$ is a matrix of shape $(\\text{number_of_features}, \\text{number_of_features})$, $R_a$ and $G_a$are vectors of shape $(\\text{number_of_features},)$\n",
        "\n",
        "The parameters of all these linear transformations must be trained by gradient descent. Write down the update to the parameters of the models and implement the update in the model below.\n",
        "\n",
        "### Update of parameters:\n",
        "Assuming the loss function is $J(\\theta)$, $S'$ is the next state, $R$ is reward and $G$ is the discount gained from environment. Therefore, the loss function can be written as:\n",
        "\n",
        "\\\\\n",
        "$$J(T_a) = \\frac{1}{2}(S' - T_a s)^2$$\n",
        "\n",
        "\\\\\n",
        "\n",
        "$$J(R_a) = \\frac{1}{2}(R - R_a s)^2$$\n",
        "\n",
        "\\\\\n",
        "$$J(G_a) = \\frac{1}{2}(G - G_a s)^2$$\n",
        "\n",
        "\n",
        "\\\\\n",
        "Therefore, the update equations of parameters are:\n",
        "\n",
        "\n",
        "\n",
        "\\\\\n",
        "$$ T_a = T_a - \\alpha \\Delta (T_a) = T_a - \\alpha \\frac{\\partial J(T_a)}{\\partial T_a}= T_a - \\alpha (S' - T_a s) * -s$$\n",
        "\n",
        "\n",
        "\n",
        "\\\\\n",
        "$$ R_a = R_a - \\alpha \\Delta (R_a) = R_a - \\alpha \\frac{\\partial J(R_a)}{\\partial R_a}= R_a- \\alpha (R - R_a s) * -s$$\n",
        "\n",
        "\n",
        "\n",
        "\\\\\n",
        "$$ G_a = G_a - \\alpha \\Delta (G_a) = G_a - \\alpha \\frac{\\partial J(G_a)}{\\partial G_a}= G_a- \\alpha (G - G_a s) * -s$$ Where $\\alpha$ is step_size\n",
        "\n"
      ]
    },
    {
      "metadata": {
        "id": "226SA-xjlyDe",
        "colab_type": "code",
        "colab": {
          "autoexec": {
            "startup": false,
            "wait_interval": 0
          }
        }
      },
      "cell_type": "code",
      "source": [
        "class LinearModel(object):\n",
        "\n",
        "  def __init__(self, number_of_features, number_of_actions):\n",
        "    self.T = np.zeros((number_of_features, number_of_features, number_of_actions))\n",
        "    self.R = np.zeros((number_of_features, number_of_actions))\n",
        "    self.G = np.zeros((number_of_features, number_of_actions))\n",
        "    \n",
        "\n",
        "  def next_state(self, s, a):\n",
        "    return np.matmul(self.T[:,:,a], s)\n",
        "  \n",
        "  def reward(self, s, a):\n",
        "    return np.matmul(self.R[:,a], s)\n",
        "\n",
        "  def discount(self, s, a):\n",
        "    return np.matmul(self.G[:,a], s)\n",
        "\n",
        "  def transition(self, state, action):\n",
        "    return (\n",
        "        self.reward(state, action),\n",
        "        self.discount(state, action),\n",
        "        self.next_state(state, action))\n",
        "\n",
        "  def update(self, state, action, reward, discount, next_state, step_size=0.1):\n",
        "    self.T[:,:,action] -= step_size * np.dot(np.reshape((next_state - \n",
        "           np.dot(self.T[:, :, action], state)), [-1, 1]), np.reshape(-state, [1, -1]))\n",
        "    self.R[:, action] -= step_size * ((reward - np.dot(self.R[:, action], state)) * -state)\n",
        "    self.G[:, action] -= step_size * ((discount - np.dot(self.G[:, action], state)) * -state)\n",
        " "
      ],
      "execution_count": 0,
      "outputs": []
    },
    {
      "metadata": {
        "id": "omzJxb5ds0Iq",
        "colab_type": "text"
      },
      "cell_type": "markdown",
      "source": [
        "## 1.3 Experience Replay\n",
        "\n",
        "**[10 pts]** Implement an agent that uses **Experience Replay** to learn action values, at each step:\n",
        "* select actions randomly\n",
        "* accumulate all observed transitions *(s, a, r, s')* in the environment in a *replay buffer*,\n",
        "* apply an online Q-learning \n",
        "* apply multiple Q-learning updates based on transitions sampled (uniformly) from the *replay buffer* (in addition to the online updates).\n",
        "\n",
        "**Initialize** $Q(s, a)$ and $\\text{Model}(s, a)$ for all s ∈ S and a ∈ A(s)\n",
        "\n",
        "**Loop forever**:\n",
        "\n",
        "1. $S \\gets{}$current (nonterminal) state\n",
        " \n",
        "2. $A \\gets{} \\text{random_action}(S)$\n",
        " \n",
        "3. Take action $A$; observe resultant reward $R$, discount $\\gamma$, and state, $S'$\n",
        "\n",
        "4. $Q(S, A) \\gets Q(S, A) + \\alpha (R + \\gamma \\max_a Q(S', a) − Q(S, A))$\n",
        "\n",
        "5. $\\text{ReplayBuffer}.\\text{append_transition}(S, A, R, \\gamma, S')$\n",
        "\n",
        "6. Loop repeat n times:\n",
        "\n",
        "  1. $S, A, R, \\gamma, S' \\gets \\text{ReplayBuffer}.\\text{sample_transition}()$\n",
        "  \n",
        "  4. $Q(S, A) \\gets Q(S, A) + \\alpha (R + \\gamma \\max_a Q(S', a) − Q(S, A))$"
      ]
    },
    {
      "metadata": {
        "id": "SpUxvWCKQMSI",
        "colab_type": "code",
        "colab": {
          "autoexec": {
            "startup": false,
            "wait_interval": 0
          }
        }
      },
      "cell_type": "code",
      "source": [
        "#@title  { display-mode: \"code\" }\n",
        " class ExperienceQ(object):\n",
        "\n",
        "  def __init__(\n",
        "      self, number_of_states, number_of_actions, initial_state, \n",
        "      behaviour_policy, num_offline_updates=0, step_size=0.1):\n",
        "    \n",
        "    self.q_value = np.zeros((number_of_states, number_of_actions))\n",
        "    self._state = initial_state\n",
        "    self.step_size = step_size\n",
        "    self._action = 0\n",
        "    self.behaviour_policy = behaviour_policy\n",
        "    self.relpay_buffer = []\n",
        "    self.num_offline_updates = num_offline_updates\n",
        "    \n",
        "  @property\n",
        "  def q_values(self):\n",
        "    return self.q_value\n",
        "  \n",
        "  def step(self, reward, discount, next_state):\n",
        "    s = self._state\n",
        "    a = self._action\n",
        "    r = reward\n",
        "    g = discount\n",
        "    next_s = next_state\n",
        "    \n",
        "    self._action = self.behaviour_policy(self._state)\n",
        "    \n",
        "    # update action value\n",
        "    self.q_value[s, a] += self.step_size * (r + g * np.max(self.q_value[next_s, :]) - self.q_value[s, a])\n",
        "    \n",
        "    # refresh replay buffer\n",
        "    self.relpay_buffer.append((s, a, r, g, next_s))\n",
        "    \n",
        "    for i in range(self.num_offline_updates):\n",
        "      sample_index = np.random.choice(len(self.relpay_buffer))\n",
        "      s_, a_, r_, g_, next_s_ = self.relpay_buffer[sample_index]\n",
        "      self.q_value[s_,a_] += self.step_size * (r_ + g_ * np.max(self.q_value[next_s_, :]) - self.q_value[s_, a_])\n",
        "\n",
        "    \n",
        "    self._state = next_state\n",
        "    \n",
        "    return self._action"
      ],
      "execution_count": 0,
      "outputs": []
    },
    {
      "metadata": {
        "id": "MKfA7ifHvO-M",
        "colab_type": "text"
      },
      "cell_type": "markdown",
      "source": [
        "\n",
        "## 1.4 Dyna-Q\n",
        "**[10 pts]** Implement an agent that uses **Dyna-Q** to learn action values.  \n",
        "* select actions randomly\n",
        "* accumulate all observed transitions *(s, a, r, s')* in the environment in a *replay buffer*,\n",
        "* apply an online Q-learning to Q-value\n",
        "* apply an update to the *model* based on the latest transition\n",
        "* apply multiple Q-learning updates based on transitions *(s, a, model.reward(s), model.next_state(s))* for some previous state and action pair *(s, a)*.\n",
        "\n",
        "**Initialize** $Q(s, a)$ and $\\text{Model}(s, a)$ for all s ∈ S and a ∈ A(s)\n",
        "\n",
        "**Loop forever**:\n",
        "\n",
        "1. $S \\gets{}$current (nonterminal) state\n",
        " \n",
        "2. $A \\gets{} \\text{random_action}(S)$\n",
        " \n",
        "3. Take action $A$; observe resultant reward $R$, discount $\\gamma$, and state, $S'$\n",
        "\n",
        "4. $Q(S, A) \\gets Q(S, A) + \\alpha (R + \\gamma \\max_a Q(S', a) − Q(S, A))$\n",
        "\n",
        "5. $\\text{ReplayBuffer}.\\text{append_transition}(S, A)$\n",
        "\n",
        "6. $\\text{Model}.\\text{update}(S, A, R, \\gamma, S')$\n",
        "\n",
        "6. Loop repeat n times:\n",
        "\n",
        "  1. $S, A \\gets \\text{ReplayBuffer}.\\text{sample_transition}()$\n",
        "  \n",
        "  2. $R, \\gamma, S' \\gets \\text{Model}.\\text{transition}(S, A)$\n",
        "  \n",
        "  3. $Q(S, A) \\gets Q(S, A) + \\alpha (R + \\gamma \\max_a Q(S', a) − Q(S, A))$"
      ]
    },
    {
      "metadata": {
        "id": "WdJgVK6_3Q3-",
        "colab_type": "code",
        "colab": {
          "autoexec": {
            "startup": false,
            "wait_interval": 0
          }
        }
      },
      "cell_type": "code",
      "source": [
        "class DynaQ(object):\n",
        "\n",
        "  def __init__(\n",
        "      self, number_of_states, number_of_actions, initial_state, \n",
        "      behaviour_policy, num_offline_updates=0, step_size=0.1):\n",
        "    \n",
        "    self.q_value = np.zeros((number_of_states, number_of_actions))\n",
        "    self._state = initial_state\n",
        "    self.step_size = step_size\n",
        "    self._action = 0\n",
        "    self.behaviour_policy = behaviour_policy\n",
        "    self.relpay_buffer = []\n",
        "    self.num_offline_updates = num_offline_updates\n",
        "    self.model_transition = {}\n",
        "    \n",
        "  @property\n",
        "  def q_values(self):\n",
        "    return self.q_value\n",
        "\n",
        "  def step(self, reward, discount, next_state):\n",
        "    s = self._state\n",
        "    a = self._action\n",
        "    r = reward\n",
        "    g = discount\n",
        "    next_s = next_state\n",
        "    \n",
        "    self._action = self.behaviour_policy(self._state)\n",
        "    \n",
        "    # update action value\n",
        "    self.q_value[s, a] += self.step_size * (r + g * np.max(self.q_value[next_s, :]) - self.q_value[s, a])\n",
        "    \n",
        "    # refresh replay buffer\n",
        "    self.relpay_buffer.append((s, a))\n",
        "    self.model_transition[(s, a)] = [r, g, next_s]   \n",
        "    \n",
        "    for i in range(self.num_offline_updates):\n",
        "      sample_index = np.random.choice(len(self.relpay_buffer))\n",
        "      s_, a_ = self.relpay_buffer[sample_index]\n",
        "      r_, g_, next_s_ = self.model_transition[(s_, a_)]\n",
        "      self.q_value[s_,a_] += self.step_size * (r_ + g_ * np.max(self.q_value[next_s_, :]) - self.q_value[s_, a_])\n",
        "\n",
        "    \n",
        "    self._state = next_state\n",
        "    \n",
        "    return self._action"
      ],
      "execution_count": 0,
      "outputs": []
    },
    {
      "metadata": {
        "id": "ra01mmV5VPgm",
        "colab_type": "text"
      },
      "cell_type": "markdown",
      "source": [
        "## 1.5 Experience Replay with Linear Function Approximation\n",
        "\n",
        "**[10 pts]** Implement an agent that uses **Experience Replay** to learn action values as a linear function approximation over a given set of features.\n",
        "\n",
        "**Training**: To make sure of the experience in an online fashion, we will learn this linear model via gradient descent. Write down the update to the parameters of the value function and implement the update in the agent below."
      ]
    },
    {
      "metadata": {
        "id": "XOy_bpVa3j6V",
        "colab_type": "code",
        "colab": {
          "autoexec": {
            "startup": false,
            "wait_interval": 0
          }
        }
      },
      "cell_type": "code",
      "source": [
        "class FeatureExperienceQ(ExperienceQ):\n",
        "\n",
        "  def __init__(\n",
        "      self, number_of_features, number_of_actions, *args, **kwargs):\n",
        "    super(FeatureExperienceQ, self).__init__(\n",
        "        number_of_actions=number_of_actions, *args, **kwargs)\n",
        "    self.number_of_features = number_of_features\n",
        "    self.number_of_actions = number_of_actions\n",
        "    self.parameter = np.zeros((number_of_actions, number_of_features))\n",
        "   \n",
        "  def q(self, state):\n",
        "    return np.dot(self.parameter, state)\n",
        "\n",
        "  def step(self, reward, discount, next_state):\n",
        "    s = self._state\n",
        "    a = self._action\n",
        "    r = reward\n",
        "    g = discount\n",
        "    next_s = next_state\n",
        "    \n",
        "    \"\"\"Update action value\"\"\"\n",
        "    # Update next action\n",
        "    self._action = self.behaviour_policy(self._state)\n",
        "    \n",
        "    q_action = np.matmul(self.parameter[a, :], s)\n",
        "    q_next_state = np.amax(np.matmul(self.parameter, next_s))\n",
        "    delta = r + g * q_next_state - q_action\n",
        "    self.parameter[a, :] += self.step_size * delta * s\n",
        "\n",
        "    # refresh replay buffer\n",
        "    self.relpay_buffer.append((s, a, r, g, next_s))\n",
        "    \n",
        "    for i in range(self.num_offline_updates):\n",
        "      sample_index = np.random.choice(len(self.relpay_buffer))\n",
        "      s_, a_, r_, g_, next_s_ = self.relpay_buffer[sample_index]\n",
        "     \n",
        "      _q_action = np.matmul(self.parameter[a_, :], s_)\n",
        "      _q_next_state = np.amax(np.matmul(self.parameter, next_s_))\n",
        "      _delta = r_ + g_ * _q_next_state - _q_action\n",
        "      self.parameter[a_, :] += self.step_size * _delta * s_\n",
        "      \n",
        "\n",
        "    self._state = next_state\n",
        "    \n",
        "    return self._action"
      ],
      "execution_count": 0,
      "outputs": []
    },
    {
      "metadata": {
        "id": "hlu3YPGAO9ss",
        "colab_type": "text"
      },
      "cell_type": "markdown",
      "source": [
        "\n",
        "## 1.6 Dyna-Q with Linear Function Approximation\n",
        "\n",
        "**[10 pts]** Implement an agent that uses **Dyna-Q** that uses a linear function approximation to represent the value functions and a learnt linear model of the environment (represent and learn both the **transition model**(action conditioned) and the **reward model** as linear transformations of the given set of features).  \n",
        "* select actions randomly\n",
        "* accumulate all observed transitions *(s, a, r, s')* in the environment in a *replay buffer*,\n",
        "* apply an online Q-learning to Q-value\n",
        "* apply an update to the *model* based on the latest transition, use a step_size of 0.01\n",
        "* apply multiple Q-learning updates based on transitions *(s, a, model.reward(s), model.next_state(s))* for some previous state and action pair *(s, a)*.\n",
        "\n",
        "**Initialize** $Q(s, a)$ and $\\text{Model}(s, a)$ for all s ∈ S and a ∈ A(s)\n",
        "\n",
        "**Loop forever**:\n",
        "\n",
        "1. $S \\gets{}$current (nonterminal) state\n",
        " \n",
        "2. $A \\gets{} \\text{random_action}(S)$\n",
        " \n",
        "3. Take action $A$; observe resultant reward $R$, discount $\\gamma$, and state, $S'$\n",
        "\n",
        "4. $Q(S, A) \\gets Q(S, A) + \\alpha (R + \\gamma \\max_a Q(S', a) − Q(S, A))$\n",
        "\n",
        "5. $\\text{ReplayBuffer}.\\text{append_transition}(S, A)$\n",
        "\n",
        "6. $\\text{Model}.\\text{update}(S, A, R, \\gamma, S')$\n",
        "\n",
        "6. Loop repeat n times:\n",
        "\n",
        "  1. $S, A \\gets \\text{ReplayBuffer}.\\text{sample_transition}()$\n",
        "  \n",
        "  2. $R, \\gamma, S' \\gets \\text{Model}.\\text{transition}(S, A)$\n",
        "  \n",
        "  3. $Q(S, A) \\gets Q(S, A) + \\alpha (R + \\gamma \\max_a Q(S', a) − Q(S, A))$"
      ]
    },
    {
      "metadata": {
        "id": "1RxFwgIU39dI",
        "colab_type": "code",
        "colab": {
          "autoexec": {
            "startup": false,
            "wait_interval": 0
          }
        }
      },
      "cell_type": "code",
      "source": [
        "class FeatureDynaQ(DynaQ):\n",
        "\n",
        "  def __init__(self, number_of_features, number_of_actions, *args, **kwargs):\n",
        "    super(FeatureDynaQ, self).__init__(\n",
        "        number_of_actions=number_of_actions, *args, **kwargs)\n",
        "    self.number_of_features = number_of_features\n",
        "    self.number_of_actions = number_of_actions\n",
        "#     self.parameter = np.zeros((number_of_actions, number_of_features))\n",
        "    self.parameter = np.random.rand(number_of_actions, number_of_features)\n",
        "    self.model = LinearModel(number_of_features, number_of_actions)\n",
        "\n",
        "  def q(self, state):\n",
        "    return np.dot(self.parameter, state)\n",
        "\n",
        "  def step(self, reward, discount, next_state):\n",
        "    s = self._state\n",
        "    a = self._action\n",
        "    r = reward\n",
        "    g = discount\n",
        "    next_s = next_state\n",
        "    \n",
        "    \"\"\"Update action value\"\"\"\n",
        "    # Update next action\n",
        "    self._action = self.behaviour_policy(self._state)\n",
        "\n",
        "    q_action = np.matmul(self.parameter[a, :], s)\n",
        "    q_next_state = np.amax(np.matmul(self.parameter, next_s))\n",
        "    delta = r + g * q_next_state - q_action\n",
        "    self.parameter[a, :] += self.step_size * delta * s\n",
        "    \n",
        "    # refresh replay buffer\n",
        "    self.relpay_buffer.append((s, a))\n",
        "    self.model.update(s, a, r, g, next_s)\n",
        "    \n",
        "    for i in range(self.num_offline_updates):\n",
        "      sample_index = np.random.choice(len(self.relpay_buffer))\n",
        "      s_, a_ = self.relpay_buffer[sample_index]\n",
        "      r_, g_, next_s_ = self.model.transition(s_, a_)\n",
        "      \n",
        "      _q_action = np.matmul(self.parameter[a_, :], s_)\n",
        "      _q_next_state = np.amax(np.matmul(self.parameter, next_s_))\n",
        "      _delta = r_ + g_ * _q_next_state - _q_action \n",
        "      self.parameter[a_, :] += self.step_size * _delta * s_ \n",
        "    \n",
        "    self._state = next_state\n",
        "    \n",
        "    return self._action"
      ],
      "execution_count": 0,
      "outputs": []
    },
    {
      "metadata": {
        "id": "1jZsPzCmDxAh",
        "colab_type": "text"
      },
      "cell_type": "markdown",
      "source": [
        "# Assignment 2: Analyse Results"
      ]
    },
    {
      "metadata": {
        "id": "Q5AWyVs16A-x",
        "colab_type": "text"
      },
      "cell_type": "markdown",
      "source": [
        "## 2.1 Tabular Learning"
      ]
    },
    {
      "metadata": {
        "id": "qekcmj4R5Y6J",
        "colab_type": "text"
      },
      "cell_type": "markdown",
      "source": [
        "### 2.1.1 Data Efficiency"
      ]
    },
    {
      "metadata": {
        "id": "JWutE_URvT7K",
        "colab_type": "text"
      },
      "cell_type": "markdown",
      "source": [
        "**Online Q-learning**\n",
        "\n",
        "* $\\text{number_of_steps}$ = $1e3$ and $\\text{num_offline_updates}$ = $0$"
      ]
    },
    {
      "metadata": {
        "id": "Iix-yw-MKS4Y",
        "colab_type": "code",
        "colab": {
          "autoexec": {
            "startup": false,
            "wait_interval": 0
          },
          "output_extras": [
            {
              "item_id": 1
            }
          ],
          "base_uri": "https://localhost:8080/",
          "height": 477
        },
        "outputId": "124485fa-9ca3-4de8-8df8-fbd0722ae5a0",
        "executionInfo": {
          "status": "ok",
          "timestamp": 1521585464434,
          "user_tz": 0,
          "elapsed": 1335,
          "user": {
            "displayName": "JOY WU",
            "photoUrl": "//lh6.googleusercontent.com/-tPBEt0lFVJA/AAAAAAAAAAI/AAAAAAAABm0/dJFicuVmNrg/s50-c-k-no/photo.jpg",
            "userId": "118283881385645801877"
          }
        }
      },
      "cell_type": "code",
      "source": [
        "grid = Grid()\n",
        "agent = ExperienceQ(\n",
        "  grid._layout.size, 4, grid.get_obs(),\n",
        "  random_policy, num_offline_updates=0, step_size=0.1)\n",
        "run_experiment(grid, agent, int(1e3))\n",
        "q = agent.q_values.reshape(grid._layout.shape + (4,))\n",
        "plot_action_values(q)"
      ],
      "execution_count": 31,
      "outputs": [
        {
          "output_type": "display_data",
          "data": {
            "image/png": "[encoded data removed]",
            "text/plain": [
              "<matplotlib.figure.Figure at 0x7fb022a8add0>"
            ]
          },
          "metadata": {
            "tags": []
          }
        }
      ]
    },
    {
      "metadata": {
        "id": "KZXsXJYBgC_N",
        "colab_type": "text"
      },
      "cell_type": "markdown",
      "source": [
        "**Experience Replay**\n",
        "\n",
        "* $\\text{number_of_steps}$ = $1e3$ and $\\text{num_offline_updates}$ = $0$"
      ]
    },
    {
      "metadata": {
        "id": "ASml5uAeIl4A",
        "colab_type": "code",
        "colab": {
          "autoexec": {
            "startup": false,
            "wait_interval": 0
          },
          "output_extras": [
            {
              "item_id": 1
            }
          ],
          "base_uri": "https://localhost:8080/",
          "height": 477
        },
        "outputId": "29731c16-4a49-4de3-bacc-77856bb25e5f",
        "executionInfo": {
          "status": "ok",
          "timestamp": 1521587623823,
          "user_tz": 0,
          "elapsed": 1405,
          "user": {
            "displayName": "JOY WU",
            "photoUrl": "//lh6.googleusercontent.com/-tPBEt0lFVJA/AAAAAAAAAAI/AAAAAAAABm0/dJFicuVmNrg/s50-c-k-no/photo.jpg",
            "userId": "118283881385645801877"
          }
        }
      },
      "cell_type": "code",
      "source": [
        "grid = Grid()\n",
        "agent = ExperienceQ(\n",
        "  grid._layout.size, 4, grid.get_obs(),\n",
        "  random_policy, num_offline_updates=30, step_size=0.1)\n",
        "run_experiment(grid, agent, int(1e3))\n",
        "q = agent.q_values.reshape(grid._layout.shape + (4,))\n",
        "plot_action_values(q)"
      ],
      "execution_count": 46,
      "outputs": [
        {
          "output_type": "display_data",
          "data": {
            "image/png": "[encoded data removed]",
            "text/plain": [
              "<matplotlib.figure.Figure at 0x7fb0268051d0>"
            ]
          },
          "metadata": {
            "tags": []
          }
        }
      ]
    },
    {
      "metadata": {
        "id": "dwVs2rrpwL4H",
        "colab_type": "text"
      },
      "cell_type": "markdown",
      "source": [
        "**DynaQ**\n",
        "\n",
        "* $\\text{number_of_steps}$ = $1e3$ and $\\text{num_offline_updates}$ = $30$"
      ]
    },
    {
      "metadata": {
        "id": "YG-_cjw-wRzm",
        "colab_type": "code",
        "colab": {
          "autoexec": {
            "startup": false,
            "wait_interval": 0
          },
          "output_extras": [
            {
              "item_id": 1
            }
          ],
          "base_uri": "https://localhost:8080/",
          "height": 477
        },
        "outputId": "823ebfe0-73cb-4db9-c583-1d081db69b35",
        "executionInfo": {
          "status": "ok",
          "timestamp": 1521587628158,
          "user_tz": 0,
          "elapsed": 1536,
          "user": {
            "displayName": "JOY WU",
            "photoUrl": "//lh6.googleusercontent.com/-tPBEt0lFVJA/AAAAAAAAAAI/AAAAAAAABm0/dJFicuVmNrg/s50-c-k-no/photo.jpg",
            "userId": "118283881385645801877"
          }
        }
      },
      "cell_type": "code",
      "source": [
        "grid = Grid()\n",
        "agent = DynaQ(\n",
        "  grid._layout.size, 4, grid.get_obs(),\n",
        "  random_policy, num_offline_updates=30, step_size=0.1)\n",
        "run_experiment(grid, agent, int(1e3))\n",
        "q = agent.q_values.reshape(grid._layout.shape + (4,))\n",
        "plot_action_values(q)"
      ],
      "execution_count": 47,
      "outputs": [
        {
          "output_type": "display_data",
          "data": {
            "image/png": "[encoded data removed]",
            "text/plain": [
              "<matplotlib.figure.Figure at 0x7fb026805b50>"
            ]
          },
          "metadata": {
            "tags": []
          }
        }
      ]
    },
    {
      "metadata": {
        "id": "ujZNsXFY52fi",
        "colab_type": "text"
      },
      "cell_type": "markdown",
      "source": [
        "### 2.1.2 Computational Cost\n",
        "\n",
        "What if sampling from the environment is cheap and I don't care about data efficiency but only care about the number of updates to the model?\n",
        "\n",
        "How do Online Q-learning, ExperienceReplay and Dyna-Q compare if I apply the same number of total updates?"
      ]
    },
    {
      "metadata": {
        "id": "SAdl2r7NwUF4",
        "colab_type": "text"
      },
      "cell_type": "markdown",
      "source": [
        "**Online Q-learning**\n",
        "\n",
        "* $\\text{number_of_steps}$ = $3e4$ and $\\text{num_offline_updates}$ = $0$\n",
        "\n"
      ]
    },
    {
      "metadata": {
        "id": "OVVWtGoUwiAe",
        "colab_type": "code",
        "colab": {
          "autoexec": {
            "startup": false,
            "wait_interval": 0
          },
          "output_extras": [
            {
              "item_id": 1
            },
            {
              "item_id": 2
            },
            {
              "item_id": 3
            }
          ],
          "base_uri": "https://localhost:8080/",
          "height": 745
        },
        "outputId": "60b50125-1e9a-422e-da36-e9d0f676f659",
        "executionInfo": {
          "status": "ok",
          "timestamp": 1521587637158,
          "user_tz": 0,
          "elapsed": 1481,
          "user": {
            "displayName": "JOY WU",
            "photoUrl": "//lh6.googleusercontent.com/-tPBEt0lFVJA/AAAAAAAAAAI/AAAAAAAABm0/dJFicuVmNrg/s50-c-k-no/photo.jpg",
            "userId": "118283881385645801877"
          }
        }
      },
      "cell_type": "code",
      "source": [
        "grid = Grid()\n",
        "agent = ExperienceQ(\n",
        "  grid._layout.size, 4, grid.get_obs(),\n",
        "  random_policy, num_offline_updates=0, step_size=0.1)\n",
        "run_experiment(grid, agent, int(3e4))\n",
        "q = agent.q_values.reshape(grid._layout.shape + (4,))\n",
        "plot_action_values(q)\n",
        "plot_greedy_policy(grid, q)"
      ],
      "execution_count": 48,
      "outputs": [
        {
          "output_type": "stream",
          "text": [
            "/usr/local/lib/python2.7/dist-packages/ipykernel_launcher.py:58: MatplotlibDeprecationWarning: pyplot.hold is deprecated.\n",
            "    Future behavior will be consistent with the long-time default:\n",
            "    plot commands add elements without first clearing the\n",
            "    Axes and/or Figure.\n"
          ],
          "name": "stderr"
        },
        {
          "output_type": "display_data",
          "data": {
            "image/png": "[encoded data removed]",
            "text/plain": [
              "<matplotlib.figure.Figure at 0x7fb022aa0490>"
            ]
          },
          "metadata": {
            "tags": []
          }
        },
        {
          "output_type": "display_data",
          "data": {
            "image/png": "[encoded data removed]",
            "text/plain": [
              "<matplotlib.figure.Figure at 0x7fb022aa0810>"
            ]
          },
          "metadata": {
            "tags": []
          }
        }
      ]
    },
    {
      "metadata": {
        "id": "AoO6dEZqftB1",
        "colab_type": "text"
      },
      "cell_type": "markdown",
      "source": [
        "**ExperienceReplay**\n",
        "\n",
        "* $\\text{number_of_steps}$ = $1e3$ and $\\text{num_offline_updates}$ = $30$"
      ]
    },
    {
      "metadata": {
        "id": "PuoUs8xVxady",
        "colab_type": "code",
        "colab": {
          "autoexec": {
            "startup": false,
            "wait_interval": 0
          },
          "output_extras": [
            {
              "item_id": 1
            },
            {
              "item_id": 2
            },
            {
              "item_id": 3
            }
          ],
          "base_uri": "https://localhost:8080/",
          "height": 745
        },
        "outputId": "34afcc71-e96f-44cd-bb79-015afd884280",
        "executionInfo": {
          "status": "ok",
          "timestamp": 1521587642306,
          "user_tz": 0,
          "elapsed": 1934,
          "user": {
            "displayName": "JOY WU",
            "photoUrl": "//lh6.googleusercontent.com/-tPBEt0lFVJA/AAAAAAAAAAI/AAAAAAAABm0/dJFicuVmNrg/s50-c-k-no/photo.jpg",
            "userId": "118283881385645801877"
          }
        }
      },
      "cell_type": "code",
      "source": [
        "grid = Grid()\n",
        "agent = ExperienceQ(\n",
        "  grid._layout.size, 4, grid.get_obs(),\n",
        "  random_policy, num_offline_updates=30, step_size=0.1)\n",
        "run_experiment(grid, agent, int(1e3))\n",
        "q = agent.q_values.reshape(grid._layout.shape + (4,))\n",
        "plot_action_values(q)\n",
        "plot_greedy_policy(grid, q)"
      ],
      "execution_count": 49,
      "outputs": [
        {
          "output_type": "stream",
          "text": [
            "/usr/local/lib/python2.7/dist-packages/ipykernel_launcher.py:58: MatplotlibDeprecationWarning: pyplot.hold is deprecated.\n",
            "    Future behavior will be consistent with the long-time default:\n",
            "    plot commands add elements without first clearing the\n",
            "    Axes and/or Figure.\n"
          ],
          "name": "stderr"
        },
        {
          "output_type": "display_data",
          "data": {
            "image/png": "[encoded data removed]",
            "text/plain": [
              "<matplotlib.figure.Figure at 0x7fb025837d90>"
            ]
          },
          "metadata": {
            "tags": []
          }
        },
        {
          "output_type": "display_data",
          "data": {
            "image/png": "[encoded data removed]",
            "text/plain": [
              "<matplotlib.figure.Figure at 0x7fb025837fd0>"
            ]
          },
          "metadata": {
            "tags": []
          }
        }
      ]
    },
    {
      "metadata": {
        "id": "2U-4sam12y95",
        "colab_type": "text"
      },
      "cell_type": "markdown",
      "source": [
        "**DynaQ**\n",
        "\n",
        "* $\\text{number_of_steps}$ = $1e3$ and $\\text{num_offline_updates}$ = $30$"
      ]
    },
    {
      "metadata": {
        "id": "hDOW4dd221L6",
        "colab_type": "code",
        "colab": {
          "autoexec": {
            "startup": false,
            "wait_interval": 0
          },
          "output_extras": [
            {
              "item_id": 1
            },
            {
              "item_id": 2
            },
            {
              "item_id": 3
            }
          ],
          "base_uri": "https://localhost:8080/",
          "height": 745
        },
        "outputId": "80ad2872-085b-4aa2-e777-70556fb149db",
        "executionInfo": {
          "status": "ok",
          "timestamp": 1521587647904,
          "user_tz": 0,
          "elapsed": 1799,
          "user": {
            "displayName": "JOY WU",
            "photoUrl": "//lh6.googleusercontent.com/-tPBEt0lFVJA/AAAAAAAAAAI/AAAAAAAABm0/dJFicuVmNrg/s50-c-k-no/photo.jpg",
            "userId": "118283881385645801877"
          }
        }
      },
      "cell_type": "code",
      "source": [
        "grid = Grid()\n",
        "agent = DynaQ(\n",
        "  grid._layout.size, 4, grid.get_obs(),\n",
        "  random_policy, num_offline_updates=30, step_size=0.1)\n",
        "run_experiment(grid, agent, int(1e3))\n",
        "q = agent.q_values.reshape(grid._layout.shape + (4,))\n",
        "plot_action_values(q)\n",
        "plot_greedy_policy(grid, q)"
      ],
      "execution_count": 50,
      "outputs": [
        {
          "output_type": "stream",
          "text": [
            "/usr/local/lib/python2.7/dist-packages/ipykernel_launcher.py:58: MatplotlibDeprecationWarning: pyplot.hold is deprecated.\n",
            "    Future behavior will be consistent with the long-time default:\n",
            "    plot commands add elements without first clearing the\n",
            "    Axes and/or Figure.\n"
          ],
          "name": "stderr"
        },
        {
          "output_type": "display_data",
          "data": {
            "image/png": "[encoded data removed]",
            "text/plain": [
              "<matplotlib.figure.Figure at 0x7fb0214ff790>"
            ]
          },
          "metadata": {
            "tags": []
          }
        },
        {
          "output_type": "display_data",
          "data": {
            "image/png": "[encoded data removed]",
            "text/plain": [
              "<matplotlib.figure.Figure at 0x7fb0214ff2d0>"
            ]
          },
          "metadata": {
            "tags": []
          }
        }
      ]
    },
    {
      "metadata": {
        "id": "GBLluo2AXMsH",
        "colab_type": "text"
      },
      "cell_type": "markdown",
      "source": [
        "## 2.3 Linear function approximation\n",
        "\n",
        "We will now consider the $\\text{FeatureGrid}$ domain.\n",
        "\n",
        "And evaluate $\\text{Q-learning}$, $\\text{Experience Replay}$ and $\\text{DynaQ}$, in the context of linear function approximation.\n",
        "\n",
        "All experiments are run for $\\text{number_of_steps}$ = $1e5$"
      ]
    },
    {
      "metadata": {
        "id": "cSrpV6pgcCR-",
        "colab_type": "text"
      },
      "cell_type": "markdown",
      "source": [
        "**Online Q-learning with Linear Function Approximation**"
      ]
    },
    {
      "metadata": {
        "id": "zwlRPm1uXMyv",
        "colab_type": "code",
        "colab": {
          "autoexec": {
            "startup": false,
            "wait_interval": 0
          },
          "output_extras": [
            {
              "item_id": 1
            },
            {
              "item_id": 2
            },
            {
              "item_id": 3
            }
          ],
          "base_uri": "https://localhost:8080/",
          "height": 745
        },
        "outputId": "3c540b2d-dc70-4b63-f46d-6355686b611a",
        "executionInfo": {
          "status": "ok",
          "timestamp": 1521585501053,
          "user_tz": 0,
          "elapsed": 27483,
          "user": {
            "displayName": "JOY WU",
            "photoUrl": "//lh6.googleusercontent.com/-tPBEt0lFVJA/AAAAAAAAAAI/AAAAAAAABm0/dJFicuVmNrg/s50-c-k-no/photo.jpg",
            "userId": "118283881385645801877"
          }
        }
      },
      "cell_type": "code",
      "source": [
        "grid = FeatureGrid()\n",
        "\n",
        "agent = FeatureExperienceQ(\n",
        "  number_of_features=grid.number_of_features, number_of_actions=4,\n",
        "  number_of_states=grid._layout.size, initial_state=grid.get_obs(),\n",
        "  num_offline_updates=0, step_size=0.01, behaviour_policy=random_policy)\n",
        "run_experiment(grid, agent, int(1e5))\n",
        "q = np.reshape(\n",
        "    np.array([agent.q(grid.int_to_features(i)) for i in range(grid.number_of_states)]),\n",
        "    [grid._layout.shape[0], grid._layout.shape[1], 4])\n",
        "plot_action_values(q)\n",
        "plot_greedy_policy(grid, q)"
      ],
      "execution_count": 37,
      "outputs": [
        {
          "output_type": "stream",
          "text": [
            "/usr/local/lib/python2.7/dist-packages/ipykernel_launcher.py:58: MatplotlibDeprecationWarning: pyplot.hold is deprecated.\n",
            "    Future behavior will be consistent with the long-time default:\n",
            "    plot commands add elements without first clearing the\n",
            "    Axes and/or Figure.\n"
          ],
          "name": "stderr"
        },
        {
          "output_type": "display_data",
          "data": {
            "image/png": "[encoded data removed]",
            "text/plain": [
              "<matplotlib.figure.Figure at 0x7fb025c4bd10>"
            ]
          },
          "metadata": {
            "tags": []
          }
        },
        {
          "output_type": "display_data",
          "data": {
            "image/png": "[encoded data removed]",
            "text/plain": [
              "<matplotlib.figure.Figure at 0x7fb0216ddcd0>"
            ]
          },
          "metadata": {
            "tags": []
          }
        }
      ]
    },
    {
      "metadata": {
        "id": "LguqeKO4dXBH",
        "colab_type": "text"
      },
      "cell_type": "markdown",
      "source": [
        "Experience Replay with Linear Function Approximation**"
      ]
    },
    {
      "metadata": {
        "id": "Wb6XeKzXcIsi",
        "colab_type": "code",
        "colab": {
          "autoexec": {
            "startup": false,
            "wait_interval": 0
          },
          "output_extras": [
            {
              "item_id": 1
            },
            {
              "item_id": 2
            },
            {
              "item_id": 3
            }
          ],
          "base_uri": "https://localhost:8080/",
          "height": 745
        },
        "outputId": "1c6f418e-1cd5-4542-84b0-639aae395519",
        "executionInfo": {
          "status": "ok",
          "timestamp": 1521585548205,
          "user_tz": 0,
          "elapsed": 47114,
          "user": {
            "displayName": "JOY WU",
            "photoUrl": "//lh6.googleusercontent.com/-tPBEt0lFVJA/AAAAAAAAAAI/AAAAAAAABm0/dJFicuVmNrg/s50-c-k-no/photo.jpg",
            "userId": "118283881385645801877"
          }
        }
      },
      "cell_type": "code",
      "source": [
        "grid = FeatureGrid()\n",
        "\n",
        "agent = FeatureExperienceQ(\n",
        "  number_of_features=grid.number_of_features, number_of_actions=4,\n",
        "  number_of_states=grid._layout.size, initial_state=grid.get_obs(),\n",
        "  num_offline_updates=10, step_size=0.01, behaviour_policy=random_policy)\n",
        "run_experiment(grid, agent, int(1e5))\n",
        "q = np.reshape(\n",
        "    np.array([agent.q(grid.int_to_features(i)) for i in range(grid.number_of_states)]),\n",
        "    [grid._layout.shape[0], grid._layout.shape[1], 4])\n",
        "plot_action_values(q)\n",
        "plot_greedy_policy(grid, q)"
      ],
      "execution_count": 38,
      "outputs": [
        {
          "output_type": "stream",
          "text": [
            "/usr/local/lib/python2.7/dist-packages/ipykernel_launcher.py:58: MatplotlibDeprecationWarning: pyplot.hold is deprecated.\n",
            "    Future behavior will be consistent with the long-time default:\n",
            "    plot commands add elements without first clearing the\n",
            "    Axes and/or Figure.\n"
          ],
          "name": "stderr"
        },
        {
          "output_type": "display_data",
          "data": {
            "image/png": "[encoded data removed]",
            "text/plain": [
              "<matplotlib.figure.Figure at 0x7fb0216ddb90>"
            ]
          },
          "metadata": {
            "tags": []
          }
        },
        {
          "output_type": "display_data",
          "data": {
            "image/png": "[encoded data removed]",
            "text/plain": [
              "<matplotlib.figure.Figure at 0x7fb0216ddf10>"
            ]
          },
          "metadata": {
            "tags": []
          }
        }
      ]
    },
    {
      "metadata": {
        "id": "ERjyViuj1EkS",
        "colab_type": "text"
      },
      "cell_type": "markdown",
      "source": [
        "**DynaQ with Linear Function Approximation**"
      ]
    },
    {
      "metadata": {
        "id": "DVDRVknH1MXw",
        "colab_type": "code",
        "colab": {
          "autoexec": {
            "startup": false,
            "wait_interval": 0
          },
          "output_extras": [
            {
              "item_id": 1
            },
            {
              "item_id": 2
            },
            {
              "item_id": 3
            }
          ],
          "base_uri": "https://localhost:8080/",
          "height": 745
        },
        "outputId": "7f3ba44d-fb16-41e4-8d24-7b7a2b810ecc",
        "executionInfo": {
          "status": "ok",
          "timestamp": 1521586080166,
          "user_tz": 0,
          "elapsed": 80252,
          "user": {
            "displayName": "JOY WU",
            "photoUrl": "//lh6.googleusercontent.com/-tPBEt0lFVJA/AAAAAAAAAAI/AAAAAAAABm0/dJFicuVmNrg/s50-c-k-no/photo.jpg",
            "userId": "118283881385645801877"
          }
        }
      },
      "cell_type": "code",
      "source": [
        "grid = FeatureGrid()\n",
        "\n",
        "agent = FeatureDynaQ(\n",
        "  number_of_features=grid.number_of_features, \n",
        "  number_of_actions=4,\n",
        "  number_of_states=grid._layout.size, \n",
        "  initial_state=grid.get_obs(),\n",
        "  num_offline_updates=10, \n",
        "  step_size=0.01,\n",
        "  behaviour_policy=random_policy)\n",
        "\n",
        "run_experiment(grid, agent, int(1e5))\n",
        "q = np.reshape(\n",
        "    np.array([agent.q(grid.int_to_features(i)) for i in range(grid.number_of_states)]),\n",
        "    [grid._layout.shape[0], grid._layout.shape[1], 4])\n",
        "plot_action_values(q)\n",
        "plot_greedy_policy(grid, q)"
      ],
      "execution_count": 45,
      "outputs": [
        {
          "output_type": "stream",
          "text": [
            "/usr/local/lib/python2.7/dist-packages/ipykernel_launcher.py:58: MatplotlibDeprecationWarning: pyplot.hold is deprecated.\n",
            "    Future behavior will be consistent with the long-time default:\n",
            "    plot commands add elements without first clearing the\n",
            "    Axes and/or Figure.\n"
          ],
          "name": "stderr"
        },
        {
          "output_type": "display_data",
          "data": {
            "image/png": "[encoded data removed]",
            "text/plain": [
              "<matplotlib.figure.Figure at 0x7fb025ad5210>"
            ]
          },
          "metadata": {
            "tags": []
          }
        },
        {
          "output_type": "display_data",
          "data": {
            "image/png": "[encoded data removed]",
            "text/plain": [
              "<matplotlib.figure.Figure at 0x7fb025ad5f50>"
            ]
          },
          "metadata": {
            "tags": []
          }
        }
      ]
    },
    {
      "metadata": {
        "id": "arP0Nf0XUGrB",
        "colab_type": "text"
      },
      "cell_type": "markdown",
      "source": [
        "## 2.4 Non stationary Environments\n",
        "\n",
        "We now consider a non-stationary setting where after `pretrain_steps` in the environment, the goal is moved to a new location (from the top-right of the grid to the bottom-left).\n",
        "\n",
        "The agent is allowed to continue training for a (shorter) amount of time in this new setting, and then we evaluate the value estimates."
      ]
    },
    {
      "metadata": {
        "id": "Hjhd4kylg-BA",
        "colab_type": "code",
        "colab": {
          "autoexec": {
            "startup": false,
            "wait_interval": 0
          }
        }
      },
      "cell_type": "code",
      "source": [
        "pretrain_steps = 2e4\n",
        "new_env_steps = pretrain_steps / 30"
      ],
      "execution_count": 0,
      "outputs": []
    },
    {
      "metadata": {
        "id": "K1kJZmOgX7du",
        "colab_type": "text"
      },
      "cell_type": "markdown",
      "source": [
        "**Online Q-learning**"
      ]
    },
    {
      "metadata": {
        "id": "6P9lC323X7uH",
        "colab_type": "code",
        "colab": {
          "autoexec": {
            "startup": false,
            "wait_interval": 0
          },
          "output_extras": [
            {
              "item_id": 1
            }
          ],
          "base_uri": "https://localhost:8080/",
          "height": 259
        },
        "outputId": "9032f5d3-bf69-4dd6-b19a-5be91d8f8d22",
        "executionInfo": {
          "status": "ok",
          "timestamp": 1521585630413,
          "user_tz": 0,
          "elapsed": 817,
          "user": {
            "displayName": "JOY WU",
            "photoUrl": "//lh6.googleusercontent.com/-tPBEt0lFVJA/AAAAAAAAAAI/AAAAAAAABm0/dJFicuVmNrg/s50-c-k-no/photo.jpg",
            "userId": "118283881385645801877"
          }
        }
      },
      "cell_type": "code",
      "source": [
        "# Train on first environment\n",
        "grid = Grid()\n",
        "agent = ExperienceQ(\n",
        "  grid._layout.size, 4, grid.get_obs(),\n",
        "  random_policy, num_offline_updates=0, step_size=0.1)\n",
        "run_experiment(grid, agent, int(pretrain_steps))\n",
        "q = agent.q_values.reshape(grid._layout.shape + (4,))\n",
        "# plot_state_value(q)\n",
        "\n",
        "# Change goal location\n",
        "alt_grid = AltGrid()\n",
        "run_experiment(alt_grid, agent, int(new_env_steps))\n",
        "alt_q = agent.q_values.reshape(alt_grid._layout.shape + (4,))\n",
        "plot_state_value(alt_q)"
      ],
      "execution_count": 41,
      "outputs": [
        {
          "output_type": "display_data",
          "data": {
            "image/png": "[encoded data removed]",
            "text/plain": [
              "<matplotlib.figure.Figure at 0x7fb0262a1d90>"
            ]
          },
          "metadata": {
            "tags": []
          }
        }
      ]
    },
    {
      "metadata": {
        "id": "z0UeIltFc3lR",
        "colab_type": "text"
      },
      "cell_type": "markdown",
      "source": [
        "**Experience Replay**"
      ]
    },
    {
      "metadata": {
        "id": "bq5msw1iY-Q5",
        "colab_type": "code",
        "colab": {
          "autoexec": {
            "startup": false,
            "wait_interval": 0
          },
          "output_extras": [
            {
              "item_id": 1
            }
          ],
          "base_uri": "https://localhost:8080/",
          "height": 259
        },
        "outputId": "af62e451-4aaa-4f56-dcaf-be9b8b0adc91",
        "executionInfo": {
          "status": "ok",
          "timestamp": 1521585636364,
          "user_tz": 0,
          "elapsed": 5898,
          "user": {
            "displayName": "JOY WU",
            "photoUrl": "//lh6.googleusercontent.com/-tPBEt0lFVJA/AAAAAAAAAAI/AAAAAAAABm0/dJFicuVmNrg/s50-c-k-no/photo.jpg",
            "userId": "118283881385645801877"
          }
        }
      },
      "cell_type": "code",
      "source": [
        "# Train on first environment\n",
        "grid = Grid()\n",
        "agent = ExperienceQ(\n",
        "  grid._layout.size, 4, grid.get_obs(),\n",
        "  random_policy, num_offline_updates=30, step_size=0.1)\n",
        "run_experiment(grid, agent, int(pretrain_steps))\n",
        "q = agent.q_values.reshape(grid._layout.shape + (4,))\n",
        "# plot_state_value(q)\n",
        "\n",
        "# Change goal location\n",
        "alt_grid = AltGrid()\n",
        "run_experiment(alt_grid, agent, int(new_env_steps))\n",
        "alt_q = agent.q_values.reshape(alt_grid._layout.shape + (4,))\n",
        "plot_state_value(alt_q)"
      ],
      "execution_count": 42,
      "outputs": [
        {
          "output_type": "display_data",
          "data": {
            "image/png": "[encoded data removed]",
            "text/plain": [
              "<matplotlib.figure.Figure at 0x7fb0262f2150>"
            ]
          },
          "metadata": {
            "tags": []
          }
        }
      ]
    },
    {
      "metadata": {
        "id": "uPHiZc0-X26F",
        "colab_type": "text"
      },
      "cell_type": "markdown",
      "source": [
        "**Dyna**"
      ]
    },
    {
      "metadata": {
        "id": "AwztU4EbUXe0",
        "colab_type": "code",
        "colab": {
          "autoexec": {
            "startup": false,
            "wait_interval": 0
          },
          "output_extras": [
            {
              "item_id": 1
            }
          ],
          "base_uri": "https://localhost:8080/",
          "height": 259
        },
        "outputId": "46b62857-9287-4f4f-8017-969f4b7da709",
        "executionInfo": {
          "status": "ok",
          "timestamp": 1521585642647,
          "user_tz": 0,
          "elapsed": 6239,
          "user": {
            "displayName": "JOY WU",
            "photoUrl": "//lh6.googleusercontent.com/-tPBEt0lFVJA/AAAAAAAAAAI/AAAAAAAABm0/dJFicuVmNrg/s50-c-k-no/photo.jpg",
            "userId": "118283881385645801877"
          }
        }
      },
      "cell_type": "code",
      "source": [
        "# Train on first environment\n",
        "grid = Grid()\n",
        "agent = DynaQ(\n",
        "  grid._layout.size, 4, grid.get_obs(),\n",
        "  random_policy, num_offline_updates=30, step_size=0.1)\n",
        "run_experiment(grid, agent, int(pretrain_steps))\n",
        "q = agent.q_values.reshape(grid._layout.shape + (4,))\n",
        "# plot_state_value(q)\n",
        "\n",
        "# Change goal location\n",
        "alt_grid = AltGrid()\n",
        "run_experiment(alt_grid, agent, int(new_env_steps))\n",
        "alt_q = agent.q_values.reshape(alt_grid._layout.shape + (4,))\n",
        "plot_state_value(alt_q)"
      ],
      "execution_count": 43,
      "outputs": [
        {
          "output_type": "display_data",
          "data": {
            "image/png": "[encoded data removed]",
            "text/plain": [
              "<matplotlib.figure.Figure at 0x7fb0262f2c10>"
            ]
          },
          "metadata": {
            "tags": []
          }
        }
      ]
    },
    {
      "metadata": {
        "id": "LGptHwE23lmP",
        "colab_type": "text"
      },
      "cell_type": "markdown",
      "source": [
        "## Questions\n",
        "\n",
        "### Basic Tabular Learning\n",
        "\n",
        "**[5 pts]** Why is the ExperienceReplay agent so much more data efficient than online Q-learning?\n",
        "\n",
        "Answer: \n",
        "\n",
        "    ExperienceReplay agent use previous experience, and learn with it multiple times. This is key when gaining experience is costly, you can get full use of it. The Q-learning updates are incremental and do not converge quickly, so multiple passes with the same data is beneficial, especially when there is low variance in immediate outcomes (reward, next state) given the same state, action pair.\n",
        "\n",
        "**[5 pts]** If we run the experiments for the same number of updates, rather than the same number of steps in the environment, which among online Q-learning and Experience Replay performs better? Why?\n",
        "\n",
        "Answer: \n",
        "\n",
        "    When the number of updates is same, online Q-learning will perform better.\n",
        "    \n",
        "    For online Q-learning, it update once per step, and it always update the latest experience. For experience Replay, it learnt old experience many times in one step. If the number of update is same, online Q-learning can have more steps, and it means it can not have more experience, so it perform better than experience replay.\n",
        "\n",
        "**[5 pts]** Which among online Q-learning and Dyna-Q is more data efficient? why?\n",
        "\n",
        "Answer: \n",
        "    \n",
        "    Dyna-Q have more data efficient.\n",
        "\n",
        "    Dyna-Q  agent use previous experience, and learn with it multiple times. The difference between Dyna-Q and experience replay is the value in transition of Dyna-Q will update if new experience input. The Q-learning updates are incremental and do not converge quickly, so multiple passes with the same data is beneficial, especially when there is low variance in immediate outcomes (reward, next state) given the same state, action pair.\n",
        "\n",
        "**[5 pts]** If we run the experiments for the same number of updates, rather than the same number of steps in the environment, which among online Q-learning and Dyna-Q performs better? Why?\n",
        "\n",
        "Answer: \n",
        "\n",
        "    When the number of updates is same, online Q-learning will perform better. Although Dyna-Q  perform good, but it is not stable, whereas online Q-learning is good and stable.\n",
        "    \n",
        "    For online Q-learning, it update once per step, and it always update the latest experience, so it is incremental. For Dyna-Q, it learnt old experience many times in one step. It update transition  when replay bufffer update. However, if the number of update is same, online Q-learning can have more steps, and it means it can not have more experience, and it may cause part of action value converge quickly, but it is not stable for training process.\n",
        "\n",
        "### Linear function approximation\n",
        "\n",
        "**[5 pts]** The value estimates with function approximation are considerably more blurry than in the tabular setting despite more training steps and interactions with the environment, why is this the case?\n",
        "\n",
        "Answer: \n",
        "\n",
        "    When the value estimates with function approximation, the predicted reward, discount and next state will all be a linear function of the state. However, in the real world, predicted reward, discount and next state may be non-linear model, and Our feature selection is not perfect to provide enough information and can not perfectly represent each state, so linear function can not converge action value exactly, so the lineae model is more blurry than the tabublar model. \n",
        "\n",
        "**[5 pts]** Inspect the policies derived by training agents with linear function approximation on `FeatureGrid` (as shown by `plot_greedy_policy`). How does this compare to the optimal policy? Are there any inconsistencies you can spot? What is the reason of these?\n",
        "\n",
        "Answer:\n",
        "\n",
        "    It is obvious that the policy does not converge to the optimal policy. Even near the goal location, the policy shows wrong action. Becasuse the approximation accuracy is fundamentally limited by the information provided by the features. Hence, the feature selection is not perfect to provide enough information and can not perfectly represent each state.\n",
        "\n",
        "### Learning in a non stationary environment\n",
        "\n",
        "Consider now the tabular but non-stationary setting of section 2.4.\n",
        "\n",
        "After an initial pretraining phase, the goal location is moved to a new location, where the agent is allowed to train for some (shorter) time.\n",
        "\n",
        "**[10 pts]** Compare the value estimates of online Q-learning and Experience Replay, after training also on the new goal location, explain what you see.\n",
        "\n",
        "Answer:\n",
        "\n",
        "    Compare the value estimates of online Q-learning and Experience Replay, although both  online Q-learning and Experience Replay perform bad when the goal moved to a new location, but online Q-learning perform better. \n",
        "    \n",
        "    For online q-learning, it can be found that the action values around of new goal location has increased sightly. The Q-learning updates are incremental and do not converge quickly, and it update once in per step. Shorter time is not enough for Q-learning to find a new goal, and it did not converge as well. \n",
        "    \n",
        "    For experience Replay, the action value figure almost same as before (no new goal added). In training process(old goal), the replay buffer keep adding new experience. After goal location moving to new location, there are too much old experience in replay buffer. Hence, in short training time, replay buffer just have few new exprience(to new goal). In the loop repeat, the training data (random in replay buffer) lead the action value to old goal because of very litte new experience in replay buffer. \n",
        "\n",
        "**[10 pts]** Compare the value estimates of online Q-learning and Dyna-Q, after training also on the new goal location, explain what you see.\n",
        "\n",
        "Back up your observations with visualizations of the value/policy.\n",
        "\n",
        "Answer:\n",
        "\n",
        "    Compare the value estimates of online Q-learning and Dyna-Q, Dyna-Q perform better. \n",
        "    \n",
        "    For online q-learning, it can be found that the action values around of new goal location has increased sightly. The Q-learning updates are incremental and do not converge quickly, and it update once in per step. Shorter time is not enough for Q-learning to find a new goal, and it did not converge as well. \n",
        "    \n",
        "    For Dyna-Q, the action values around new goal have high values. In training process, although the replay buffer keep adding new experience, the transition will update discount, reward and next_state if same state and action are added in replay buffer, so Dyna-Q always learning the latest experience from model. After goal location moving to new location, when new expericence (new goal) add in replay buffer, the old experience (old goal) will be updated. In each step, the repeat loop update the action value, so the result is acceptable.\n",
        "    \n",
        "\n"
      ]
    }
  ]
}