{
  "nbformat": 4,
  "nbformat_minor": 0,
  "metadata": {
    "colab": {
      "name": "17040772_ucldm_rl2.ipynb",
      "version": "0.3.2",
      "views": {},
      "default_view": {},
      "provenance": [
        {
          "file_id": "1Ldj742iIDtvjYKKwENvrpTQ3Hm2wrqIg",
          "timestamp": 1517862636703
        },
        {
          "file_id": "1FwMxkDPkt68fxovrMmmWwm6ohYvX2wt1",
          "timestamp": 1517660129183
        },
        {
          "file_id": "1wwTq5nociiMHUb26jxrvZvGN6l11xV5o",
          "timestamp": 1517174839485
        },
        {
          "file_id": "1_gJNoj9wG4mnigscGRAcZx7RHix3HCjG",
          "timestamp": 1515086437469
        },
        {
          "file_id": "1hcBeMVfaSh8g1R2ujtmxOSHoxJ8xYkaW",
          "timestamp": 1511098107887
        }
      ],
      "collapsed_sections": []
    }
  },
  "cells": [
    {
      "metadata": {
        "id": "pYs6LMEbNqoQ",
        "colab_type": "text"
      },
      "cell_type": "markdown",
      "source": [
        "# RL homework 2\n",
        "**Due date: 26 February 2018, 23:55am **"
      ]
    },
    {
      "metadata": {
        "id": "6Sns0IKYNtsA",
        "colab_type": "text"
      },
      "cell_type": "markdown",
      "source": [
        "## How to submit\n",
        "\n",
        "When you have completed the exercises and everything has finished running, click on 'File' in the menu-bar and then 'Download .ipynb'. This file must be submitted to Moodle named as **`<student_id>_ucldm_rl2.ipynb`** before the deadline above.\n",
        "\n",
        "Do not forget to include the PDF version on the .zip submitted in Moodle.\n",
        "\n",
        "Also send a sharable link to the notebook at the following email: **`ucl.coursework.submit@gmail.com`**"
      ]
    },
    {
      "metadata": {
        "id": "9v_SYckYfv5G",
        "colab_type": "text"
      },
      "cell_type": "markdown",
      "source": [
        "## Context\n",
        "\n",
        "In this assignment, we will take a first look at learning decisions from data.  For this, we will use the multi-armed bandit framework.\n",
        "\n",
        "## Background reading\n",
        "\n",
        "* Sutton and Barto (2018), Chapters 3 - 6"
      ]
    },
    {
      "metadata": {
        "id": "rNuohp44N00i",
        "colab_type": "text"
      },
      "cell_type": "markdown",
      "source": [
        "# The Assignment\n",
        "\n",
        "### Objectives\n",
        "\n",
        "You will use Python to implement several reinforcement learning algorithms.\n",
        "\n",
        "You will then run these algorithms on a few problems, to understand their properties."
      ]
    },
    {
      "metadata": {
        "id": "ztQEQvnKh2t6",
        "colab_type": "text"
      },
      "cell_type": "markdown",
      "source": [
        "# Setup"
      ]
    },
    {
      "metadata": {
        "id": "qB0tQ4aiAaIu",
        "colab_type": "text"
      },
      "cell_type": "markdown",
      "source": [
        "### Import Useful Libraries"
      ]
    },
    {
      "metadata": {
        "id": "YzYtxi8Wh5SJ",
        "colab_type": "code",
        "colab": {
          "autoexec": {
            "startup": false,
            "wait_interval": 0
          }
        }
      },
      "cell_type": "code",
      "source": [
        "import matplotlib.pyplot as plt\n",
        "import numpy as np\n",
        "from collections import namedtuple"
      ],
      "execution_count": 0,
      "outputs": []
    },
    {
      "metadata": {
        "id": "6NDhSYfSDcCC",
        "colab_type": "text"
      },
      "cell_type": "markdown",
      "source": [
        "### Set options"
      ]
    },
    {
      "metadata": {
        "id": "Ps5OnkPmDbMX",
        "colab_type": "code",
        "colab": {
          "autoexec": {
            "startup": false,
            "wait_interval": 0
          }
        }
      },
      "cell_type": "code",
      "source": [
        "np.set_printoptions(precision=3, suppress=1)\n",
        "plt.style.use('seaborn-notebook')"
      ],
      "execution_count": 0,
      "outputs": []
    },
    {
      "metadata": {
        "id": "ALrRR76eAd6u",
        "colab_type": "text"
      },
      "cell_type": "markdown",
      "source": [
        "### A grid world"
      ]
    },
    {
      "metadata": {
        "id": "YP97bVN3NuG8",
        "colab_type": "code",
        "colab": {
          "autoexec": {
            "startup": false,
            "wait_interval": 0
          }
        }
      },
      "cell_type": "code",
      "source": [
        "class Grid(object):\n",
        "\n",
        "  def __init__(self, noisy=False):\n",
        "    # -1: wall\n",
        "    # 0: empty, episode continues\n",
        "    # other: number indicates reward, episode will terminate\n",
        "    self._layout = np.array([\n",
        "      [-1, -1, -1, -1, -1, -1, -1, -1, -1, -1, -1],\n",
        "      [-1,  0,  0,  0,  0,  0,  0,  0,  0,  0, -1],\n",
        "      [-1,  0,  0,  0, -1, -1, -1,  0,  0,  0, -1],\n",
        "      [-1,  0,  0,  0, -1, -1, -1,  0, 10,  0, -1],\n",
        "      [-1,  0,  0,  0, -1, -1, -1,  0,  0,  0, -1],\n",
        "      [-1,  0,  0,  0,  0,  0,  0,  0,  0,  0, -1],\n",
        "      [-1,  0,  0,  0,  0,  0,  0,  0,  0,  0, -1],\n",
        "      [-1,  0,  0,  0,  0,  0,  0,  0,  0,  0, -1],\n",
        "      [-1, -1, -1, -1, -1, -1, -1, -1, -1, -1, -1]\n",
        "    ])\n",
        "    self._start_state = (2, 2)\n",
        "    self._state = self._start_state\n",
        "    self._number_of_states = np.prod(np.shape(self._layout))\n",
        "    self._noisy = noisy\n",
        "\n",
        "  @property\n",
        "  def number_of_states(self):\n",
        "      return self._number_of_states\n",
        "    \n",
        "  def plot_grid(self):\n",
        "    plt.figure(figsize=(4, 4))\n",
        "    plt.imshow(self._layout > -1, interpolation=\"nearest\", cmap='pink')\n",
        "    ax = plt.gca()\n",
        "    ax.grid(0)\n",
        "    plt.xticks([])\n",
        "    plt.yticks([])\n",
        "    plt.title(\"The grid\")\n",
        "    plt.text(2, 2, r\"$\\mathbf{S}$\", ha='center', va='center')\n",
        "    plt.text(8, 3, r\"$\\mathbf{G}$\", ha='center', va='center')\n",
        "    h, w = self._layout.shape\n",
        "    for y in range(h-1):\n",
        "      plt.plot([-0.5, w-0.5], [y+0.5, y+0.5], '-k', lw=2)\n",
        "    for x in range(w-1):\n",
        "      plt.plot([x+0.5, x+0.5], [-0.5, h-0.5], '-k', lw=2)\n",
        "\n",
        "  \n",
        "  def get_obs(self):\n",
        "    y, x = self._state\n",
        "    return y*self._layout.shape[1] + x\n",
        "\n",
        "  def obs_to_state(obs):\n",
        "    x = obs % self._layout.shape[1]\n",
        "    y = obs // self._layout.shape[1]\n",
        "    s = np.copy(grid._layout)\n",
        "    s[y, x] = 4\n",
        "    return s\n",
        "\n",
        "  def step(self, action):\n",
        "    y, x = self._state\n",
        "    \n",
        "    if action == 0:  # up\n",
        "      new_state = (y - 1, x)\n",
        "    elif action == 1:  # right\n",
        "      new_state = (y, x + 1)\n",
        "    elif action == 2:  # down\n",
        "      new_state = (y + 1, x)\n",
        "    elif action == 3:  # left\n",
        "      new_state = (y, x - 1)\n",
        "    else:\n",
        "      raise ValueError(\"Invalid action: {} is not 0, 1, 2, or 3.\".format(action))\n",
        "\n",
        "    new_y, new_x = new_state\n",
        "    if self._layout[new_y, new_x] == -1:  # wall\n",
        "      reward = -5.\n",
        "      discount = 0.9\n",
        "      new_state = (y, x)\n",
        "    elif self._layout[new_y, new_x] == 0:  # empty cell\n",
        "      reward = 0.\n",
        "      discount = 0.9\n",
        "    else:  # a goal\n",
        "      reward = self._layout[new_y, new_x]\n",
        "      discount = 0.\n",
        "      new_state = self._start_state\n",
        "    if self._noisy:\n",
        "      width = self._layout.shape[1]\n",
        "      reward += 2*np.random.normal(0, width - new_x + new_y)\n",
        "    \n",
        "    self._state = new_state\n",
        "\n",
        "    return reward, discount, self.get_obs()"
      ],
      "execution_count": 0,
      "outputs": []
    },
    {
      "metadata": {
        "id": "cOu9RZY3AkF1",
        "colab_type": "text"
      },
      "cell_type": "markdown",
      "source": [
        "### Helper functions"
      ]
    },
    {
      "metadata": {
        "id": "6EttQGJ1n5Zn",
        "colab_type": "code",
        "colab": {
          "autoexec": {
            "startup": false,
            "wait_interval": 0
          }
        }
      },
      "cell_type": "code",
      "source": [
        "def run_experiment(env, agent, number_of_steps):\n",
        "    mean_reward = 0.\n",
        "    try:\n",
        "      action = agent.initial_action()\n",
        "    except AttributeError:\n",
        "      action = 0\n",
        "    for i in range(number_of_steps):\n",
        "      reward, discount, next_state = grid.step(action)\n",
        "      action = agent.step(reward, discount, next_state)\n",
        "      mean_reward += (reward - mean_reward)/(i + 1.)\n",
        "\n",
        "    return mean_reward\n",
        "\n",
        "map_from_action_to_subplot = lambda a: (2, 6, 8, 4)[a]\n",
        "map_from_action_to_name = lambda a: (\"up\", \"right\", \"down\", \"left\")[a]\n",
        "\n",
        "def plot_values(values, colormap='pink', vmin=0, vmax=10):\n",
        "  plt.imshow(values, interpolation=\"nearest\", cmap=colormap, vmin=vmin, vmax=vmax)\n",
        "  plt.yticks([])\n",
        "  plt.xticks([])\n",
        "  plt.colorbar(ticks=[vmin, vmax])\n",
        "\n",
        "def plot_action_values(action_values, vmin=0, vmax=10):\n",
        "  q = action_values\n",
        "  fig = plt.figure(figsize=(8, 8))\n",
        "  fig.subplots_adjust(wspace=0.3, hspace=0.3)\n",
        "  for a in [0, 1, 2, 3]:\n",
        "    plt.subplot(3, 3, map_from_action_to_subplot(a))\n",
        "    plot_values(q[..., a], vmin=vmin, vmax=vmax)\n",
        "    action_name = map_from_action_to_name(a)\n",
        "    plt.title(r\"$q(s, \\mathrm{\" + action_name + r\"})$\")\n",
        "    \n",
        "  plt.subplot(3, 3, 5)\n",
        "  v = 0.9 * np.max(q, axis=-1) + 0.1 * np.mean(q, axis=-1)\n",
        "  plot_values(v, colormap='summer', vmin=vmin, vmax=vmax)\n",
        "  plt.title(\"$v(s)$\")\n",
        "\n",
        "\n",
        "def plot_rewards(xs, rewards, color):\n",
        "  mean = np.mean(rewards, axis=0)\n",
        "  p90 = np.percentile(rewards, 90, axis=0)\n",
        "  p10 = np.percentile(rewards, 10, axis=0)\n",
        "  plt.plot(xs, mean, color=color, alpha=0.6)\n",
        "  plt.fill_between(xs, p90, p10, color=color, alpha=0.3)\n",
        "  \n",
        "\n",
        "def parameter_study(parameter_values, parameter_name,\n",
        "  agent_constructor, env_constructor, color, repetitions=10, number_of_steps=int(1e4)):\n",
        "  mean_rewards = np.zeros((repetitions, len(parameter_values)))\n",
        "  greedy_rewards = np.zeros((repetitions, len(parameter_values)))\n",
        "  for rep in range(repetitions):\n",
        "    for i, p in enumerate(parameter_values):\n",
        "      env = env_constructor()\n",
        "      agent = agent_constructor()\n",
        "      if 'eps' in parameter_name:\n",
        "        agent.set_epsilon(p)\n",
        "      elif 'alpha' in parameter_name:\n",
        "        agent._step_size = p\n",
        "      else:\n",
        "        raise NameError(\"Unknown parameter_name: {}\".format(parameter_name))\n",
        "      mean_rewards[rep, i] = run_experiment(grid, agent, number_of_steps)\n",
        "      agent.set_epsilon(0.)\n",
        "      agent._step_size = 0.\n",
        "      greedy_rewards[rep, i] = run_experiment(grid, agent, number_of_steps//10)\n",
        "      del env\n",
        "      del agent\n",
        "\n",
        "  plt.subplot(1, 2, 1)\n",
        "  plot_rewards(parameter_values, mean_rewards, color)\n",
        "  plt.yticks=([0, 1], [0, 1])\n",
        "  # plt.ylim((0, 1.5))\n",
        "  plt.ylabel(\"Average reward over first {} steps\".format(number_of_steps), size=12)\n",
        "  plt.xlabel(parameter_name, size=12)\n",
        "\n",
        "  plt.subplot(1, 2, 2)\n",
        "  plot_rewards(parameter_values, greedy_rewards, color)\n",
        "  plt.yticks=([0, 1], [0, 1])\n",
        "  # plt.ylim((0, 1.5))\n",
        "  plt.ylabel(\"Final rewards, with greedy policy\".format(number_of_steps), size=12)\n",
        "  plt.xlabel(parameter_name, size=12)\n",
        "\n",
        "  \n",
        "# If epsilon = 0.1, so 90% return max action value, and 10% return random value \n",
        "def epsilon_greedy(q_values, epsilon):\n",
        "  if epsilon < np.random.random():\n",
        "    return np.argmax(q_values)\n",
        "  else:\n",
        "    return np.random.randint(np.array(q_values).shape[-1])"
      ],
      "execution_count": 0,
      "outputs": []
    },
    {
      "metadata": {
        "id": "ScJLPzB82mBu",
        "colab_type": "code",
        "colab": {
          "autoexec": {
            "startup": false,
            "wait_interval": 0
          },
          "output_extras": [
            {
              "item_id": 1
            }
          ],
          "base_uri": "https://localhost:8080/",
          "height": 35
        },
        "outputId": "74bad424-66fb-4c48-b09c-c3c09be3927e",
        "executionInfo": {
          "status": "ok",
          "timestamp": 1519502863090,
          "user_tz": 0,
          "elapsed": 598,
          "user": {
            "displayName": "JOY WU",
            "photoUrl": "https://lh3.googleusercontent.com/a/default-user=s128",
            "userId": "118283881385645801877"
          }
        }
      },
      "cell_type": "code",
      "source": [
        " np.random.randint(np.array([1, 2, 3,4]).shape[-1])"
      ],
      "execution_count": 5,
      "outputs": [
        {
          "output_type": "execute_result",
          "data": {
            "text/plain": [
              "0"
            ]
          },
          "metadata": {
            "tags": []
          },
          "execution_count": 5
        }
      ]
    },
    {
      "metadata": {
        "id": "fzpb_dGVjT0O",
        "colab_type": "text"
      },
      "cell_type": "markdown",
      "source": [
        "# Part 1: Implement agents\n",
        "\n",
        "Each agent, should implement a step function:\n",
        "\n",
        "### `step(self, reward, discount, next_observation, ...)`:\n",
        "where `...` indicates there could be other inputs (discussed below).  The step should update the internal values, and return a new action to take.\n",
        "\n",
        "When the discount is zero ($\\text{discount} = \\gamma = 0$), then the `next_observation` will be the initial observation of the next episode.  One shouldn't bootstrap on the value of this state, which can simply be guaranteed when using \"$\\gamma \\cdot v(\\text{next_observation})$\" (for whatever definition of $v$ is appropriate) in the update, because $\\gamma = 0$.  So, the end of an episode can be seamlessly handled with the same step function.\n",
        "\n",
        "### `__init__(self, number_of_actions, number_of_states, initial_observation)`:\n",
        "The constructor will provide the agent the number of actions, number of states, and the initial observation. You can get the initial observation by first instatiating an environment, using `grid = Grid()`, and then calling `grid.get_obs()`.\n",
        "\n",
        "In this assignment, observations will be states in the environment, so the agent state, environment state, and observation will overlap, and we will use the word `state` interchangably with `observation`.\n",
        "\n",
        "All agents should be in pure Python - so you cannot use TensorFlow to, e.g., compute gradients.  Using `numpy` is fine.\n",
        "\n",
        "### A note on the initial action\n",
        "Normally, you would also have to implement a method that gives the initial action, based on the initial state.  In our experiments the helper functions above will just use the action `0` (which corresponds to `up`) as initial action, so that otherwise we do not have to worry about this.  Note that this initial action is only executed once, and the beginning of the first episode---not at the beginning of each episode.\n",
        "\n",
        "Some algorithms (Q-learning, Sarsa) need to remember the last action in order to update its value when they see the next state.  In the `__init__`, make sure you set the initial action to zero, e.g.,\n",
        "```\n",
        "def __init__(...):\n",
        "  (...)\n",
        "  self._last_action = 0\n",
        "  (...)\n",
        "```\n"
      ]
    },
    {
      "metadata": {
        "id": "UaGeLcsvixmt",
        "colab_type": "text"
      },
      "cell_type": "markdown",
      "source": [
        "### The grid\n",
        "\n",
        "The cell below shows the `Grid` environment that we will use. Here `S` indicates the start state and `G` indicates the goal.  The agent has four possible actions: up, right, down, and left.  Rewards are: `-5` for bumping into a wall, `+10` for reaching the goal, and `0` otherwise.  The episode ends when the agent reaches the goal, and otherwise continues.  The discount, on continuing steps, is $\\gamma = 0.9$.  Feel free to reference the implemetation of the `Grid` above, under the header \"a grid world\"."
      ]
    },
    {
      "metadata": {
        "id": "SlFuWFzIi5uB",
        "colab_type": "code",
        "colab": {
          "autoexec": {
            "startup": false,
            "wait_interval": 0
          },
          "output_extras": [
            {
              "item_id": 1
            }
          ],
          "base_uri": "https://localhost:8080/",
          "height": 230
        },
        "outputId": "2c0ab891-f915-431e-c294-4f89b0c0d053",
        "executionInfo": {
          "status": "ok",
          "timestamp": 1519502863746,
          "user_tz": 0,
          "elapsed": 562,
          "user": {
            "displayName": "JOY WU",
            "photoUrl": "https://lh3.googleusercontent.com/a/default-user=s128",
            "userId": "118283881385645801877"
          }
        }
      },
      "cell_type": "code",
      "source": [
        "grid = Grid()\n",
        "grid.plot_grid()"
      ],
      "execution_count": 6,
      "outputs": [
        {
          "output_type": "display_data",
          "data": {
            "image/png": "[encoded data removed]",
            "text/plain": [
              "<matplotlib.figure.Figure at 0x7f171e3a2c10>"
            ]
          },
          "metadata": {
            "tags": []
          }
        }
      ]
    },
    {
      "metadata": {
        "id": "j2N2gd11Qctt",
        "colab_type": "text"
      },
      "cell_type": "markdown",
      "source": [
        "## Random agent"
      ]
    },
    {
      "metadata": {
        "id": "Vkbzl48jQcFn",
        "colab_type": "code",
        "colab": {
          "autoexec": {
            "startup": false,
            "wait_interval": 0
          }
        }
      },
      "cell_type": "code",
      "source": [
        "# For reference: here is a random agent\n",
        "class Random(object):\n",
        "\n",
        "  def __init__(self, number_of_actions, number_of_states, initial_state):\n",
        "    self._number_of_actions = number_of_actions\n",
        "\n",
        "  def step(self, reward, discount, next_state):\n",
        "    next_action = np.random.randint(number_of_actions)\n",
        "    return next_action"
      ],
      "execution_count": 0,
      "outputs": []
    },
    {
      "metadata": {
        "id": "B8oKd0oyvNcH",
        "colab_type": "text"
      },
      "cell_type": "markdown",
      "source": [
        "\n",
        "## Agent 1: TD learning\n",
        "**[5 pts]** Implement an agent that behaves randomly, but that _on-policy_ estimates state values $v(s)$, using one-step TD learning with a step size $\\alpha=0.1$.\n",
        "\n",
        "Also implement `get_values(self)` that returns the vector of all state values (one value per state).\n",
        "\n",
        "You should be able to use the `__init__` as provided below, so you just have to implement `get_values` and `step`.  We store the initial state in the constructor because you need its value on the first `step` in order to compute the TD error when the first transition has occurred.  Hint: in the `step` you similarly will want to store the previous state to be able to compute the next TD error on the next step.\n"
      ]
    },
    {
      "metadata": {
        "id": "Hyo1QCD4kePY",
        "colab_type": "code",
        "colab": {
          "autoexec": {
            "startup": false,
            "wait_interval": 0
          }
        }
      },
      "cell_type": "code",
      "source": [
        "class RandomTD(object):\n",
        "\n",
        "  def __init__(self, number_of_states, number_of_actions, initial_state, step_size=0.1):\n",
        "    self._values = np.zeros(number_of_states)\n",
        "    self._state = initial_state\n",
        "    self._number_of_actions = number_of_actions\n",
        "    self._step_size = step_size\n",
        "    \n",
        "  def get_values(self):\n",
        "    \"\"\"TODO: Implement\"\"\"\n",
        "    return self._values\n",
        "    \n",
        "\n",
        "  # Return a new action to take\n",
        "  # r: reward, g: discount, s: next_observation\n",
        "  def step(self, r, g, s):\n",
        "    \"\"\"TODO: Implement\"\"\"\n",
        "    # Random next action \n",
        "    next_action  = np.random.randint(self._number_of_actions)\n",
        "   \n",
        "    # Update State Value\n",
        "    self._values[self._state] += self._step_size * (r + g * self._values[s] - self._values[self._state])\n",
        "    self._state = s\n",
        "    return next_action\n"
      ],
      "execution_count": 0,
      "outputs": []
    },
    {
      "metadata": {
        "id": "oaMmp1lDgpUG",
        "colab_type": "text"
      },
      "cell_type": "markdown",
      "source": [
        "Run the next cell to run the `RandomTD` agent on a grid world."
      ]
    },
    {
      "metadata": {
        "id": "N0ZoYwgZfho2",
        "colab_type": "code",
        "colab": {
          "autoexec": {
            "startup": false,
            "wait_interval": 0
          },
          "output_extras": [
            {
              "item_id": 1
            }
          ],
          "base_uri": "https://localhost:8080/",
          "height": 341
        },
        "outputId": "8760f751-1937-47f8-9233-21847d85cdea",
        "executionInfo": {
          "status": "ok",
          "timestamp": 1519508949076,
          "user_tz": 0,
          "elapsed": 1081,
          "user": {
            "displayName": "JOY WU",
            "photoUrl": "https://lh3.googleusercontent.com/a/default-user=s128",
            "userId": "118283881385645801877"
          }
        }
      },
      "cell_type": "code",
      "source": [
        "# DO NOT MODIFY THIS CELL\n",
        "agent = RandomTD(grid._layout.size, 4, grid.get_obs())\n",
        "run_experiment(grid, agent, int(1e5))\n",
        "v = agent.get_values()\n",
        "plot_values(v.reshape(grid._layout.shape), colormap=\"hot\", vmin=-10, vmax=5)"
      ],
      "execution_count": 42,
      "outputs": [
        {
          "output_type": "display_data",
          "data": {
            "image/png": "[encoded data removed]",
            "text/plain": [
              "<matplotlib.figure.Figure at 0x7f1717f48910>"
            ]
          },
          "metadata": {
            "tags": []
          }
        }
      ]
    },
    {
      "metadata": {
        "id": "wxc_Sx7og4JH",
        "colab_type": "text"
      },
      "cell_type": "markdown",
      "source": [
        "If everything worked as expected, the plot above will show the estimates state values under the random policy. This includes values for unreachable states --- on the walls and on the goal (we never actually reach the goal --- rather, the episode terminates on the transition to the goal.  The values on the walls and goal are, and will always remain, zero (shown in orange above).\n",
        "\n",
        "### Policy iteration\n",
        "We used TD to do policy evaluation for the random policy on this problem.  Consider doing policy improvement, by taking the greedy policy with respect to a one-step look-ahead.  For this, you may assume we have a true model, so for each state the policy would for each action look at the value of the resulting state, and would then pick the action with the highest state value. You do **not** have to implement this, just answer the following questions.\n",
        "\n",
        "**[5 pts]** Would the greedy after one such iteration of policy evaluation and policy improvement be optimal on this problem?  Explain (in one or two sentences) why or why not.\n",
        "\n",
        "NO，in one iteration, we can only update current state value via the next state, but there are 4 possible state for updating current state. The one iteration one-step TD learning can not converge to optimal.\n",
        "\n",
        "**[5 pts]** If we repeat the process over and over again, and repeatedly evaluate the greedy policy and then perform another improvement step, would then the policy eventually become optimal?  Explain (in one or two sentences) why of why not.\n",
        "\n",
        "Yes. It uses batch updating, under which one-step TD converges deterministically to a single answer independent of the step-size parameter, $\\alpha$ as long as $\\alpha$ is chosen to be sufficiently small. The batch TD(0) always finds the estimate that would be exactly correct for the maximun-likeihood model of the Markov process so that we can compute the estimate of the value function that would be exactly correct if the model were exactly correct."
      ]
    },
    {
      "metadata": {
        "id": "MKfA7ifHvO-M",
        "colab_type": "text"
      },
      "cell_type": "markdown",
      "source": [
        "\n",
        "## Agent 2: Q-learning\n",
        "**[10 pts]** Implement an agent that uses **Q-learning** to learn action values.  In addition, the agent should act according to an $\\epsilon$-greedy policy with respect to its action values.\n",
        "\n",
        "**[10 pts]** Include an option to use **Double Q-learning**, with a `double` boolean flag in the **__init__**.  If `double=False` the agent should perform Q-learning.  If `double=True` the agent should perform Double Q-learning.  Note that we then need two action-value functions.\n",
        "\n",
        "**[10 pts]** Include an option to use **Sarsa** instead of Q-learning, in the **step**.\n",
        "\n",
        "**[15 pts]** Generalize to **General Q-learning**, where the `__init__` takes a functions `target_policy` and `behaviour_policy`.  The function `behaviour_policy(action_values)` should map `action_values` to a single action.  For instance, the random policy can be implemented as:\n",
        "```\n",
        "def behaviour_policy(action_values):\n",
        "  return np.random.randint(len(action_values))\n",
        "```\n",
        "We will typically just use $\\epsilon$-greedy, for instance:\n",
        "```\n",
        "def behaviour_policy(action_values):\n",
        "  return epsilon_greedy(action_values, epsilon=0.1)\n",
        "```\n",
        "\n",
        "The target policy is defined by a function `target_policy(action_values, action)`, which should return **a vector** with one probability per action.  The `action` argument is used to be able to do Sarsa: in addition to the action values, the function will also get the action as selected by the behaviour so that it can return a one hot vector for just the selected action in the Sarsa case.  So, the target policy for Sarsa would look like this:\n",
        "```\n",
        "def one_hot(index, max_index):\n",
        "  np.eye(max_index)[index]\n",
        "\n",
        "def target_policy(action_values, action):\n",
        "  return one_hot(action)\n",
        "```\n",
        "As another example, a random target policy is:\n",
        "```\n",
        "def target_policy(action_values, unused_action):\n",
        "  number_of_actions = len(action_values)\n",
        "  return np.ones((number_of_actions,))/number_of_actions\n",
        "```\n",
        "\n",
        "Note that **double learning** can be combined with General Q-learning, but is separate.  So, the `double` flag in the init remains.  E.g., when the target policy is the Sarsa policy described above and `double=True`, the algorithm should implement **double Sarsa**.\n",
        "\n",
        "Note also that if (or when) you have implemented General Q-learning, this algorithm encompasses all previous algorithms, so you only need this one algorithm with, as its interface the two functions\n",
        "\n",
        "`__init__(self, number_of_states, number_of_actions, initial_state, target_policy, behaviour_policy, double, step_size=0.1)`\n",
        "\n",
        "and\n",
        "\n",
        "`step(self, reward, discount, next_state)`\n",
        "\n",
        "We will mostly use `step_size=0.1`, so make that the default, but allow it to change when it is fed in as an argument.\n",
        "\n",
        "If you do not success in implementing General Q-learning, try to implement at least Sarsa, Q-learning, and Double Q-learning, to be able to answer questions below.\n"
      ]
    },
    {
      "metadata": {
        "id": "wq_qf3E_Z7NT",
        "colab_type": "code",
        "colab": {
          "autoexec": {
            "startup": false,
            "wait_interval": 0
          }
        }
      },
      "cell_type": "code",
      "source": [
        "class GeneralQ(object):\n",
        "\n",
        "  def __init__(self, number_of_states, number_of_actions, initial_state, target_policy, behaviour_policy, double, step_size=0.1):\n",
        "    self._q = np.zeros((number_of_states, number_of_actions))\n",
        "    if double:\n",
        "      self._q2 = np.zeros((number_of_states, number_of_actions))\n",
        "    self._s = initial_state\n",
        "    self._number_of_actions = number_of_actions\n",
        "    self._step_size = step_size\n",
        "    self._behaviour_policy = behaviour_policy\n",
        "    self._target_policy = target_policy\n",
        "    self._double = double\n",
        "    self._last_action = 0\n",
        "    \n",
        "  @property\n",
        "  def q_values(self):\n",
        "    if self._double:\n",
        "      return (self._q + self._q2)/2\n",
        "    else:\n",
        "      return self._q\n",
        "    \n",
        "  ''' \n",
        "  Return a new action to take\n",
        "  r: reward, \n",
        "  g: discount, \n",
        "  s: next_state\n",
        "  '''\n",
        "  def step(self, r, g, s):\n",
        "    \"\"\"TODO Implement\"\"\"\n",
        "    \n",
        "    # Double Q-learning and SARSA\n",
        "    if self._double:\n",
        "      # Use epsilon greedy to get action a，and epsilon greedy in Q1 + Q2\n",
        "      a = self._behaviour_policy(self._q[s] + self._q2[s])  \n",
        "      \n",
        "      # Update State Value\n",
        "      # WIth 0.5 probability\n",
        "      if 0.5 < np.random.random():\n",
        "         self._q[self._s, self._last_action] += self._step_size * (r + g * self._q2[s, np.argmax(self._target_policy(self._q[s], a))] - self._q[self._s, self._last_action])\n",
        "\n",
        "      else:\n",
        "         self._q2[self._s, self._last_action] += self._step_size * (r + g * self._q[s, np.argmax(self._target_policy(self._q2[s], a))] - self._q2[self._s, self._last_action])\n",
        "\n",
        "      self._s = s\n",
        "      self._last_action = a\n",
        "      \n",
        "      return a\n",
        "    \n",
        "    # Q-learning/SARSA\n",
        "    else:\n",
        "      # Use epsilon greedy to get action a \n",
        "      a = self._behaviour_policy(self._q[s])\n",
        "\n",
        "      # Update State Value\n",
        "      self._q[self._s, self._last_action] += self._step_size * (r + g * self._q[s, np.argmax(self._target_policy(self._q[s], a))] - self._q[self._s, self._last_action])\n",
        "      self._s = s\n",
        "      self._last_action = a\n",
        "      return a"
      ],
      "execution_count": 0,
      "outputs": []
    },
    {
      "metadata": {
        "id": "1jZsPzCmDxAh",
        "colab_type": "text"
      },
      "cell_type": "markdown",
      "source": [
        "# Part 2: Analyse Results"
      ]
    },
    {
      "metadata": {
        "id": "xQkk8sMxE0N4",
        "colab_type": "text"
      },
      "cell_type": "markdown",
      "source": [
        "### Run the cells below to train a Q-learning and a SARSA agent and generate plots.\n",
        "\n",
        "This trains the agents the Grid problem with a step size of 0.1 and an epsilon of 0.1.\n",
        "\n",
        "The plots below will show action values for each of the actions, as well as a state value defined by $v(s) = \\sum_a \\pi(a|s) q(s, a)$."
      ]
    },
    {
      "metadata": {
        "id": "GsNBHNZtHCPe",
        "colab_type": "code",
        "colab": {
          "autoexec": {
            "startup": false,
            "wait_interval": 0
          },
          "output_extras": [
            {
              "item_id": 1
            },
            {
              "item_id": 2
            }
          ],
          "base_uri": "https://localhost:8080/",
          "height": 494
        },
        "cellView": "both",
        "outputId": "ba3b69af-447f-455c-97ea-ec2499f6bd77",
        "executionInfo": {
          "status": "ok",
          "timestamp": 1519507754357,
          "user_tz": 0,
          "elapsed": 2221,
          "user": {
            "displayName": "JOY WU",
            "photoUrl": "https://lh3.googleusercontent.com/a/default-user=s128",
            "userId": "118283881385645801877"
          }
        }
      },
      "cell_type": "code",
      "source": [
        "# Q-learning\n",
        "print('Q-learning')\n",
        "grid = Grid()\n",
        "def target_policy(q, a):\n",
        "  return np.eye(len(q))[np.argmax(q)]\n",
        "def behaviour_policy(q):\n",
        "  return epsilon_greedy(q, 0.1)\n",
        "agent = GeneralQ(grid._layout.size, 4, grid.get_obs(),\n",
        "                 target_policy, behaviour_policy, double=False)\n",
        "run_experiment(grid, agent, int(1e5))\n",
        "q = agent.q_values.reshape(grid._layout.shape + (4,))\n",
        "plot_action_values(q)"
      ],
      "execution_count": 36,
      "outputs": [
        {
          "output_type": "stream",
          "text": [
            "Q-learning\n"
          ],
          "name": "stdout"
        },
        {
          "output_type": "display_data",
          "data": {
            "image/png": "[encoded data removed]",
            "text/plain": [
              "<matplotlib.figure.Figure at 0x7f1716494850>"
            ]
          },
          "metadata": {
            "tags": []
          }
        }
      ]
    },
    {
      "metadata": {
        "id": "5DwHqxeZ1rXa",
        "colab_type": "code",
        "colab": {
          "autoexec": {
            "startup": false,
            "wait_interval": 0
          },
          "output_extras": [
            {
              "item_id": 1
            },
            {
              "item_id": 2
            }
          ],
          "base_uri": "https://localhost:8080/",
          "height": 494
        },
        "outputId": "a2f87f53-21c6-4507-b1de-4aed6320caeb",
        "executionInfo": {
          "status": "ok",
          "timestamp": 1519507771239,
          "user_tz": 0,
          "elapsed": 2121,
          "user": {
            "displayName": "JOY WU",
            "photoUrl": "https://lh3.googleusercontent.com/a/default-user=s128",
            "userId": "118283881385645801877"
          }
        }
      },
      "cell_type": "code",
      "source": [
        "# SARSA\n",
        "print('SARSA')\n",
        "grid = Grid()\n",
        "def target_policy(q, a):\n",
        "  return np.eye(len(q))[a]\n",
        "def behaviour_policy(q):\n",
        "  return epsilon_greedy(q, 0.1)\n",
        "agent = GeneralQ(grid._layout.size, 4, grid.get_obs(),\n",
        "                 target_policy, behaviour_policy, double=False)\n",
        "run_experiment(grid, agent, int(1e5))\n",
        "q = agent.q_values.reshape(grid._layout.shape + (4,))\n",
        "plot_action_values(q)"
      ],
      "execution_count": 37,
      "outputs": [
        {
          "output_type": "stream",
          "text": [
            "SARSA\n"
          ],
          "name": "stdout"
        },
        {
          "output_type": "display_data",
          "data": {
            "image/png": "[encoded data removed]",
            "text/plain": [
              "<matplotlib.figure.Figure at 0x7f17181aebd0>"
            ]
          },
          "metadata": {
            "tags": []
          }
        }
      ]
    },
    {
      "metadata": {
        "id": "LGptHwE23lmP",
        "colab_type": "text"
      },
      "cell_type": "markdown",
      "source": [
        "## Questions\n",
        "\n",
        "Consider the greedy policy with respect to the estimated values\n",
        "\n",
        "**[10 pts]** *How* do the policies found by Q-learning and Sarsa differ?  (Explain qualitatively how the behaviour differs in one or two sentences.)\n",
        "\n",
        "Q-learning is off-policy learning. Because it have $max_a Q(s_{t+1}, a)$ in action value update fucntion, and it always choose the most shortest path to goal, no matter how the rewards in the process. In the figure above, Q-learning choose shorter but moere safe path compared with Q-learning.\n",
        "\n",
        "\n",
        "Sarsa is on-policy learning. Sarsa is quite conservative, it will choose to stay far away from low rewards. In the figure above, Sarsa choose farther but more dangerous path compared with Q-learning.\n",
        "\n",
        "**[10 pts]** *Why* do the policies differ in this way?\n",
        "\n",
        "The biggest difference between Q-learning and SARSA is that Q-learning is off-policy, whereas SARSA is on-policy.\n",
        "\n",
        "The updated equations for Q-learning and SARSA are below:\n",
        "\n",
        "$Q-learning: Q(s_t, a_t) = Q(s_t, a_t) + a[r + \\gamma max_a Q(s_{t+1}, a)-Q(s_t, a_t)]$\n",
        "\n",
        "$Sarsa: Q(s_t, a_t) = Q(s_t, a_t) + a[r + \\gamma Q(s_{t+1}, a_{t+1})-Q(s_t, a_t)]$\n",
        "\n",
        "In state $s'$, Q-learning only calculate which $a'$ to take in $s'$ to get bigger Q, and do not really take this action $a'$. The selection of action a is based on the current Q network and the strategy (e-greedy), and the calculation of the target Q value is calculated based on the action $a'$ with the largest Q value. Therefore, it is the off-policy learning\n",
        "\n",
        "In state $s'$, Sarsa know which $a'$ it want to take and really take this action. The selection of action a follows the e-greedy policy, and the calculation of the target Q value is also calculated according to the action $a'$ obtained by the (e-greedy) policy, thus it is  on-policy learning.\n",
        "\n",
        "**[10 pts]** Which greedy policy is better, in terms of actual value?\n",
        "\n",
        "If the goal is to train an optimal agent in simulation, or in a low-cost and fast-iterating environment, then Q-learning is a good choice, due to the first point (learning optimal policy directly). If your agent learns online, and you care about rewards gained whilst learning, then SARSA may be a better choice.\n",
        "\n",
        "In the grid environment of this coursework, Q-learning can choose the shorter path, and Sarsa can gain more rewards in the learning process."
      ]
    },
    {
      "metadata": {
        "id": "ZoZD09jt6ow0",
        "colab_type": "text"
      },
      "cell_type": "markdown",
      "source": [
        "### Noisy environments\n",
        "\n",
        "We will now compare Q-learning and Double Q-learning on a noisy version of the environment.\n",
        "\n",
        "In the noisy version, a zero-mean Gaussian is added to all rewards.  The variance of this noise is higher the further to the left you go, and the further down (so away from the goal).\n",
        "\n",
        "Run the cell below to run 20 repetitions of the experiment that runs Q-learning and Double Q-learning on this noisy domain."
      ]
    },
    {
      "metadata": {
        "id": "8LKhFNDF3jCJ",
        "colab_type": "code",
        "colab": {
          "autoexec": {
            "startup": false,
            "wait_interval": 0
          },
          "output_extras": [
            {
              "item_id": 1
            },
            {
              "item_id": 2
            }
          ],
          "base_uri": "https://localhost:8080/",
          "height": 465
        },
        "outputId": "384f5ef2-5808-4def-90da-ad351ebf9e47",
        "executionInfo": {
          "status": "ok",
          "timestamp": 1519507352531,
          "user_tz": 0,
          "elapsed": 191514,
          "user": {
            "displayName": "JOY WU",
            "photoUrl": "https://lh3.googleusercontent.com/a/default-user=s128",
            "userId": "118283881385645801877"
          }
        }
      },
      "cell_type": "code",
      "source": [
        "def target_policy(q, a):\n",
        "  max_q = np.max(q)\n",
        "  pi = np.array([1. if qi == max_q else 0. for qi in q])\n",
        "  return pi / sum(pi)\n",
        "def behaviour_policy(q):\n",
        "  return epsilon_greedy(q, 0.1)\n",
        "mean_reward_q_learning = []\n",
        "mean_reward_double_q_learning = []\n",
        "for _ in range(20):\n",
        "  grid = Grid(noisy=True)\n",
        "  q_agent = GeneralQ(grid._layout.size, 4, grid.get_obs(),\n",
        "                     target_policy, behaviour_policy, double=False, step_size=0.1)\n",
        "  dq_agent = GeneralQ(grid._layout.size, 4, grid.get_obs(),\n",
        "                      target_policy, behaviour_policy, double=True, step_size=0.1)\n",
        "  mean_reward_q_learning.append(run_experiment(grid, q_agent, int(2e5)))\n",
        "  mean_reward_double_q_learning.append(run_experiment(grid, dq_agent, int(2e5)))\n",
        "plt.violinplot([mean_reward_q_learning, mean_reward_double_q_learning])\n",
        "plt.xticks([1, 2], [\"Q-learning\", \"Double Q-learning\"], rotation=60, size=12)\n",
        "plt.ylabel(\"average reward during learning\", size=12)\n",
        "ax = plt.gca()\n",
        "ax.set_axis_bgcolor('white')\n",
        "ax.grid(0)"
      ],
      "execution_count": 33,
      "outputs": [
        {
          "output_type": "stream",
          "text": [
            "/usr/local/lib/python2.7/dist-packages/ipykernel_launcher.py:21: MatplotlibDeprecationWarning: The set_axis_bgcolor function was deprecated in version 2.0. Use set_facecolor instead.\n"
          ],
          "name": "stderr"
        },
        {
          "output_type": "display_data",
          "data": {
            "image/png": "[encoded data removed]",
            "text/plain": [
              "<matplotlib.figure.Figure at 0x7f17164948d0>"
            ]
          },
          "metadata": {
            "tags": []
          }
        }
      ]
    },
    {
      "metadata": {
        "id": "9oC71jLmpRkq",
        "colab_type": "code",
        "colab": {
          "autoexec": {
            "startup": false,
            "wait_interval": 0
          },
          "output_extras": [
            {
              "item_id": 1
            }
          ],
          "base_uri": "https://localhost:8080/",
          "height": 477
        },
        "outputId": "837d370c-5613-497b-f661-8affb20a5eee",
        "executionInfo": {
          "status": "ok",
          "timestamp": 1519507361761,
          "user_tz": 0,
          "elapsed": 1179,
          "user": {
            "displayName": "JOY WU",
            "photoUrl": "https://lh3.googleusercontent.com/a/default-user=s128",
            "userId": "118283881385645801877"
          }
        }
      },
      "cell_type": "code",
      "source": [
        "q = q_agent.q_values.reshape(grid._layout.shape + (4,))\n",
        "plot_action_values(q, vmin=-5)"
      ],
      "execution_count": 34,
      "outputs": [
        {
          "output_type": "display_data",
          "data": {
            "image/png": "[encoded data removed]",
            "text/plain": [
              "<matplotlib.figure.Figure at 0x7f1716489150>"
            ]
          },
          "metadata": {
            "tags": []
          }
        }
      ]
    },
    {
      "metadata": {
        "id": "-4W2uqjapUNg",
        "colab_type": "code",
        "colab": {
          "autoexec": {
            "startup": false,
            "wait_interval": 0
          },
          "output_extras": [
            {
              "item_id": 1
            }
          ],
          "base_uri": "https://localhost:8080/",
          "height": 477
        },
        "outputId": "f977ac6e-71c7-480b-ce81-3897e9a55d0b",
        "executionInfo": {
          "status": "ok",
          "timestamp": 1519507377305,
          "user_tz": 0,
          "elapsed": 1112,
          "user": {
            "displayName": "JOY WU",
            "photoUrl": "https://lh3.googleusercontent.com/a/default-user=s128",
            "userId": "118283881385645801877"
          }
        }
      },
      "cell_type": "code",
      "source": [
        "q = dq_agent.q_values.reshape(grid._layout.shape + (4,))\n",
        "plot_action_values(q, vmin=-5)"
      ],
      "execution_count": 35,
      "outputs": [
        {
          "output_type": "display_data",
          "data": {
            "image/png": "[encoded data removed]",
            "text/plain": [
              "<matplotlib.figure.Figure at 0x7f171b2b2b90>"
            ]
          },
          "metadata": {
            "tags": []
          }
        }
      ]
    },
    {
      "metadata": {
        "id": "itgvt-pQpKFD",
        "colab_type": "text"
      },
      "cell_type": "markdown",
      "source": [
        "The plots above show 1) the distributions of average rewards (over all learning steps) over the 20 experiments per algorithm, 2) the action values for Q-learning, and 3) the action values for Double Q-learning.\n",
        "\n",
        "**[10 pts]** Explain why Double Q-learning has a higher average reward. Use at most four sentences, and discuss at least a) the dynamics of the algorithm, b) how this affects behaviour, and c) why the resulting behaviour yields higher rewards for Double Q-learning than for Q-learning.\n",
        "\n",
        "Because Q-learning use max operator in action value update euqation, and it will cause maximiztion bias problem, and double Q-learning can solve this problem. In the double Q-learning algorithm there are two action-value functions, and we update one of the two value functions by assigning each experience randomly. The goal is to decorrelate the selection of the best action from the evaluation of this action to avoid maximiztion bias problem, so double Q-learning have higher average reward.\n",
        "\n",
        "(Feel free to experiment to gain more intuition, if this is helpful.  Especially the action value plots can be quite noisy, and therefore hard to interpret.)"
      ]
    }
  ]
}