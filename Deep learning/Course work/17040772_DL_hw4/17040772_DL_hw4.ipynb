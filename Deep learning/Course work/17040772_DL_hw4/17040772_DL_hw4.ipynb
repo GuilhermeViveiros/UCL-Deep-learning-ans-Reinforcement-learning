{
  "nbformat": 4,
  "nbformat_minor": 0,
  "metadata": {
    "colab": {
      "name": "17040772_DL_hw4.ipynb",
      "version": "0.3.2",
      "views": {},
      "default_view": {},
      "provenance": [
        {
          "file_id": "11EWqwo1YwHBezgDoui106nTUXji_Dv7Q",
          "timestamp": 1520965749770
        },
        {
          "file_id": "1RHkaH9Jnw3Wx-zMz91n3DdP0Nls5Q4cF",
          "timestamp": 1520684960888
        },
        {
          "file_id": "1rIaB6u2aCySDUkP0qdFyfZl0_tOLGWGb",
          "timestamp": 1518445000610
        },
        {
          "file_id": "1OsB2DpNo1-NciDOlB5Vrk2YE7zMl8Hds",
          "timestamp": 1518116978983
        },
        {
          "file_id": "1yFj1LZ7MPleNtBFX6NS9i1zwZ74huXrQ",
          "timestamp": 1517308250935
        }
      ],
      "collapsed_sections": [
        "fRFYvAMNwjRL",
        "FC06V0nJsbz8"
      ]
    },
    "kernelspec": {
      "name": "python3",
      "display_name": "Python 3"
    },
    "accelerator": "GPU"
  },
  "cells": [
    {
      "metadata": {
        "id": "GHl6N3Xfkctm",
        "colab_type": "text"
      },
      "cell_type": "markdown",
      "source": [
        "# Deep Learning Homework 4\n",
        "\n",
        "-------------------------------\n",
        "\n",
        "\n",
        "**Name:** WU Zhi\n",
        "\n",
        "**SN:** Your Student Number\n",
        "\n",
        "-----------------------------------\n",
        "\n",
        "\n",
        "**Start date:** *13th March 2018*\n",
        "\n",
        "**Due date:** *29th March 2018, 11:55 pm*\n",
        "\n",
        "------------------------------------\n",
        "\n",
        "## How to Submit\n",
        "\n",
        "When you have completed the exercises and everything has finsihed running, click on 'File' in the menu-bar and then 'Download .ipynb'. This file must be submitted to Moodle named as **studentnumber_DL_hw4.ipynb** before the deadline above.\n",
        "\n",
        "Also send a **sharable link** to the notebook at the following email: ucl.coursework.submit@gmail.com. You can also make it sharable via link to everyone, up to you.\n",
        "\n",
        "Please compile all results, all plots/figures and all answers to the understanding/analysis results questions into a PDF. Name convention: **studentnumber_DL_hw4.pdf**. Do not include any of the code (we will use the notebook for that). \n",
        "\n",
        "**Page limit: 15 pg **.\n",
        "\n",
        "------------------------------------\n",
        "\n",
        "## PART 1: MNIST as a sequence (follow-up from last assignment)\n",
        "In this assignment we will be using the [MNIST digit dataset](https://yann.lecun.com/exdb/mnist/). The dataset contains images of hand-written digits ($0-9$), and the corresponding labels. The images have a resolution of $28\\times 28$ pixels. This is the same dataset as in Assignment 1, but we will be using this data a bit differently this time around. Since this assignment will be focusing on recurrent networks that model sequential data, we will be looking at each image as a sequence: the networks you train will be \"reading\" the image one row at a time, from top to bottom (we could even do pixel-by-pixel, but in the interest of time we'll do row-by-row which is faster).  Also, we will work with a binarized version of MNIST -- we constrain the values of the pixels to be either $0$ or $1$. You can do this by applying the method `binarize`, defined below, to the raw images.\n",
        "\n",
        "<img src=\"https://github.com/bodono/files/blob/master/mnist_as_sequence.png?raw=true\">\n",
        "\n",
        "* We take the MNIST images, binarise them, and interpret them as a sequence of pixels from top-left to bottom-right. (\"Task 2\" refers to the next homework, wherein you will be using the sequence for pixel prediction).\n",
        "\n",
        "## Recurrent Models for MNIST\n",
        "\n",
        "As discussed in the lectures, there are various ways and tasks for which we can use recurrent models. A depiction of the most common scenarios is available in the Figure below. In this assignment and the following one we will look at two of these forms: **many-to-one** (sequence to label/decision) and the **many-to-many** scenario where the model receives an input and produces an output at every time step. You will use these to solve the following tasks: i) pixel prediction  and ii) in-painting.\n",
        "\n",
        "<img src=\"https://github.com/bodono/files/blob/master/rnn_models.png?raw=true\">\n",
        "* ([Figure adapted from Karpathy's The Unreasonable Effectiveness of Recurrent Neural Networks](http://karpathy.github.io/2015/05/21/rnn-effectiveness)). You will be implementing variants of *many-to-one* for classification (in this homework), and *many-to-many* for prediction (in the next homework).\n"
      ]
    },
    {
      "metadata": {
        "id": "Dj6WmOJKYRTB",
        "colab_type": "text"
      },
      "cell_type": "markdown",
      "source": [
        "## Task 1: (Next) Pixel prediction (35 pts)\n",
        "In this part, you will train a **many-to-many** recurrent model: at each time $t$, the model receives as input a pixel value $x_t$ and tries to predict the next pixel in the images $x_{t+1}$ based on the current input and the recurrent state. Thus, your output function is now a probability over the value of pixel $x_{t+1}$ -- which can be either $0$ or $1$ (black or white).\n",
        "\\begin{equation}\n",
        "    \\hat{p}(x_{t+1}|x_{1:t}) = g(x_{t}, h_{t}, c_{t})\n",
        "\\end{equation}\n",
        "Once we get to observe the actual value of $x_{t+1}$ at the next time-step, we can compute the cross-entropy between our predicted probability $\\hat{p}(x_{t+1}|x_{1:t})$ and the observed value (pixel in the image). We can (and will) do that for every time-step prediction within a sequence. This will provide us with the training signal for optimizing the parameters of the mapping $g$ and the recurrent connections -- remember these are shared!, they do not change with $t$.\n",
        "\n",
        "\n",
        "\n"
      ]
    },
    {
      "metadata": {
        "id": "cqrTk9bLYTpp",
        "colab_type": "text"
      },
      "cell_type": "markdown",
      "source": [
        "### Optimization\n",
        "Use the Adam optimizer (with default settings other than the learning rate) for training.\n",
        "\n",
        "**[Optional]** Sometimes dropout has been shown to be beneficial in training recurrent models, so feel free to use it or any other form of regularization that seems to improve performance. It might be also worth trying out batch-normalization. [Reference](https://arxiv.org/pdf/1603.09025.pdf).\n",
        "\n",
        "### Models: Your models will have the following structure:\n",
        "1. [(Red Block)] The *input* (current binarised row of pixels) can be fed directly into the recurrent connection without  much further pre-processing.\n",
        "2. [(Blue Block)] The *output* (probabilities over the activation of the pixel) is produced by looking at the last output of the recurrent units, transforming them via an affine transformation.\n",
        "3. [(Green Block)] For the *recurrent* part of the network, please implement and compare the following architectures:\n",
        "    * LSTM with 32 units. **[15 pts]**\n",
        "    \n",
        "    **OR**\n",
        "    \n",
        "    * GRU with 32 units. **[15 pts]**\n",
        "\n",
        "Your network should look like:\n",
        "\\begin{equation}\n",
        "\\textrm{Input} \\Rightarrow \\textrm{RNN cell} \\Rightarrow \\textrm{Relu} \\Rightarrow \\textrm{Fully connected} \\Rightarrow \\textrm{Relu} \\Rightarrow \\textrm{Fully connected} \\Rightarrow \\textrm{Output}\n",
        "\\end{equation}\n",
        "You might find the function `tf.nn.dynamic_rnn` useful.\n",
        "\n",
        "### Hyper-parameters \n",
        "For all cases train the model with these hyper-parameter settings:\n",
        "\n",
        "- *num_epochs*=5, *learning_rate*=0.001, *batch_size*=256, *fully_connected_hidden_units=64*\n",
        "\n",
        "With these hyper-parameters you should give you a good perfomance on both GRUs/LSTMs. It is worth noting that in $5$ epochs the model has yet converged, but in the interest of time (the training should have $\\approx$ 1h). That being said, feel free to try other settings, there are certainly better choices, but please report the results with these exact hyper-parameters and/or train for longer -- the models should still improve (convergence is achieved around 25-30 epochs). \n",
        "\n",
        "### Tasks:\n",
        "\n",
        "1) Implement and train the previously described model (choose either GRU **or** LSTM). Please report the *cross-entropy* on the *test set* and *training set* of the models trained. Use the `plot_summary_table` method below to format the table. Provide the learning curves (both training and testing loss) -- choose appropiate reporting interval here (at least 20 points).\n",
        "\n",
        "2) Using the previously trained model, visualize the 1-step predictions, 10-step predictions, one row prediction (28 steps) and filling out the image (fill out all the pixels using the recurrent model). \n",
        "\n",
        "*   **Generate a small in-painting dataset.** Sample $100$ images from your test set. Mask/Remove the last $300$ pixels (roughly 10 rows and a half).\n",
        "\n",
        "*   **Predict missing parts and compare with GT**. Given the above generated partial sequences as input to your train models, generate the continuation of these masked images (for the next 1, 10, 28, 300 pixels).\n",
        "Report the cross-entropy of your in-paintings for the trained model at beginning of training(0 epochs), after 1 epoch and at the end of training. Discuss the results: contrasting long/short time prediction; compare these with the cross-entropy of the ground truth images. For multiple steps in-paintings, average the loss over $10$ samples. **[10 pts]**\n",
        "\n",
        "*   **Visualize completing the image**. Pick out $3$ examples from your in-painting dataset to visualize  the resulting images -- this can be done at random, but should include *a successful example, failure example and one that displays high variance between samples.* For each example picked, please provide $5$ samples for the last three scenarios (10, 28, 300 pixels) and $1$ for the 1-pixel prediction -- total 16 samples/exampls. The samples should be generated recursively by sampling the generative process provided by the trained recurrent connections. Total number of in-painting to report: 16 samples x 3 examples = 48 **[10 pts]**\n",
        "\n"
      ]
    },
    {
      "metadata": {
        "id": "_xkdbD4mcfLk",
        "colab_type": "text"
      },
      "cell_type": "markdown",
      "source": [
        "## Task 2: Using pixel-to-pixel: In-painting task (25 pts)\n",
        "\n",
        "Using the models trained in the previous section, please in-paint the missing pixels in the following datasets:\n",
        "* [One-pixel missing](https://github.com/dianaborsa/compgi22_dl_cw4/blob/master/one_pixel_inpainting.npy)\n",
        "* [Window of 2x2 pixels missing](https://github.com/dianaborsa/compgi22_dl_cw4/blob/master/2X2_pixels_inpainting.npy)\n",
        "\n",
        "This is similar to Task 1.b, but now you have information not only about the past(previous pixels in the image) but also future (pixels that come after your predictive target)\n",
        "\n",
        "### Results\n",
        "1) Provide the formula used to compute the probability over the missing pixel and respectively for the missing patch **[5+5 pts]**\n",
        "\n",
        "#### Missing pixel:\n",
        "\n",
        "Assuming $x_{miss}$ is the missing pixel, and $P(x_{miss})$ is the probability calculated by trained model (Based on previous pixels). $x_1, x_2, x_3 ... x_n$ is the future pixels.\n",
        "\n",
        "\n",
        "$$\n",
        "P(x_{miss}|x_1, x_2, x_3 ... x_n)  = \\frac{P(x_1, x_2, x_3 ... x_n | x_{miss}) . p(x_{miss})}{p(x_1, x_2, x_3 ... x_n)}\n",
        "$$\n",
        "\n",
        "And Likelihood is: \n",
        "  \n",
        "$$\n",
        "\\begin{align}\n",
        "P(x_1, x_2, x_3 ... x_n | x_{miss}) &= P(x_1 | x_{miss}).P(x_2, x_3 ... x_n|x_1, x_{missing}) \\\\ \n",
        "&= P(x_1 | x_{miss}).P(x_2 |x_1, x_{miss}).P(x_3 ... x_n|x_1, x_{missing}) \\\\\n",
        "& = P(x_1 | x_{miss}).P(x_2 |x_1, x_{miss})\\cdots P(x_n|x_{missing}, x_1, x_2 \\cdots x_{n-1})\n",
        "\\end{align}\n",
        "$$\n",
        "\n",
        "So, when likelihood is maximum likelihood estimation, the probability of missing pixel is the most probable.  \n",
        "\n",
        "#### Missing patch:\n",
        "\n",
        "For a $2\\times2$ missing patch in $28\\times28$, assuming the missing pixels are $x_m$, $x_{m+1}$, $x_{m+2}$ and $x_{m+3}$.\n",
        "\n",
        "For $x_m$, we can use the previous method (the method in missing pixel) to calculate the most probable (0 or 1).\n",
        "\n",
        "$$\n",
        "P(x_{m}|x_1, x_2, x_3 ... x_n)  = \\frac{P(x_1, x_2, x_3 ... x_n | x_{m}) . p(x_{m})}{p(x_1, x_2, x_3 ... x_n)}\n",
        "$$\n",
        "\n",
        "However the future points here are exclusive of $x_{m+1}$, $x_{m+2}$ and $x_{m+3}$, beacause we do not know the actual pixel values of them.\n",
        "\n",
        "The likelihood here is:\n",
        "\n",
        "$$\n",
        "\\begin{align}\n",
        "P(x_1, x_2, x_3 ... x_n | x_m) &= P(x_1 | x_m).P(x_2, x_3 ... x_n|x_1, x_m) \\\\ \n",
        "&= P(x_1 | x_m).P(x_2 |x_1, x_m).P(x_3 ... x_n|x_1, x_m) \\\\\n",
        "& = P(x_1 | x_m).P(x_2 |x_1, x_m)\\cdots P(x_n|x_m, x_1, x_2 \\cdots x_{n-1})\n",
        "\\end{align}\n",
        "$$\n",
        "\n",
        "The pixel value of $x_m$ should be 1 or 0, so we need to calculate the most probable probability $P(x_{m}=1|x_1, x_2, x_3 ... x_n)$ and $P(x_{m}=0|x_1, x_2, x_3 ... x_n)$, and we choose the higher probability between $P(x_{m}=1|x_1, x_2, x_3 ... x_n)$ and $P(x_{m}=0|x_1, x_2, x_3 ... x_n)$ to predict $x_m$ value.\n",
        "\n",
        "After calcuating $x_m$, we can use trained model based previous pixel value and $x_m$ to calculate $P(x_{m+1})$, and the pixel prediction of $x_{m+1}$ can be calculated by the same way as $x_m$, but the future pixels for $x_{m+1}$ are exclusive of $x_{m+2}$ and $x_{m+3}$.\n",
        "\n",
        "When we use same method to predict $x_{m+2}$, the future pixels for $x_{m+1}$ are exclusive of $x_{m+3}$. Affer we predict $x_m, x_{m+1}$ and $x_{m+2}$, we can use method of missing pixel to predict it.\n",
        "\n",
        "\n",
        "\\\\\n",
        "2) Visualize the most probable in-painting, according to your model. How does this compare to the ground truth? (Compare cross-entropy between your most probable sample and the ground truth). Explain the difference. It is enough to include just one example per task/dataset. **[10 pts]**\n"
      ]
    },
    {
      "metadata": {
        "id": "72eL--uyop0z",
        "colab_type": "text"
      },
      "cell_type": "markdown",
      "source": [
        "### In-painting data \n",
        "\n",
        "We provide two datasets (one corresponing to the one-pixel in-painting tasks and the other one with a 2x2 patch missing). The datasets are available on [git](https://github.com/dianaborsa/compgi22_dl_cw4/blob/master/). Links are available in the description and code is provide below to load the dataset and visualize. Both datasets have 1000 sampled images from MNIST(test). Both dataset sets have the same simple structure: cropped images and their ground truth (GT). in this second task, you will consider the copped images and use your pixel-to-pixel model, try to predict the missing pixel/patches.\n"
      ]
    },
    {
      "metadata": {
        "id": "0wg-OYIMm8cW",
        "colab_type": "text"
      },
      "cell_type": "markdown",
      "source": [
        "# Imports and utility functions (do not modify!)"
      ]
    },
    {
      "metadata": {
        "id": "rPYnfzQfltxp",
        "colab_type": "code",
        "colab": {
          "autoexec": {
            "startup": false,
            "wait_interval": 0
          }
        },
        "cellView": "code"
      },
      "cell_type": "code",
      "source": [
        "#@title Import libraries\n",
        "#@test {\"output\": \"ignore\"}\n",
        "\n",
        "# Import useful libraries.\n",
        "import tensorflow as tf\n",
        "import matplotlib.pyplot as plt\n",
        "import numpy as np\n",
        "from tensorflow.examples.tutorials.mnist import input_data\n",
        "\n",
        "# Binarize the images\n",
        "def binarize(images, threshold=0.1):\n",
        "  return (threshold < images).astype('float32')\n",
        "\n",
        "# Import dataset with one-hot encoding of the class labels.\n",
        "def get_data():\n",
        "  return input_data.read_data_sets(\"MNIST_data/\", one_hot=True)\n",
        "\n",
        "# Placeholders to feed train and test data into the graph.\n",
        "# Since batch dimension is 'None', we can reuse them both for train and eval.\n",
        "def get_placeholders():\n",
        "  x = tf.placeholder(tf.float32, [None, 783])\n",
        "  y = tf.placeholder(tf.float32, [None, 783])\n",
        "  return x, y\n",
        "\n",
        "def get_placeholders2():\n",
        "  x = tf.placeholder(tf.float32, [None, 484])\n",
        "  y = tf.placeholder(tf.float32, [None, 300])\n",
        "  return x, y\n",
        "\n",
        "# Generate summary table of results. This function expects a dict with the\n",
        "# following structure: keys of 'LSTM' (or 'GRU') and the values for each key are a\n",
        "# list of tuples consisting of (test_loss, test_accuracy), and the list is\n",
        "# ordered as the results from 0 epoch (beginning of training), 1 epoch, 5 epochs (or end of training):\n",
        "# {\n",
        "#  'LSTM': [(loss,acc), (loss, acc), (loss, acc)]\n",
        "# }\n",
        "def plot_summary_table(experiment_results):\n",
        "  # Fill Data.\n",
        "  cell_text = []\n",
        "  columns = ['(Beginning - 0 epochs)', '(Mid-training - 1 epoch)', '(End of training - 5 epochs)']\n",
        "  for k, v in experiment_results.iteritems():\n",
        "    rows = ['Test loss', 'Test accuracy']\n",
        "    cell_text=[[],[]]\n",
        "    for (l, _) in v:\n",
        "      cell_text[0].append(str(l))\n",
        "    for (_, a) in v:\n",
        "      cell_text[1].append(str(a))\n",
        "\n",
        "    fig=plt.figure(frameon=False)\n",
        "    ax = plt.gca()\n",
        "    the_table = ax.table(\n",
        "      cellText=cell_text,\n",
        "      rowLabels=rows,\n",
        "      colLabels=columns,\n",
        "      loc='center')\n",
        "    the_table.scale(2, 8)\n",
        "    # Prettify.\n",
        "    ax.patch.set_facecolor('None')\n",
        "    ax.xaxis.set_visible(False)\n",
        "    ax.yaxis.set_visible(False)\n",
        "    ax.text(-0.73, 0.9, k, fontsize=18)\n",
        "    \n",
        "    \n",
        "    \n",
        "def plot_learning_curves(training_loss, testing_loss):\n",
        "  plt.figure()\n",
        "  plt.plot(training_loss)\n",
        "  plt.plot(testing_loss, 'g')\n",
        "  plt.legend(['Training loss', 'Testing loss'])\n",
        "   "
      ],
      "execution_count": 0,
      "outputs": []
    },
    {
      "metadata": {
        "id": "xm9jZeiYphO8",
        "colab_type": "text"
      },
      "cell_type": "markdown",
      "source": [
        "# Train Models\n",
        "\n",
        "Generate summary table of results. This function expects a dict with the\n",
        "following structure: keys of 'LSTM' (or 'GRU') and the values for each key are a\n",
        "list of tuples consisting of (test_loss, test_accuracy), and the list is\n",
        "ordered as the results from 0 epoch (beginning of training), 1 epoch, 5 epochs (or end of training) i.e. expected dictionary (final performace only):\n",
        "\n",
        "```python\n",
        "{\n",
        "  'LSTM': [(loss,acc), (loss, acc), (loss, acc)]\n",
        "}\n",
        "```"
      ]
    },
    {
      "metadata": {
        "id": "vLHuJ7Ncq7Jm",
        "colab_type": "code",
        "colab": {
          "autoexec": {
            "startup": false,
            "wait_interval": 0
          }
        },
        "cellView": "code"
      },
      "cell_type": "code",
      "source": [
        "#@title Your models\n",
        "# Advisable to you GPU for this part\n",
        "\n",
        "experiments_result = []\n",
        "with tf.device('/device:GPU:*'):\n",
        "\n",
        "  tf.reset_default_graph()\n",
        "  num_epochs = 5\n",
        "  learning_rate = 0.001\n",
        "  batch_size = 256 \n",
        "  num_hidden_unit = 32\n",
        "  num_classes = 1\n",
        "  fully_connected_hidden_units = 64\n",
        "\n",
        "  mnist = get_data()\n",
        "  eval_mnist = get_data()\n",
        "\n",
        "  x, y_ = get_placeholders()\n",
        "  x_reshape = tf.reshape(x, [-1, 28*28-1, 1])\n",
        "  y_reshape = tf.reshape(y_, [-1, 28*28-1])\n",
        "\n",
        "  initializer = tf.contrib.layers.xavier_initializer()\n",
        "  time_steps = 28*28-1\n",
        "  num_units = 1\n",
        "\n",
        "\n",
        "  # LSTM\n",
        "  RNN_layers = [tf.nn.rnn_cell.LSTMCell(size) for size in [num_hidden_unit]]\n",
        "  \n",
        "  multi_rnn_cell = tf.nn.rnn_cell.MultiRNNCell(RNN_layers)\n",
        "  lstm_outputs, state = tf.nn.dynamic_rnn(multi_rnn_cell, x_reshape, dtype=tf.float32) # lstm_output: bs * 783 * 32\n",
        "  # lstm_outputs = tf.unstack(lstm_outputs, time_steps, 1)[-1] # lstm_output: bs * 32\n",
        "\n",
        "  lstm_outputs = tf.reshape(lstm_outputs, [-1, num_hidden_unit]) # lstm_output:(bs*783, 32)\n",
        "\n",
        "  W_1 = tf.Variable(initializer([num_hidden_unit, fully_connected_hidden_units]))\n",
        "  b_1 = tf.Variable(initializer([fully_connected_hidden_units]))\n",
        "  hid_1 = tf.matmul(tf.nn.relu(lstm_outputs), W_1) + b_1 # hid_1:(bs*783, 64)\n",
        "\n",
        "  W_2 = tf.Variable(initializer([fully_connected_hidden_units, num_classes]))\n",
        "  b_2 = tf.Variable(initializer([num_classes]))\n",
        "  y = tf.matmul(tf.nn.relu(hid_1), W_2) + b_2 # y:(bs*783, 1)\n",
        "\n",
        "  y = tf.reshape(y, [-1, time_steps]) # y:(bs, 783)\n",
        "\n",
        "  # loss\n",
        "  cross_entropy = tf.reduce_mean(tf.nn.sigmoid_cross_entropy_with_logits(labels = y_, logits = y))\n",
        "\n",
        "  # update\n",
        "  train_step = tf.train.AdamOptimizer(learning_rate).minimize(cross_entropy)\n",
        "\n",
        "  # evaluation metric \n",
        "  correct_prediction = tf.equal(tf.cast(y > 0.1, y.dtype), y_reshape)\n",
        "  accuracy = tf.reduce_mean(tf.cast(correct_prediction, tf.float32))\n",
        "\n",
        "  i, train_accuracy, test_accuracy = 0, [], []\n",
        "  train_loss, test_loss = [], []\n",
        "  init = tf.global_variables_initializer()\n",
        "\n",
        "  with tf.Session() as sess:\n",
        "    sess.run(init)\n",
        "    while mnist.train.epochs_completed < num_epochs:\n",
        "\n",
        "      i += 1\n",
        "      batch_xs, _ = mnist.train.next_batch(batch_size)\n",
        "      batch_ys = batch_xs[:, 1:]\n",
        "      batch_xs = batch_xs[:, 0:-1]                        \n",
        "      sess.run(train_step, feed_dict = {x: binarize(batch_xs), y_: binarize(batch_ys)})\n",
        "      \n",
        "      saver = tf.train.Saver()\n",
        "      if i == 1:\n",
        "        save_path = saver.save(sess, \"model_DL4/model1.ckpt\")\n",
        "        print(\"Model Epoch 0 saved in path: %s\" % save_path)  \n",
        "\n",
        "      if i == 215:\n",
        "        save_path = saver.save(sess, \"model_DL4/model2.ckpt\")\n",
        "        print(\"Model Epoch 1 saved in path: %s\" % save_path)\n",
        "\n",
        "      if i == 1075:\n",
        "        save_path = saver.save(sess, \"model_DL4/model3.ckpt\")\n",
        "        print(\"Model Epoch 5 saved in path: %s\" % save_path)\n",
        "\n",
        "      if i % (25) == 0:\n",
        "\n",
        "        #####################################\n",
        "        # Compute and store train accuracy. #\n",
        "        batch_train, _ = eval_mnist.train.next_batch(11000)\n",
        "        trainAccuracy = sess.run(accuracy, feed_dict={x: binarize(batch_train[:,0:-1]), y_: binarize(batch_train[:,1:])})\n",
        "        train_accuracy.append(trainAccuracy)\n",
        "        \n",
        "        # Compute and store train loss. #        \n",
        "        loss1 = sess.run(cross_entropy, feed_dict={x: binarize(batch_train[:,0:-1]), y_: binarize(batch_train[:,1:])})\n",
        "        train_loss.append(loss1)\n",
        "        \n",
        "        #####################################\n",
        "        \n",
        "        #####################################\n",
        "        # Compute and store test accuracy.  #\n",
        "        batch_test = eval_mnist.test.images\n",
        "        testAccuracy = sess.run(accuracy, feed_dict={x: binarize(batch_test[:,:-1]), y_: binarize(batch_test[:,1:])})\n",
        "        test_accuracy.append(testAccuracy)\n",
        "        \n",
        "        # Compute and store test loss. #\n",
        "        test_data = eval_mnist.test.images\n",
        "        loss2 = sess.run(cross_entropy, feed_dict={x: binarize(test_data[:,0:-1]), y_: binarize(test_data[:,1:])})\n",
        "        test_loss.append(loss2)\n",
        "        \n",
        "        #####################################\n",
        "        print(mnist.train.epochs_completed, i, 'test accuracy:',testAccuracy, 'train loss:', loss1, \"test loss:\", loss2 )\n",
        "    \n",
        "    experiments_result.append(( test_accuracy, train_loss, test_loss))\n",
        "\n",
        "\n"
      ],
      "execution_count": 0,
      "outputs": []
    },
    {
      "metadata": {
        "id": "E4ZhDzQpxoDU",
        "colab_type": "code",
        "colab": {
          "autoexec": {
            "startup": false,
            "wait_interval": 0
          },
          "output_extras": [
            {
              "item_id": 1
            }
          ],
          "base_uri": "https://localhost:8080/",
          "height": 52
        },
        "outputId": "fe03dba8-46b4-48e0-8ecc-dc97570ada27",
        "executionInfo": {
          "status": "ok",
          "timestamp": 1522075643292,
          "user_tz": -60,
          "elapsed": 498,
          "user": {
            "displayName": "JOY WU",
            "photoUrl": "//lh6.googleusercontent.com/-tPBEt0lFVJA/AAAAAAAAAAI/AAAAAAAABm0/dJFicuVmNrg/s50-c-k-no/photo.jpg",
            "userId": "118283881385645801877"
          }
        }
      },
      "cell_type": "code",
      "source": [
        "cd model_DL4"
      ],
      "execution_count": 14,
      "outputs": [
        {
          "output_type": "stream",
          "text": [
            "[Errno 2] No such file or directory: 'model_DL4'\n",
            "/content\n"
          ],
          "name": "stdout"
        }
      ]
    },
    {
      "metadata": {
        "id": "hzz8dRv1sRBf",
        "colab_type": "code",
        "colab": {
          "autoexec": {
            "startup": false,
            "wait_interval": 0
          }
        }
      },
      "cell_type": "code",
      "source": [
        "from google.colab import files\n",
        "files.download( \"model1.ckpt.meta\" ) "
      ],
      "execution_count": 0,
      "outputs": []
    },
    {
      "metadata": {
        "id": "MDSEh0VujBHe",
        "colab_type": "code",
        "colab": {
          "autoexec": {
            "startup": false,
            "wait_interval": 0
          },
          "output_extras": [
            {
              "item_id": 1
            }
          ],
          "base_uri": "https://localhost:8080/",
          "height": 426
        },
        "cellView": "code",
        "outputId": "0d432318-0fef-454c-b560-3d00105b8fd6",
        "executionInfo": {
          "status": "ok",
          "timestamp": 1522026649382,
          "user_tz": -60,
          "elapsed": 479,
          "user": {
            "displayName": "JOY WU",
            "photoUrl": "//lh6.googleusercontent.com/-tPBEt0lFVJA/AAAAAAAAAAI/AAAAAAAABm0/dJFicuVmNrg/s50-c-k-no/photo.jpg",
            "userId": "118283881385645801877"
          }
        }
      },
      "cell_type": "code",
      "source": [
        "#@title Training\n",
        "#@test {\"output\": \"ignore\"}\n",
        "print(np.array(test_accuracy).T)\n",
        "print(np.array(train_loss).T)\n",
        "print(np.array(test_loss).T)"
      ],
      "execution_count": 29,
      "outputs": [
        {
          "output_type": "stream",
          "text": [
            "[0.787116   0.8177673  0.8177673  0.8190445  0.8190445  0.8190445\n",
            " 0.82032156 0.8754686  0.91132414 0.9222139  0.92766076 0.9312156\n",
            " 0.9326493  0.9341282  0.9356305  0.9367235  0.937857   0.93883854\n",
            " 0.94092757 0.9403387  0.9414849  0.9409512  0.9421598  0.941969\n",
            " 0.94229734 0.9421466  0.94237906 0.9422014  0.94339436 0.94334495\n",
            " 0.9430843  0.9434858  0.94344586 0.9434073  0.944176   0.9433255\n",
            " 0.94511074 0.9453723  0.9441018  0.94404775 0.9446875  0.94434047\n",
            " 0.94286746]\n",
            "[0.6686769  0.46813914 0.45378345 0.43967602 0.41491732 0.3778404\n",
            " 0.3347579  0.29294038 0.2441914  0.21595365 0.19792399 0.18565418\n",
            " 0.1780377  0.17212872 0.16768147 0.16387872 0.16064748 0.1570438\n",
            " 0.15483995 0.15379226 0.15003808 0.14869729 0.14719899 0.14785615\n",
            " 0.146011   0.14422907 0.14278059 0.14548223 0.14068814 0.14005867\n",
            " 0.13952263 0.13875005 0.14072631 0.13771576 0.13728575 0.13572958\n",
            " 0.13790537 0.13500762 0.13551241 0.13421595 0.13529824 0.13413604\n",
            " 0.13476706]\n",
            "[0.66882485 0.47123203 0.45547488 0.44154593 0.41676077 0.37909916\n",
            " 0.3350525  0.29397094 0.24445571 0.21568657 0.19701071 0.18552399\n",
            " 0.17764388 0.17176373 0.16656019 0.16255407 0.16044208 0.15653056\n",
            " 0.15393989 0.15310527 0.14970033 0.14855856 0.14632131 0.14710747\n",
            " 0.14462471 0.14317445 0.1420816  0.14434738 0.1404612  0.13975148\n",
            " 0.13940585 0.13808796 0.1404984  0.13727292 0.13591632 0.13505179\n",
            " 0.1371925  0.13454995 0.13529108 0.13334467 0.13448891 0.13313246\n",
            " 0.13497578]\n"
          ],
          "name": "stdout"
        }
      ]
    },
    {
      "metadata": {
        "id": "hr-L9cZl37ek",
        "colab_type": "text"
      },
      "cell_type": "markdown",
      "source": [
        "#Results"
      ]
    },
    {
      "metadata": {
        "id": "OeFhaVqT58uE",
        "colab_type": "text"
      },
      "cell_type": "markdown",
      "source": [
        "## LSTM result\n"
      ]
    },
    {
      "metadata": {
        "id": "9c2EsUEe3Xax",
        "colab_type": "code",
        "colab": {
          "autoexec": {
            "startup": false,
            "wait_interval": 0
          },
          "output_extras": [
            {
              "item_id": 1
            }
          ],
          "base_uri": "https://localhost:8080/",
          "height": 348
        },
        "outputId": "543f6eee-1211-4b60-c259-79377e329977",
        "executionInfo": {
          "status": "ok",
          "timestamp": 1522026780964,
          "user_tz": -60,
          "elapsed": 583,
          "user": {
            "displayName": "JOY WU",
            "photoUrl": "//lh6.googleusercontent.com/-tPBEt0lFVJA/AAAAAAAAAAI/AAAAAAAABm0/dJFicuVmNrg/s50-c-k-no/photo.jpg",
            "userId": "118283881385645801877"
          }
        }
      },
      "cell_type": "code",
      "source": [
        "plot_learning_curves(experiments_result[0][1],experiments_result[0][2])"
      ],
      "execution_count": 34,
      "outputs": [
        {
          "output_type": "display_data",
          "data": {
            "image/png": "[encoded data removed]",
            "text/plain": [
              "<matplotlib.figure.Figure at 0x7fe8209e1b10>"
            ]
          },
          "metadata": {
            "tags": []
          }
        }
      ]
    },
    {
      "metadata": {
        "id": "pdtWKKZ_3sOm",
        "colab_type": "code",
        "colab": {
          "autoexec": {
            "startup": false,
            "wait_interval": 0
          }
        }
      },
      "cell_type": "code",
      "source": [
        "LSTM_experiment_results =  {'LSTM': [(experiments_result[0][2][0],experiments_result[0][0][0]), \n",
        "                                     (experiments_result[0][2][12],experiments_result[0][0][12]), \n",
        "                                     (experiments_result[0][2][-1],experiments_result[0][0][-1])]}\n",
        "GRU_experiment_results =  {'GRU': [(1.1210192, 0.175847), \n",
        "                                   (0.23100725, 0.9320999),\n",
        "                                   (0.13256024, 0.9470945)]}"
      ],
      "execution_count": 0,
      "outputs": []
    },
    {
      "metadata": {
        "id": "CtDksStF35Vb",
        "colab_type": "code",
        "colab": {
          "autoexec": {
            "startup": false,
            "wait_interval": 0
          },
          "output_extras": [
            {
              "item_id": 1
            }
          ],
          "base_uri": "https://localhost:8080/",
          "height": 331
        },
        "outputId": "23e01e36-c32e-4fc9-f3d7-a8480cd5773e",
        "executionInfo": {
          "status": "ok",
          "timestamp": 1522027391952,
          "user_tz": -60,
          "elapsed": 493,
          "user": {
            "displayName": "JOY WU",
            "photoUrl": "//lh6.googleusercontent.com/-tPBEt0lFVJA/AAAAAAAAAAI/AAAAAAAABm0/dJFicuVmNrg/s50-c-k-no/photo.jpg",
            "userId": "118283881385645801877"
          }
        }
      },
      "cell_type": "code",
      "source": [
        "plot_summary_table(LSTM_experiment_results)"
      ],
      "execution_count": 48,
      "outputs": [
        {
          "output_type": "display_data",
          "data": {
            "image/png": "[encoded data removed]",
            "text/plain": [
              "<matplotlib.figure.Figure at 0x7fe7c5855b90>"
            ]
          },
          "metadata": {
            "tags": []
          }
        }
      ]
    },
    {
      "metadata": {
        "id": "J9BCeI7U5wls",
        "colab_type": "code",
        "colab": {
          "autoexec": {
            "startup": false,
            "wait_interval": 0
          },
          "output_extras": [
            {
              "item_id": 1
            }
          ],
          "base_uri": "https://localhost:8080/",
          "height": 331
        },
        "outputId": "5eb70217-66c2-4f46-a496-ebf4deef6431",
        "executionInfo": {
          "status": "ok",
          "timestamp": 1522027406091,
          "user_tz": -60,
          "elapsed": 487,
          "user": {
            "displayName": "JOY WU",
            "photoUrl": "//lh6.googleusercontent.com/-tPBEt0lFVJA/AAAAAAAAAAI/AAAAAAAABm0/dJFicuVmNrg/s50-c-k-no/photo.jpg",
            "userId": "118283881385645801877"
          }
        }
      },
      "cell_type": "code",
      "source": [
        "plot_summary_table(GRU_experiment_results)"
      ],
      "execution_count": 49,
      "outputs": [
        {
          "output_type": "display_data",
          "data": {
            "image/png": "[encoded data removed]",
            "text/plain": [
              "<matplotlib.figure.Figure at 0x7fe7c5743b90>"
            ]
          },
          "metadata": {
            "tags": []
          }
        }
      ]
    },
    {
      "metadata": {
        "id": "BKNhs1sHoVZh",
        "colab_type": "text"
      },
      "cell_type": "markdown",
      "source": [
        "# Pixel prediction"
      ]
    },
    {
      "metadata": {
        "id": "KPI6CZ35sFzt",
        "colab_type": "text"
      },
      "cell_type": "markdown",
      "source": [
        "### Generate a small in-painting dataset.\n",
        "Sample $100$ images from your test set. Mask/Remove the last $300$ pixels (roughly 10 rows and a half)."
      ]
    },
    {
      "metadata": {
        "id": "tjNLq2JjsNEd",
        "colab_type": "code",
        "colab": {
          "autoexec": {
            "startup": false,
            "wait_interval": 0
          }
        },
        "cellView": "both"
      },
      "cell_type": "code",
      "source": [
        "#Sample 100 images + mask \n",
        "import random \n",
        "def sample100images(): \n",
        "  eval_mnist = get_data()\n",
        "  #print(eval_mnist.test.images.shape[0])\n",
        "  sample_index = random.sample(range(0,eval_mnist.test.images.shape[0]),100)\n",
        "  sample100 = []\n",
        "  real_pixels = []\n",
        "  image100 = []\n",
        "  for i in sample_index:\n",
        "    image100.append(binarize(eval_mnist.test.images[i]))\n",
        "    sample100.append(binarize(eval_mnist.test.images[i][0:-300]))\n",
        "    real_pixels.append(binarize(eval_mnist.test.images[i][-300:]))\n",
        "  return sample100, real_pixels, image100"
      ],
      "execution_count": 0,
      "outputs": []
    },
    {
      "metadata": {
        "id": "As8dGCYy77RN",
        "colab_type": "code",
        "colab": {
          "autoexec": {
            "startup": false,
            "wait_interval": 0
          },
          "output_extras": [
            {
              "item_id": 2
            }
          ],
          "base_uri": "https://localhost:8080/",
          "height": 188
        },
        "outputId": "d1124a9e-9099-47eb-8191-ee728902a5d9",
        "executionInfo": {
          "status": "ok",
          "timestamp": 1522112991817,
          "user_tz": -60,
          "elapsed": 814,
          "user": {
            "displayName": "JOY WU",
            "photoUrl": "//lh6.googleusercontent.com/-tPBEt0lFVJA/AAAAAAAAAAI/AAAAAAAABm0/dJFicuVmNrg/s50-c-k-no/photo.jpg",
            "userId": "118283881385645801877"
          }
        }
      },
      "cell_type": "code",
      "source": [
        "sample100, real_pixels, image100 = sample100images()\n",
        "print(len(sample100))\n",
        "print(sample100[0].shape)\n",
        "print(len(real_pixels))\n",
        "print(real_pixels[0].shape)\n",
        "print(len(image100))\n",
        "print(image100[0].shape)"
      ],
      "execution_count": 103,
      "outputs": [
        {
          "output_type": "stream",
          "text": [
            "Extracting MNIST_data/train-images-idx3-ubyte.gz\n",
            "Extracting MNIST_data/train-labels-idx1-ubyte.gz\n",
            "Extracting MNIST_data/t10k-images-idx3-ubyte.gz\n",
            "Extracting MNIST_data/t10k-labels-idx1-ubyte.gz\n",
            "100\n",
            "(484,)\n",
            "100\n",
            "(300,)\n",
            "100\n",
            "(784,)\n"
          ],
          "name": "stdout"
        }
      ]
    },
    {
      "metadata": {
        "id": "8yO15xCYsONg",
        "colab_type": "text"
      },
      "cell_type": "markdown",
      "source": [
        "### Predict missing parts and compare with the ground truth. \n",
        "Given the above generated partial sequences as input to your train models, generate the continuation of these masked images (for the next 1, 10, 28, 300 pixels)."
      ]
    },
    {
      "metadata": {
        "id": "pb9SD_vGwQfA",
        "colab_type": "code",
        "colab": {
          "autoexec": {
            "startup": false,
            "wait_interval": 0
          },
          "output_extras": [
            {
              "item_id": 1
            },
            {
              "item_id": 11
            }
          ],
          "resources": {
            "http://localhost:8080/nbextensions/google.colab/files.js": {
              "data": "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",
              "ok": true,
              "headers": [
                [
                  "content-type",
                  "application/javascript"
                ]
              ],
              "status": 200,
              "status_text": ""
            }
          },
          "base_uri": "https://localhost:8080/",
          "height": 495
        },
        "outputId": "e4283941-32af-47e1-8378-51f048dc33f2",
        "executionInfo": {
          "status": "ok",
          "timestamp": 1522080529217,
          "user_tz": -60,
          "elapsed": 22649,
          "user": {
            "displayName": "JOY WU",
            "photoUrl": "//lh6.googleusercontent.com/-tPBEt0lFVJA/AAAAAAAAAAI/AAAAAAAABm0/dJFicuVmNrg/s50-c-k-no/photo.jpg",
            "userId": "118283881385645801877"
          }
        }
      },
      "cell_type": "code",
      "source": [
        "# upload trained model from local \n",
        "from google.colab import files\n",
        "\n",
        "uploaded = files.upload()\n",
        "\n",
        "for fn in uploaded.keys():\n",
        "   print('User uploaded file \"{name}\" with length {length} bytes'.format(name=fn, length=len(uploaded[fn])))"
      ],
      "execution_count": 65,
      "outputs": [
        {
          "output_type": "display_data",
          "data": {
            "text/plain": [
              "<IPython.core.display.HTML object>"
            ],
            "text/html": [
              "\n",
              "     <input type=\"file\" id=\"files-2ddf87fd-de19-4261-b919-a52a7e7d8d6a\" name=\"files[]\" multiple disabled />\n",
              "     <output id=\"result-2ddf87fd-de19-4261-b919-a52a7e7d8d6a\">\n",
              "      Upload widget is only available when the cell has been executed in the\n",
              "      current browser session. Please rerun this cell to enable.\n",
              "      </output>\n",
              "      <script src=\"/nbextensions/google.colab/files.js\"></script> "
            ]
          },
          "metadata": {
            "tags": []
          }
        },
        {
          "output_type": "stream",
          "text": [
            "Saving model1.ckpt.data-00000-of-00001 to model1.ckpt.data-00000-of-00001\n",
            "Saving model1.ckpt.index to model1.ckpt.index\n",
            "Saving model1.ckpt.meta to model1.ckpt.meta\n",
            "Saving model2.ckpt.data-00000-of-00001 to model2.ckpt.data-00000-of-00001\n",
            "Saving model2.ckpt.index to model2.ckpt.index\n",
            "Saving model2.ckpt.meta to model2.ckpt.meta\n",
            "Saving model3.ckpt.data-00000-of-00001 to model3.ckpt.data-00000-of-00001\n",
            "Saving model3.ckpt.index to model3.ckpt.index\n",
            "Saving model3.ckpt.meta to model3.ckpt.meta\n",
            "User uploaded file \"model3.ckpt.data-00000-of-00001\" with length 78356 bytes\n",
            "User uploaded file \"model1.ckpt.index\" with length 752 bytes\n",
            "User uploaded file \"model1.ckpt.meta\" with length 182334 bytes\n",
            "User uploaded file \"model2.ckpt.meta\" with length 244350 bytes\n",
            "User uploaded file \"model3.ckpt.index\" with length 752 bytes\n",
            "User uploaded file \"model3.ckpt.meta\" with length 488233 bytes\n",
            "User uploaded file \"model2.ckpt.data-00000-of-00001\" with length 78356 bytes\n",
            "User uploaded file \"model2.ckpt.index\" with length 752 bytes\n",
            "User uploaded file \"model1.ckpt.data-00000-of-00001\" with length 78356 bytes\n"
          ],
          "name": "stdout"
        }
      ]
    },
    {
      "metadata": {
        "id": "xONpG5YAzoqQ",
        "colab_type": "code",
        "colab": {
          "autoexec": {
            "startup": false,
            "wait_interval": 0
          },
          "output_extras": [
            {
              "item_id": 1
            }
          ],
          "base_uri": "https://localhost:8080/",
          "height": 120
        },
        "outputId": "e3053328-f63e-46a4-ce98-4ac1b7e08d34",
        "executionInfo": {
          "status": "ok",
          "timestamp": 1522113005528,
          "user_tz": -60,
          "elapsed": 828,
          "user": {
            "displayName": "JOY WU",
            "photoUrl": "//lh6.googleusercontent.com/-tPBEt0lFVJA/AAAAAAAAAAI/AAAAAAAABm0/dJFicuVmNrg/s50-c-k-no/photo.jpg",
            "userId": "118283881385645801877"
          }
        }
      },
      "cell_type": "code",
      "source": [
        "!ls"
      ],
      "execution_count": 104,
      "outputs": [
        {
          "output_type": "stream",
          "text": [
            "datalab\t\t\t\t model2.ckpt.index\r\n",
            "MNIST_data\t\t\t model2.ckpt.meta\r\n",
            "model1.ckpt.data-00000-of-00001  model3.ckpt.data-00000-of-00001\r\n",
            "model1.ckpt.index\t\t model3.ckpt.index\r\n",
            "model1.ckpt.meta\t\t model3.ckpt.meta\r\n",
            "model2.ckpt.data-00000-of-00001  model_DL4\r\n"
          ],
          "name": "stdout"
        }
      ]
    },
    {
      "metadata": {
        "id": "lf3-cL9pJK4S",
        "colab_type": "code",
        "colab": {
          "autoexec": {
            "startup": false,
            "wait_interval": 0
          }
        }
      },
      "cell_type": "code",
      "source": [
        "loss_ten = []\n",
        "image = []"
      ],
      "execution_count": 0,
      "outputs": []
    },
    {
      "metadata": {
        "id": "UJDyvl3t8TnK",
        "colab_type": "code",
        "colab": {
          "autoexec": {
            "startup": false,
            "wait_interval": 0
          },
          "output_extras": [
            {
              "item_id": 9
            }
          ],
          "base_uri": "https://localhost:8080/",
          "height": 630
        },
        "outputId": "836891a0-fc5c-4b54-c59e-5d8a3836ee16",
        "executionInfo": {
          "status": "ok",
          "timestamp": 1522155437865,
          "user_tz": -60,
          "elapsed": 350989,
          "user": {
            "displayName": "JOY WU",
            "photoUrl": "//lh6.googleusercontent.com/-tPBEt0lFVJA/AAAAAAAAAAI/AAAAAAAABm0/dJFicuVmNrg/s50-c-k-no/photo.jpg",
            "userId": "118283881385645801877"
          }
        }
      },
      "cell_type": "code",
      "source": [
        "#Use the model for predictions and compare log likelihood\n",
        "\n",
        "sample100, real_pixels, image100 = sample100images()\n",
        "with tf.device('/device:GPU:*'):\n",
        "\n",
        "  tf.reset_default_graph()\n",
        "  num_epochs = 2\n",
        "  learning_rate = 0.001\n",
        "  batch_size = 256 \n",
        "  num_hidden_unit = 32\n",
        "  num_classes = 1\n",
        "  fully_connected_hidden_units = 64\n",
        "  initializer = tf.contrib.layers.xavier_initializer()\n",
        "  mnist = get_data()\n",
        "  eval_mnist = get_data()\n",
        "\n",
        "  x, y_ = get_placeholders()\n",
        "  x_reshape = tf.reshape(x, [-1, 28*28-1, 1])\n",
        "  y_ = tf.reshape(y_, [-1, 28*28-1])\n",
        "\n",
        "  time_steps = 28*28-1\n",
        "  num_units = 1\n",
        "\n",
        "  # LSTM\n",
        "  RNN_layers = [tf.nn.rnn_cell.LSTMCell(size) for size in [num_hidden_unit]]\n",
        "\n",
        "  multi_rnn_cell = tf.nn.rnn_cell.MultiRNNCell(RNN_layers)\n",
        "  lstm_outputs, state = tf.nn.dynamic_rnn(multi_rnn_cell, x_reshape, dtype=tf.float32) # lstm_output: bs * 783 * 32\n",
        "\n",
        "  lstm_outputs = tf.reshape(lstm_outputs, [-1, num_hidden_unit]) # lstm_output:(bs*783, 32)\n",
        "\n",
        "  W_1 = tf.Variable(initializer([num_hidden_unit, fully_connected_hidden_units]))\n",
        "  b_1 = tf.Variable(initializer([fully_connected_hidden_units]))\n",
        "  hid_1 = tf.matmul(tf.nn.relu(lstm_outputs), W_1) + b_1 # hid_1:(bs*783, 64)\n",
        "\n",
        "  W_2 = tf.Variable(initializer([fully_connected_hidden_units, num_classes]))\n",
        "  b_2 = tf.Variable(initializer([num_classes]))\n",
        "  y = tf.matmul(tf.nn.relu(hid_1), W_2) + b_2 # y:(bs*783, 1)\n",
        "\n",
        "  y = tf.reshape(y, [-1, time_steps]) # y:(bs, 783)\n",
        "\n",
        "  x_test, y_test = get_placeholders2()\n",
        "  current = x_test\n",
        "  y_test = tf.reshape(y_test, [-1, 300])\n",
        "  for i in range(300):\n",
        "    current = tf.reshape(current, [-1, 484 + i, 1])\n",
        "\n",
        "    outputs_t, _ = tf.nn.dynamic_rnn(multi_rnn_cell, current, dtype=tf.float32)\n",
        "    rnn_outputs_t = outputs_t[:, -1, :]   #batch_size * 1 * num_hidden\n",
        "    rnn_outputs_t = tf.reshape(rnn_outputs_t, [-1, num_hidden_unit])\n",
        "    A0_t = tf.nn.relu(rnn_outputs_t)\n",
        "    A1_t = tf.nn.relu(tf.matmul(A0_t, W_1) + b_1)\n",
        "    A2_t = tf.sigmoid(tf.matmul(A1_t, W_2) + b_2)\n",
        "    current = tf.reshape(current, [-1, 484 + i])\n",
        "\n",
        "    # uniform rand \n",
        "#     random_ = tf.random_uniform((100, 1), minval=0, maxval=1,dtype=tf.float32)\n",
        "    random_ = tf.reshape(tf.reduce_mean(tf.random_uniform((100, 10), minval=0, maxval=1,dtype=tf.float32), 1), [100, 1])\n",
        "\n",
        "    result = A2_t - random_\n",
        "\n",
        "    result = tf.cast(result>0, result.dtype)\n",
        "    current = tf.concat([current, result],1)\n",
        "\n",
        "  pixels = current  \n",
        "  total = []\n",
        "  predict_loss1 = tf.reduce_mean(tf.nn.sigmoid_cross_entropy_with_logits(labels = y_test[:,0], logits = pixels[:,-300]))\n",
        "  predict_loss10 = tf.reduce_mean(tf.nn.sigmoid_cross_entropy_with_logits(labels = y_test[:,0:10], logits = pixels[:,-300:-290]))\n",
        "  predict_loss28 = tf.reduce_mean(tf.nn.sigmoid_cross_entropy_with_logits(labels = y_test[:,0:28], logits = pixels[:,-300:-272]))\n",
        "  predict_loss300 = tf.reduce_mean(tf.nn.sigmoid_cross_entropy_with_logits(labels = y_test, logits = pixels[:,-300:]))  \n",
        "\n",
        "  total.append([predict_loss1, predict_loss10, predict_loss28, predict_loss300, pixels])\n",
        "  init = tf.global_variables_initializer()\n",
        "  with tf.Session() as sess:\n",
        "      sess.run(init)\n",
        "\n",
        "      saver = tf.train.Saver()\n",
        "\n",
        "      saver.restore(sess, \"model1.ckpt\")\n",
        "      logloss_epochs0 = sess.run(total, feed_dict={x_test: sample100, y_test: real_pixels })   \n",
        "      print('loss epochs0:', logloss_epochs0)\n",
        "\n",
        "      saver.restore(sess, \"model2.ckpt\")\n",
        "      logloss_epochs1 = sess.run(total, feed_dict={x_test: sample100, y_test: real_pixels })      \n",
        "      print('loss epochs1:', logloss_epochs1)\n",
        "\n",
        "      saver.restore(sess, \"model3.ckpt\")\n",
        "      logloss_epochs5 = sess.run(total, feed_dict={x_test: sample100, y_test: real_pixels })      \n",
        "      print('loss epochs5:', logloss_epochs5)\n",
        "\n",
        "      loss_ten.append([logloss_epochs0, logloss_epochs1, logloss_epochs5])\n",
        "      image.append(image100)\n"
      ],
      "execution_count": 30,
      "outputs": [
        {
          "output_type": "stream",
          "text": [
            "Extracting MNIST_data/train-images-idx3-ubyte.gz\n",
            "Extracting MNIST_data/train-labels-idx1-ubyte.gz\n",
            "Extracting MNIST_data/t10k-images-idx3-ubyte.gz\n",
            "Extracting MNIST_data/t10k-labels-idx1-ubyte.gz\n",
            "Extracting MNIST_data/train-images-idx3-ubyte.gz\n",
            "Extracting MNIST_data/train-labels-idx1-ubyte.gz\n",
            "Extracting MNIST_data/t10k-images-idx3-ubyte.gz\n",
            "Extracting MNIST_data/t10k-labels-idx1-ubyte.gz\n",
            "Extracting MNIST_data/train-images-idx3-ubyte.gz\n",
            "Extracting MNIST_data/train-labels-idx1-ubyte.gz\n",
            "Extracting MNIST_data/t10k-images-idx3-ubyte.gz\n",
            "Extracting MNIST_data/t10k-labels-idx1-ubyte.gz\n",
            "INFO:tensorflow:Restoring parameters from model1.ckpt\n",
            "loss epochs0: [[0.93085945, 0.7946974, 1.0240359, 1.1336417, array([[0., 0., 0., ..., 1., 1., 1.],\n",
            "       [0., 0., 0., ..., 1., 1., 1.],\n",
            "       [0., 0., 0., ..., 1., 1., 1.],\n",
            "       ...,\n",
            "       [0., 0., 0., ..., 1., 1., 1.],\n",
            "       [0., 0., 0., ..., 1., 1., 1.],\n",
            "       [0., 0., 0., ..., 1., 1., 1.]], dtype=float32)]]\n",
            "INFO:tensorflow:Restoring parameters from model2.ckpt\n",
            "loss epochs1: [[0.59918153, 0.6517235, 0.6749792, 0.6922478, array([[0., 0., 0., ..., 0., 0., 0.],\n",
            "       [0., 0., 0., ..., 0., 0., 0.],\n",
            "       [0., 0., 0., ..., 0., 0., 0.],\n",
            "       ...,\n",
            "       [0., 0., 0., ..., 0., 0., 0.],\n",
            "       [0., 0., 0., ..., 0., 0., 0.],\n",
            "       [0., 0., 0., ..., 0., 0., 0.]], dtype=float32)]]\n",
            "INFO:tensorflow:Restoring parameters from model3.ckpt\n",
            "loss epochs5: [[0.5849918, 0.60465163, 0.64749354, 0.70476395, array([[0., 0., 0., ..., 0., 0., 0.],\n",
            "       [0., 0., 0., ..., 0., 0., 0.],\n",
            "       [0., 0., 0., ..., 0., 0., 0.],\n",
            "       ...,\n",
            "       [0., 0., 0., ..., 0., 0., 0.],\n",
            "       [0., 0., 0., ..., 0., 0., 0.],\n",
            "       [0., 0., 0., ..., 0., 0., 0.]], dtype=float32)]]\n"
          ],
          "name": "stdout"
        }
      ]
    },
    {
      "metadata": {
        "id": "D_byzkCjEqyD",
        "colab_type": "text"
      },
      "cell_type": "markdown",
      "source": [
        "### Save data"
      ]
    },
    {
      "metadata": {
        "id": "ma7izTFCEm4j",
        "colab_type": "code",
        "colab": {
          "autoexec": {
            "startup": false,
            "wait_interval": 0
          }
        }
      },
      "cell_type": "code",
      "source": [
        "import pickle\n",
        " \n",
        "output = open('loss13.pkl', 'wb')\n",
        " \n",
        "# Pickle dictionary using protocol 0.\n",
        "pickle.dump(loss_full, output)\n",
        "output.close()"
      ],
      "execution_count": 0,
      "outputs": []
    },
    {
      "metadata": {
        "id": "2B1mw55TFRuH",
        "colab_type": "code",
        "colab": {
          "autoexec": {
            "startup": false,
            "wait_interval": 0
          }
        }
      },
      "cell_type": "code",
      "source": [
        "from google.colab import files\n",
        "files.download( \"loss13.pkl\" ) "
      ],
      "execution_count": 0,
      "outputs": []
    },
    {
      "metadata": {
        "id": "fRFYvAMNwjRL",
        "colab_type": "text"
      },
      "cell_type": "markdown",
      "source": [
        "### Upload data"
      ]
    },
    {
      "metadata": {
        "id": "XJzBxjndc7PH",
        "colab_type": "code",
        "colab": {
          "autoexec": {
            "startup": false,
            "wait_interval": 0
          },
          "output_extras": [
            {
              "item_id": 1
            },
            {
              "item_id": 11
            }
          ],
          "resources": {
            "http://localhost:8080/nbextensions/google.colab/files.js": {
              "data": "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",
              "ok": true,
              "headers": [
                [
                  "content-type",
                  "application/javascript"
                ]
              ],
              "status": 200,
              "status_text": ""
            }
          },
          "base_uri": "https://localhost:8080/",
          "height": 495
        },
        "outputId": "5ba90694-7170-4771-9114-84b0bc6428aa",
        "executionInfo": {
          "status": "ok",
          "timestamp": 1522243144159,
          "user_tz": -60,
          "elapsed": 23836,
          "user": {
            "displayName": "JOY WU",
            "photoUrl": "//lh6.googleusercontent.com/-tPBEt0lFVJA/AAAAAAAAAAI/AAAAAAAABm0/dJFicuVmNrg/s50-c-k-no/photo.jpg",
            "userId": "118283881385645801877"
          }
        }
      },
      "cell_type": "code",
      "source": [
        "# upload trained model from local \n",
        "import tensorflow as tf\n",
        "from google.colab import files\n",
        "\n",
        "uploaded = files.upload()\n",
        "\n",
        "for fn in uploaded.keys():\n",
        "   print('User uploaded file \"{name}\" with length {length} bytes'.format(name=fn, length=len(uploaded[fn])))"
      ],
      "execution_count": 11,
      "outputs": [
        {
          "output_type": "display_data",
          "data": {
            "text/html": [
              "\n",
              "     <input type=\"file\" id=\"files-867d0fbd-4f96-4a95-b81d-073b13347cf6\" name=\"files[]\" multiple disabled />\n",
              "     <output id=\"result-867d0fbd-4f96-4a95-b81d-073b13347cf6\">\n",
              "      Upload widget is only available when the cell has been executed in the\n",
              "      current browser session. Please rerun this cell to enable.\n",
              "      </output>\n",
              "      <script src=\"/nbextensions/google.colab/files.js\"></script> "
            ],
            "text/plain": [
              "<IPython.core.display.HTML object>"
            ]
          },
          "metadata": {
            "tags": []
          }
        },
        {
          "output_type": "stream",
          "text": [
            "Saving model1.ckpt.data-00000-of-00001 to model1.ckpt.data-00000-of-00001\n",
            "Saving model1.ckpt.index to model1.ckpt.index\n",
            "Saving model1.ckpt.meta to model1.ckpt.meta\n",
            "Saving model2.ckpt.data-00000-of-00001 to model2.ckpt.data-00000-of-00001\n",
            "Saving model2.ckpt.index to model2.ckpt.index\n",
            "Saving model2.ckpt.meta to model2.ckpt.meta\n",
            "Saving model3.ckpt.data-00000-of-00001 to model3.ckpt.data-00000-of-00001\n",
            "Saving model3.ckpt.index to model3.ckpt.index\n",
            "Saving model3.ckpt.meta to model3.ckpt.meta\n",
            "User uploaded file \"model1.ckpt.data-00000-of-00001\" with length 78356 bytes\n",
            "User uploaded file \"model1.ckpt.index\" with length 752 bytes\n",
            "User uploaded file \"model1.ckpt.meta\" with length 182334 bytes\n",
            "User uploaded file \"model2.ckpt.data-00000-of-00001\" with length 78356 bytes\n",
            "User uploaded file \"model2.ckpt.index\" with length 752 bytes\n",
            "User uploaded file \"model2.ckpt.meta\" with length 244350 bytes\n",
            "User uploaded file \"model3.ckpt.data-00000-of-00001\" with length 78356 bytes\n",
            "User uploaded file \"model3.ckpt.index\" with length 752 bytes\n",
            "User uploaded file \"model3.ckpt.meta\" with length 488233 bytes\n"
          ],
          "name": "stdout"
        }
      ]
    },
    {
      "metadata": {
        "id": "3k_gdMLEcpTK",
        "colab_type": "code",
        "colab": {
          "autoexec": {
            "startup": false,
            "wait_interval": 0
          }
        }
      },
      "cell_type": "code",
      "source": [
        "import pprint, pickle\n",
        "\n",
        "pkl_file = open('image_t.pkl', 'rb')\n",
        "\n",
        "data3 = pickle.load(pkl_file)\n",
        "#pprint.pprint(data1)\n",
        "\n",
        "#data2 = pickle.load(pkl_file)\n",
        "#pprint.pprint(data2)\n",
        "\n",
        "pkl_file.close()"
      ],
      "execution_count": 0,
      "outputs": []
    },
    {
      "metadata": {
        "id": "pT2CW3XWE52z",
        "colab_type": "code",
        "colab": {
          "autoexec": {
            "startup": false,
            "wait_interval": 0
          },
          "output_extras": [
            {
              "item_id": 1
            }
          ],
          "base_uri": "https://localhost:8080/",
          "height": 120
        },
        "outputId": "9d8c18ff-464b-430b-f629-78a1ec39195c",
        "executionInfo": {
          "status": "ok",
          "timestamp": 1522243148548,
          "user_tz": -60,
          "elapsed": 1523,
          "user": {
            "displayName": "JOY WU",
            "photoUrl": "//lh6.googleusercontent.com/-tPBEt0lFVJA/AAAAAAAAAAI/AAAAAAAABm0/dJFicuVmNrg/s50-c-k-no/photo.jpg",
            "userId": "118283881385645801877"
          }
        }
      },
      "cell_type": "code",
      "source": [
        "!ls"
      ],
      "execution_count": 12,
      "outputs": [
        {
          "output_type": "stream",
          "text": [
            "compgi22_dl_cw4\t\t\t model2.ckpt.index\r\n",
            "datalab\t\t\t\t model2.ckpt.meta\r\n",
            "model1.ckpt.data-00000-of-00001  model3.ckpt.data-00000-of-00001\r\n",
            "model1.ckpt.index\t\t model3.ckpt.index\r\n",
            "model1.ckpt.meta\t\t model3.ckpt.meta\r\n",
            "model2.ckpt.data-00000-of-00001\r\n"
          ],
          "name": "stdout"
        }
      ]
    },
    {
      "metadata": {
        "id": "JpPuhyMQ0HZ3",
        "colab_type": "code",
        "colab": {
          "autoexec": {
            "startup": false,
            "wait_interval": 0
          },
          "output_extras": [
            {
              "item_id": 1
            },
            {
              "item_id": 2
            }
          ],
          "base_uri": "https://localhost:8080/",
          "height": 178
        },
        "outputId": "685f9d90-aa26-40ee-c393-59290ac941eb",
        "executionInfo": {
          "status": "ok",
          "timestamp": 1522162177980,
          "user_tz": -60,
          "elapsed": 705,
          "user": {
            "displayName": "JOY WU",
            "photoUrl": "//lh6.googleusercontent.com/-tPBEt0lFVJA/AAAAAAAAAAI/AAAAAAAABm0/dJFicuVmNrg/s50-c-k-no/photo.jpg",
            "userId": "118283881385645801877"
          }
        }
      },
      "cell_type": "code",
      "source": [
        "# good example: number 74\n",
        "\n",
        "n = 74\n",
        "\n",
        "image1 = np.reshape(loss_ten[0][2][0][4][n],(28,28))\n",
        "\n",
        "plt.subplot(1,4,1)\n",
        "plt.title('Predict image')\n",
        "plt.imshow(np.reshape(loss_ten[0][0][0][4][n],(28,28)))\n",
        "\n",
        "plt.subplot(1,4,2)\n",
        "plt.title('Predict image')\n",
        "plt.imshow(np.reshape(loss_ten[0][1][0][4][n],(28,28)))\n",
        "\n",
        "plt.subplot(1,4,3)\n",
        "plt.title('Predict image')\n",
        "plt.imshow(image1)\n",
        "\n",
        "image2 = np.reshape(image[0][n],(28,28))\n",
        "\n",
        "plt.subplot(1,4,4)\n",
        "plt.title('Ground truth')\n",
        "plt.imshow(image2)"
      ],
      "execution_count": 133,
      "outputs": [
        {
          "output_type": "execute_result",
          "data": {
            "text/plain": [
              "<matplotlib.image.AxesImage at 0x7f8588eb8198>"
            ]
          },
          "metadata": {
            "tags": []
          },
          "execution_count": 133
        },
        {
          "output_type": "display_data",
          "data": {
            "image/png": "[encoded data removed]",
            "text/plain": [
              "<matplotlib.figure.Figure at 0x7f858868e3c8>"
            ]
          },
          "metadata": {
            "tags": []
          }
        }
      ]
    },
    {
      "metadata": {
        "id": "ZstP7ZbcdqFN",
        "colab_type": "code",
        "colab": {
          "autoexec": {
            "startup": false,
            "wait_interval": 0
          },
          "output_extras": [
            {
              "item_id": 1
            },
            {
              "item_id": 2
            }
          ],
          "base_uri": "https://localhost:8080/",
          "height": 178
        },
        "outputId": "1d751073-a22b-455a-adef-0e18117a78f9",
        "executionInfo": {
          "status": "ok",
          "timestamp": 1522176835369,
          "user_tz": -60,
          "elapsed": 651,
          "user": {
            "displayName": "JOY WU",
            "photoUrl": "//lh6.googleusercontent.com/-tPBEt0lFVJA/AAAAAAAAAAI/AAAAAAAABm0/dJFicuVmNrg/s50-c-k-no/photo.jpg",
            "userId": "118283881385645801877"
          }
        }
      },
      "cell_type": "code",
      "source": [
        "# bad example: number 6\n",
        "n = 6\n",
        "\n",
        "image1 = np.reshape(data1[0][2][0][4][n],(28,28))\n",
        "plt.subplot(1,4,1)\n",
        "plt.title('Predict image')\n",
        "plt.imshow(np.reshape(data1[0][0][0][4][n],(28,28)))\n",
        "\n",
        "plt.subplot(1,4,2)\n",
        "plt.title('Predict image')\n",
        "plt.imshow(np.reshape(data1[0][1][0][4][n],(28,28)))\n",
        "\n",
        "plt.subplot(1,4,3)\n",
        "plt.title('Predict image')\n",
        "plt.imshow(image1)\n",
        "\n",
        "image2 = np.reshape(data3[0][n],(28,28))\n",
        "plt.subplot(1,4,4)\n",
        "plt.title('Ground truth')\n",
        "plt.imshow(image2)"
      ],
      "execution_count": 274,
      "outputs": [
        {
          "output_type": "execute_result",
          "data": {
            "text/plain": [
              "<matplotlib.image.AxesImage at 0x7f856baaa940>"
            ]
          },
          "metadata": {
            "tags": []
          },
          "execution_count": 274
        },
        {
          "output_type": "display_data",
          "data": {
            "image/png": "[encoded data removed]",
            "text/plain": [
              "<matplotlib.figure.Figure at 0x7f8578eccc88>"
            ]
          },
          "metadata": {
            "tags": []
          }
        }
      ]
    },
    {
      "metadata": {
        "id": "zEA7Lgytl5pL",
        "colab_type": "code",
        "colab": {
          "autoexec": {
            "startup": false,
            "wait_interval": 0
          },
          "output_extras": [
            {
              "item_id": 1
            }
          ],
          "base_uri": "https://localhost:8080/",
          "height": 35
        },
        "outputId": "122a1fae-f63d-4fce-bd80-bdf344f9a844",
        "executionInfo": {
          "status": "ok",
          "timestamp": 1522162654289,
          "user_tz": -60,
          "elapsed": 471,
          "user": {
            "displayName": "JOY WU",
            "photoUrl": "//lh6.googleusercontent.com/-tPBEt0lFVJA/AAAAAAAAAAI/AAAAAAAABm0/dJFicuVmNrg/s50-c-k-no/photo.jpg",
            "userId": "118283881385645801877"
          }
        }
      },
      "cell_type": "code",
      "source": [
        "len(data3[0])"
      ],
      "execution_count": 134,
      "outputs": [
        {
          "output_type": "execute_result",
          "data": {
            "text/plain": [
              "100"
            ]
          },
          "metadata": {
            "tags": []
          },
          "execution_count": 134
        }
      ]
    },
    {
      "metadata": {
        "id": "FC06V0nJsbz8",
        "colab_type": "text"
      },
      "cell_type": "markdown",
      "source": [
        "### Visualize completing the image. \n",
        "Pick out $3$ examples from your in-painting dataset to visualize  the resulting images -- this can be done at random, but should include \\textit{a successful example, failure example and one that displays high variance between samples.}"
      ]
    },
    {
      "metadata": {
        "id": "Uocfc6kP-Cwq",
        "colab_type": "code",
        "colab": {
          "autoexec": {
            "startup": false,
            "wait_interval": 0
          },
          "output_extras": [
            {
              "item_id": 28
            },
            {
              "item_id": 54
            },
            {
              "item_id": 61
            }
          ],
          "base_uri": "https://localhost:8080/",
          "height": 5696
        },
        "outputId": "d0b1955f-371d-4829-b2ea-1e79f15da354",
        "executionInfo": {
          "status": "ok",
          "timestamp": 1522167159934,
          "user_tz": -60,
          "elapsed": 3357450,
          "user": {
            "displayName": "JOY WU",
            "photoUrl": "//lh6.googleusercontent.com/-tPBEt0lFVJA/AAAAAAAAAAI/AAAAAAAABm0/dJFicuVmNrg/s50-c-k-no/photo.jpg",
            "userId": "118283881385645801877"
          }
        }
      },
      "cell_type": "code",
      "source": [
        "#Use the model for predictions and compare log likelihood\n",
        "loss_full = []\n",
        "sample100, real_pixels, image100 = sample100images()\n",
        "with tf.device('/device:GPU:*'):\n",
        "\n",
        "  for j in range(10):\n",
        "    print(j)\n",
        "    loss_ten = []\n",
        "    tf.reset_default_graph()\n",
        "    num_epochs = 2\n",
        "    learning_rate = 0.001\n",
        "    batch_size = 256 \n",
        "    num_hidden_unit = 32\n",
        "    num_classes = 1\n",
        "    fully_connected_hidden_units = 64\n",
        "    initializer = tf.contrib.layers.xavier_initializer()\n",
        "    mnist = get_data()\n",
        "    eval_mnist = get_data()\n",
        "\n",
        "    x, y_ = get_placeholders()\n",
        "    x_reshape = tf.reshape(x, [-1, 28*28-1, 1])\n",
        "    y_ = tf.reshape(y_, [-1, 28*28-1])\n",
        "\n",
        "    time_steps = 28*28-1\n",
        "    num_units = 1\n",
        "\n",
        "    # LSTM\n",
        "    RNN_layers = [tf.nn.rnn_cell.LSTMCell(size) for size in [num_hidden_unit]]\n",
        "\n",
        "    multi_rnn_cell = tf.nn.rnn_cell.MultiRNNCell(RNN_layers)\n",
        "    lstm_outputs, state = tf.nn.dynamic_rnn(multi_rnn_cell, x_reshape, dtype=tf.float32) # lstm_output: bs * 783 * 32\n",
        "\n",
        "    lstm_outputs = tf.reshape(lstm_outputs, [-1, num_hidden_unit]) # lstm_output:(bs*783, 32)\n",
        "\n",
        "    W_1 = tf.Variable(initializer([num_hidden_unit, fully_connected_hidden_units]))\n",
        "    b_1 = tf.Variable(initializer([fully_connected_hidden_units]))\n",
        "    hid_1 = tf.matmul(tf.nn.relu(lstm_outputs), W_1) + b_1 # hid_1:(bs*783, 64)\n",
        "\n",
        "    W_2 = tf.Variable(initializer([fully_connected_hidden_units, num_classes]))\n",
        "    b_2 = tf.Variable(initializer([num_classes]))\n",
        "    y = tf.matmul(tf.nn.relu(hid_1), W_2) + b_2 # y:(bs*783, 1)\n",
        "\n",
        "    y = tf.reshape(y, [-1, time_steps]) # y:(bs, 783)\n",
        "\n",
        "    x_test, y_test = get_placeholders2()\n",
        "    current = x_test\n",
        "    y_test = tf.reshape(y_test, [-1, 300])\n",
        "    for i in range(300):\n",
        "      current = tf.reshape(current, [-1, 484 + i, 1])\n",
        "\n",
        "      outputs_t, _ = tf.nn.dynamic_rnn(multi_rnn_cell, current, dtype=tf.float32)\n",
        "      rnn_outputs_t = outputs_t[:, -1, :]   #batch_size * 1 * num_hidden\n",
        "      rnn_outputs_t = tf.reshape(rnn_outputs_t, [-1, num_hidden_unit])\n",
        "      A0_t = tf.nn.relu(rnn_outputs_t)\n",
        "      A1_t = tf.nn.relu(tf.matmul(A0_t, W_1) + b_1)\n",
        "      A2_t = tf.sigmoid(tf.matmul(A1_t, W_2) + b_2)\n",
        "      current = tf.reshape(current, [-1, 484 + i])\n",
        "\n",
        "      # uniform rand \n",
        "  #     random_ = tf.random_uniform((100, 1), minval=0, maxval=1,dtype=tf.float32)\n",
        "      random_ = tf.reshape(tf.reduce_mean(tf.random_uniform((100, 10), minval=0, maxval=1,dtype=tf.float32), 1), [100, 1])\n",
        "\n",
        "      result = A2_t - random_\n",
        "\n",
        "      result = tf.cast(result>0, result.dtype)\n",
        "      current = tf.concat([current, result],1)\n",
        "\n",
        "    pixels = current  \n",
        "    total = []\n",
        "    predict_loss1 = tf.reduce_mean(tf.nn.sigmoid_cross_entropy_with_logits(labels = y_test[:,0], logits = pixels[:,-300]))\n",
        "    predict_loss10 = tf.reduce_mean(tf.nn.sigmoid_cross_entropy_with_logits(labels = y_test[:,0:10], logits = pixels[:,-300:-290]))\n",
        "    predict_loss28 = tf.reduce_mean(tf.nn.sigmoid_cross_entropy_with_logits(labels = y_test[:,0:28], logits = pixels[:,-300:-272]))\n",
        "    predict_loss300 = tf.reduce_mean(tf.nn.sigmoid_cross_entropy_with_logits(labels = y_test, logits = pixels[:,-300:]))  \n",
        "\n",
        "    total.append([predict_loss1, predict_loss10, predict_loss28, predict_loss300, pixels])\n",
        "    init = tf.global_variables_initializer()\n",
        "    with tf.Session() as sess:\n",
        "        sess.run(init)\n",
        "\n",
        "        saver = tf.train.Saver()\n",
        "\n",
        "        saver.restore(sess, \"model1.ckpt\")\n",
        "        logloss_epochs0 = sess.run(total, feed_dict={x_test: sample100, y_test: real_pixels })   \n",
        "        print('loss epochs0:', logloss_epochs0)\n",
        "\n",
        "        saver.restore(sess, \"model2.ckpt\")\n",
        "        logloss_epochs1 = sess.run(total, feed_dict={x_test: sample100, y_test: real_pixels })      \n",
        "        print('loss epochs1:', logloss_epochs1)\n",
        "\n",
        "        saver.restore(sess, \"model3.ckpt\")\n",
        "        logloss_epochs5 = sess.run(total, feed_dict={x_test: sample100, y_test: real_pixels })      \n",
        "        print('loss epochs5:', logloss_epochs5)\n",
        "\n",
        "        loss_ten.append([logloss_epochs0, logloss_epochs1, logloss_epochs5])\n",
        "        loss_full.append(loss_ten) \n",
        "  image_full = image100\n"
      ],
      "execution_count": 136,
      "outputs": [
        {
          "output_type": "stream",
          "text": [
            "Extracting MNIST_data/train-images-idx3-ubyte.gz\n",
            "Extracting MNIST_data/train-labels-idx1-ubyte.gz\n",
            "Extracting MNIST_data/t10k-images-idx3-ubyte.gz\n",
            "Extracting MNIST_data/t10k-labels-idx1-ubyte.gz\n",
            "0\n",
            "Extracting MNIST_data/train-images-idx3-ubyte.gz\n",
            "Extracting MNIST_data/train-labels-idx1-ubyte.gz\n",
            "Extracting MNIST_data/t10k-images-idx3-ubyte.gz\n",
            "Extracting MNIST_data/t10k-labels-idx1-ubyte.gz\n",
            "Extracting MNIST_data/train-images-idx3-ubyte.gz\n",
            "Extracting MNIST_data/train-labels-idx1-ubyte.gz\n",
            "Extracting MNIST_data/t10k-images-idx3-ubyte.gz\n",
            "Extracting MNIST_data/t10k-labels-idx1-ubyte.gz\n",
            "INFO:tensorflow:Restoring parameters from model1.ckpt\n",
            "loss epochs0: [[1.0608594, 0.8175578, 1.0513862, 1.1391549, array([[0., 0., 0., ..., 1., 1., 1.],\n",
            "       [0., 0., 0., ..., 1., 1., 1.],\n",
            "       [0., 0., 0., ..., 1., 1., 1.],\n",
            "       ...,\n",
            "       [0., 0., 0., ..., 1., 1., 1.],\n",
            "       [0., 0., 0., ..., 0., 1., 1.],\n",
            "       [0., 0., 0., ..., 1., 0., 1.]], dtype=float32)]]\n",
            "INFO:tensorflow:Restoring parameters from model2.ckpt\n",
            "loss epochs1: [[0.6285667, 0.6641701, 0.68142956, 0.6924945, array([[0., 0., 0., ..., 0., 0., 0.],\n",
            "       [0., 0., 0., ..., 0., 0., 0.],\n",
            "       [0., 0., 0., ..., 0., 0., 0.],\n",
            "       ...,\n",
            "       [0., 0., 0., ..., 0., 0., 0.],\n",
            "       [0., 0., 0., ..., 0., 0., 0.],\n",
            "       [0., 0., 0., ..., 0., 0., 0.]], dtype=float32)]]\n",
            "INFO:tensorflow:Restoring parameters from model3.ckpt\n",
            "loss epochs5: [[0.6233713, 0.6232993, 0.65912145, 0.7060996, array([[0., 0., 0., ..., 0., 0., 0.],\n",
            "       [0., 0., 0., ..., 0., 0., 0.],\n",
            "       [0., 0., 0., ..., 0., 0., 0.],\n",
            "       ...,\n",
            "       [0., 0., 0., ..., 0., 0., 0.],\n",
            "       [0., 0., 0., ..., 0., 0., 0.],\n",
            "       [0., 0., 0., ..., 0., 0., 0.]], dtype=float32)]]\n",
            "1\n",
            "Extracting MNIST_data/train-images-idx3-ubyte.gz\n",
            "Extracting MNIST_data/train-labels-idx1-ubyte.gz\n",
            "Extracting MNIST_data/t10k-images-idx3-ubyte.gz\n",
            "Extracting MNIST_data/t10k-labels-idx1-ubyte.gz\n",
            "Extracting MNIST_data/train-images-idx3-ubyte.gz\n",
            "Extracting MNIST_data/train-labels-idx1-ubyte.gz\n",
            "Extracting MNIST_data/t10k-images-idx3-ubyte.gz\n",
            "Extracting MNIST_data/t10k-labels-idx1-ubyte.gz\n",
            "INFO:tensorflow:Restoring parameters from model1.ckpt\n",
            "loss epochs0: [[1.042256, 0.8131164, 1.0513504, 1.1400765, array([[0., 0., 0., ..., 1., 1., 1.],\n",
            "       [0., 0., 0., ..., 1., 1., 1.],\n",
            "       [0., 0., 0., ..., 1., 1., 1.],\n",
            "       ...,\n",
            "       [0., 0., 0., ..., 1., 1., 1.],\n",
            "       [0., 0., 0., ..., 0., 1., 1.],\n",
            "       [0., 0., 0., ..., 1., 1., 1.]], dtype=float32)]]\n",
            "INFO:tensorflow:Restoring parameters from model2.ckpt\n",
            "loss epochs1: [[0.63236547, 0.6626896, 0.6806574, 0.69277644, array([[0., 0., 0., ..., 0., 0., 0.],\n",
            "       [0., 0., 0., ..., 0., 0., 0.],\n",
            "       [0., 0., 0., ..., 0., 0., 0.],\n",
            "       ...,\n",
            "       [0., 0., 0., ..., 0., 0., 0.],\n",
            "       [0., 0., 0., ..., 0., 0., 0.],\n",
            "       [0., 0., 0., ..., 0., 0., 0.]], dtype=float32)]]\n",
            "INFO:tensorflow:Restoring parameters from model3.ckpt\n",
            "loss epochs5: [[0.6333713, 0.61927694, 0.6562064, 0.70112175, array([[0., 0., 0., ..., 0., 0., 0.],\n",
            "       [0., 0., 0., ..., 0., 0., 0.],\n",
            "       [0., 0., 0., ..., 0., 0., 0.],\n",
            "       ...,\n",
            "       [0., 0., 0., ..., 0., 0., 0.],\n",
            "       [0., 0., 0., ..., 0., 0., 0.],\n",
            "       [0., 0., 0., ..., 0., 0., 0.]], dtype=float32)]]\n",
            "2\n",
            "Extracting MNIST_data/train-images-idx3-ubyte.gz\n",
            "Extracting MNIST_data/train-labels-idx1-ubyte.gz\n",
            "Extracting MNIST_data/t10k-images-idx3-ubyte.gz\n",
            "Extracting MNIST_data/t10k-labels-idx1-ubyte.gz\n",
            "Extracting MNIST_data/train-images-idx3-ubyte.gz\n",
            "Extracting MNIST_data/train-labels-idx1-ubyte.gz\n",
            "Extracting MNIST_data/t10k-images-idx3-ubyte.gz\n",
            "Extracting MNIST_data/t10k-labels-idx1-ubyte.gz\n",
            "INFO:tensorflow:Restoring parameters from model1.ckpt\n",
            "loss epochs0: [[1.0622561, 0.8174572, 1.0520147, 1.1385096, array([[0., 0., 0., ..., 1., 1., 1.],\n",
            "       [0., 0., 0., ..., 1., 1., 1.],\n",
            "       [0., 0., 0., ..., 1., 0., 0.],\n",
            "       ...,\n",
            "       [0., 0., 0., ..., 1., 1., 1.],\n",
            "       [0., 0., 0., ..., 1., 1., 1.],\n",
            "       [0., 0., 0., ..., 1., 1., 1.]], dtype=float32)]]\n",
            "INFO:tensorflow:Restoring parameters from model2.ckpt\n",
            "loss epochs1: [[0.6285667, 0.66748846, 0.6846358, 0.6929146, array([[0., 0., 0., ..., 0., 0., 0.],\n",
            "       [0., 0., 0., ..., 0., 0., 0.],\n",
            "       [0., 0., 0., ..., 0., 0., 0.],\n",
            "       ...,\n",
            "       [0., 0., 0., ..., 0., 0., 0.],\n",
            "       [0., 0., 0., ..., 0., 0., 0.],\n",
            "       [0., 0., 0., ..., 0., 0., 0.]], dtype=float32)]]\n",
            "INFO:tensorflow:Restoring parameters from model3.ckpt\n",
            "loss epochs5: [[0.6333713, 0.62513727, 0.6596781, 0.70042723, array([[0., 0., 0., ..., 0., 0., 0.],\n",
            "       [0., 0., 0., ..., 0., 0., 0.],\n",
            "       [0., 0., 0., ..., 0., 0., 0.],\n",
            "       ...,\n",
            "       [0., 0., 0., ..., 0., 0., 0.],\n",
            "       [0., 0., 0., ..., 0., 0., 0.],\n",
            "       [0., 0., 0., ..., 0., 0., 0.]], dtype=float32)]]\n",
            "3\n",
            "Extracting MNIST_data/train-images-idx3-ubyte.gz\n",
            "Extracting MNIST_data/train-labels-idx1-ubyte.gz\n",
            "Extracting MNIST_data/t10k-images-idx3-ubyte.gz\n",
            "Extracting MNIST_data/t10k-labels-idx1-ubyte.gz\n",
            "Extracting MNIST_data/train-images-idx3-ubyte.gz\n",
            "Extracting MNIST_data/train-labels-idx1-ubyte.gz\n",
            "Extracting MNIST_data/t10k-images-idx3-ubyte.gz\n",
            "Extracting MNIST_data/t10k-labels-idx1-ubyte.gz\n",
            "INFO:tensorflow:Restoring parameters from model1.ckpt\n",
            "loss epochs0: [[1.0808594, 0.8180158, 1.0502709, 1.138611, array([[0., 0., 0., ..., 1., 1., 1.],\n",
            "       [0., 0., 0., ..., 1., 1., 1.],\n",
            "       [0., 0., 0., ..., 1., 1., 1.],\n",
            "       ...,\n",
            "       [0., 0., 0., ..., 1., 1., 1.],\n",
            "       [0., 0., 0., ..., 1., 1., 1.],\n",
            "       [0., 0., 0., ..., 1., 1., 1.]], dtype=float32)]]\n",
            "INFO:tensorflow:Restoring parameters from model2.ckpt\n",
            "loss epochs1: [[0.63236547, 0.67242694, 0.68535614, 0.69263023, array([[0., 0., 0., ..., 0., 0., 0.],\n",
            "       [0., 0., 0., ..., 0., 0., 0.],\n",
            "       [0., 0., 0., ..., 0., 0., 0.],\n",
            "       ...,\n",
            "       [0., 0., 0., ..., 0., 0., 0.],\n",
            "       [0., 0., 0., ..., 0., 0., 0.],\n",
            "       [0., 0., 0., ..., 0., 0., 0.]], dtype=float32)]]\n",
            "INFO:tensorflow:Restoring parameters from model3.ckpt\n",
            "loss epochs5: [[0.6271701, 0.6249976, 0.6603784, 0.70542794, array([[0., 0., 0., ..., 0., 0., 0.],\n",
            "       [0., 0., 0., ..., 0., 0., 0.],\n",
            "       [0., 0., 0., ..., 0., 0., 0.],\n",
            "       ...,\n",
            "       [0., 0., 0., ..., 0., 0., 0.],\n",
            "       [0., 0., 0., ..., 0., 0., 0.],\n",
            "       [0., 0., 0., ..., 0., 0., 0.]], dtype=float32)]]\n",
            "4\n",
            "Extracting MNIST_data/train-images-idx3-ubyte.gz\n",
            "Extracting MNIST_data/train-labels-idx1-ubyte.gz\n",
            "Extracting MNIST_data/t10k-images-idx3-ubyte.gz\n",
            "Extracting MNIST_data/t10k-labels-idx1-ubyte.gz\n",
            "Extracting MNIST_data/train-images-idx3-ubyte.gz\n",
            "Extracting MNIST_data/train-labels-idx1-ubyte.gz\n",
            "Extracting MNIST_data/t10k-images-idx3-ubyte.gz\n",
            "Extracting MNIST_data/t10k-labels-idx1-ubyte.gz\n",
            "INFO:tensorflow:Restoring parameters from model1.ckpt\n"
          ],
          "name": "stdout"
        },
        {
          "output_type": "stream",
          "text": [
            "loss epochs0: [[1.0546584, 0.81621695, 1.0512785, 1.1387336, array([[0., 0., 0., ..., 1., 1., 1.],\n",
            "       [0., 0., 0., ..., 1., 1., 1.],\n",
            "       [0., 0., 0., ..., 1., 1., 1.],\n",
            "       ...,\n",
            "       [0., 0., 0., ..., 1., 1., 1.],\n",
            "       [0., 0., 0., ..., 1., 1., 1.],\n",
            "       [0., 0., 0., ..., 1., 1., 1.]], dtype=float32)]]\n",
            "INFO:tensorflow:Restoring parameters from model2.ckpt\n",
            "loss epochs1: [[0.6285667, 0.6678293, 0.6838797, 0.6934172, array([[0., 0., 0., ..., 0., 0., 0.],\n",
            "       [0., 0., 0., ..., 0., 0., 0.],\n",
            "       [0., 0., 0., ..., 0., 0., 0.],\n",
            "       ...,\n",
            "       [0., 0., 0., ..., 0., 0., 0.],\n",
            "       [0., 0., 0., ..., 0., 0., 0.],\n",
            "       [0., 0., 0., ..., 0., 0., 0.]], dtype=float32)]]\n",
            "INFO:tensorflow:Restoring parameters from model3.ckpt\n",
            "loss epochs5: [[0.6333713, 0.61969584, 0.6583633, 0.70162255, array([[0., 0., 0., ..., 0., 0., 0.],\n",
            "       [0., 0., 0., ..., 0., 0., 0.],\n",
            "       [0., 0., 0., ..., 0., 0., 0.],\n",
            "       ...,\n",
            "       [0., 0., 0., ..., 0., 0., 0.],\n",
            "       [0., 0., 0., ..., 0., 0., 0.],\n",
            "       [0., 0., 0., ..., 0., 0., 0.]], dtype=float32)]]\n",
            "5\n",
            "Extracting MNIST_data/train-images-idx3-ubyte.gz\n",
            "Extracting MNIST_data/train-labels-idx1-ubyte.gz\n",
            "Extracting MNIST_data/t10k-images-idx3-ubyte.gz\n",
            "Extracting MNIST_data/t10k-labels-idx1-ubyte.gz\n",
            "Extracting MNIST_data/train-images-idx3-ubyte.gz\n",
            "Extracting MNIST_data/train-labels-idx1-ubyte.gz\n",
            "Extracting MNIST_data/t10k-images-idx3-ubyte.gz\n",
            "Extracting MNIST_data/t10k-labels-idx1-ubyte.gz\n",
            "INFO:tensorflow:Restoring parameters from model1.ckpt\n",
            "loss epochs0: [[1.0312502, 0.81573653, 1.051043, 1.1398617, array([[0., 0., 0., ..., 1., 1., 1.],\n",
            "       [0., 0., 0., ..., 1., 1., 1.],\n",
            "       [0., 0., 0., ..., 1., 1., 1.],\n",
            "       ...,\n",
            "       [0., 0., 0., ..., 1., 1., 1.],\n",
            "       [0., 0., 0., ..., 1., 1., 1.],\n",
            "       [0., 0., 0., ..., 1., 1., 1.]], dtype=float32)]]\n",
            "INFO:tensorflow:Restoring parameters from model2.ckpt\n",
            "loss epochs1: [[0.6285667, 0.6632091, 0.682908, 0.6921805, array([[0., 0., 0., ..., 0., 0., 0.],\n",
            "       [0., 0., 0., ..., 0., 0., 0.],\n",
            "       [0., 0., 0., ..., 0., 0., 0.],\n",
            "       ...,\n",
            "       [0., 0., 0., ..., 0., 0., 0.],\n",
            "       [0., 0., 0., ..., 0., 0., 0.],\n",
            "       [0., 0., 0., ..., 0., 0., 0.]], dtype=float32)]]\n",
            "INFO:tensorflow:Restoring parameters from model3.ckpt\n",
            "loss epochs5: [[0.6271701, 0.6263551, 0.66016287, 0.702679, array([[0., 0., 0., ..., 0., 0., 0.],\n",
            "       [0., 0., 0., ..., 0., 0., 0.],\n",
            "       [0., 0., 0., ..., 0., 0., 0.],\n",
            "       ...,\n",
            "       [0., 0., 0., ..., 0., 0., 0.],\n",
            "       [0., 0., 0., ..., 0., 0., 0.],\n",
            "       [0., 0., 0., ..., 0., 0., 0.]], dtype=float32)]]\n",
            "6\n",
            "Extracting MNIST_data/train-images-idx3-ubyte.gz\n",
            "Extracting MNIST_data/train-labels-idx1-ubyte.gz\n",
            "Extracting MNIST_data/t10k-images-idx3-ubyte.gz\n",
            "Extracting MNIST_data/t10k-labels-idx1-ubyte.gz\n",
            "Extracting MNIST_data/train-images-idx3-ubyte.gz\n",
            "Extracting MNIST_data/train-labels-idx1-ubyte.gz\n",
            "Extracting MNIST_data/t10k-images-idx3-ubyte.gz\n",
            "Extracting MNIST_data/t10k-labels-idx1-ubyte.gz\n",
            "INFO:tensorflow:Restoring parameters from model1.ckpt\n",
            "loss epochs0: [[1.0646583, 0.8182169, 1.0558795, 1.1401725, array([[0., 0., 0., ..., 1., 1., 1.],\n",
            "       [0., 0., 0., ..., 1., 1., 1.],\n",
            "       [0., 0., 0., ..., 1., 1., 1.],\n",
            "       ...,\n",
            "       [0., 0., 0., ..., 1., 1., 1.],\n",
            "       [0., 0., 0., ..., 0., 1., 1.],\n",
            "       [0., 0., 0., ..., 1., 1., 1.]], dtype=float32)]]\n",
            "INFO:tensorflow:Restoring parameters from model2.ckpt\n",
            "loss epochs1: [[0.6285667, 0.667969, 0.6826646, 0.69290376, array([[0., 0., 0., ..., 0., 0., 0.],\n",
            "       [0., 0., 0., ..., 0., 0., 0.],\n",
            "       [0., 0., 0., ..., 0., 0., 0.],\n",
            "       ...,\n",
            "       [0., 0., 0., ..., 0., 0., 0.],\n",
            "       [0., 0., 0., ..., 0., 0., 0.],\n",
            "       [0., 0., 0., ..., 0., 0., 0.]], dtype=float32)]]\n",
            "INFO:tensorflow:Restoring parameters from model3.ckpt\n",
            "loss epochs5: [[0.6333713, 0.62395847, 0.6606358, 0.7067024, array([[0., 0., 0., ..., 0., 0., 0.],\n",
            "       [0., 0., 0., ..., 0., 0., 0.],\n",
            "       [0., 0., 0., ..., 0., 0., 0.],\n",
            "       ...,\n",
            "       [0., 0., 0., ..., 0., 0., 0.],\n",
            "       [0., 0., 0., ..., 0., 0., 0.],\n",
            "       [0., 0., 0., ..., 0., 0., 0.]], dtype=float32)]]\n",
            "7\n",
            "Extracting MNIST_data/train-images-idx3-ubyte.gz\n",
            "Extracting MNIST_data/train-labels-idx1-ubyte.gz\n",
            "Extracting MNIST_data/t10k-images-idx3-ubyte.gz\n",
            "Extracting MNIST_data/t10k-labels-idx1-ubyte.gz\n",
            "Extracting MNIST_data/train-images-idx3-ubyte.gz\n",
            "Extracting MNIST_data/train-labels-idx1-ubyte.gz\n",
            "Extracting MNIST_data/t10k-images-idx3-ubyte.gz\n",
            "Extracting MNIST_data/t10k-labels-idx1-ubyte.gz\n",
            "INFO:tensorflow:Restoring parameters from model1.ckpt\n",
            "loss epochs0: [[1.0722561, 0.81597674, 1.0481999, 1.1392817, array([[0., 0., 0., ..., 1., 1., 1.],\n",
            "       [0., 0., 0., ..., 1., 1., 1.],\n",
            "       [0., 0., 0., ..., 1., 0., 1.],\n",
            "       ...,\n",
            "       [0., 0., 0., ..., 1., 1., 1.],\n",
            "       [0., 0., 0., ..., 1., 1., 1.],\n",
            "       [0., 0., 0., ..., 1., 1., 1.]], dtype=float32)]]\n",
            "INFO:tensorflow:Restoring parameters from model2.ckpt\n",
            "loss epochs1: [[0.6285667, 0.6657287, 0.6836722, 0.6930625, array([[0., 0., 0., ..., 0., 0., 0.],\n",
            "       [0., 0., 0., ..., 0., 0., 0.],\n",
            "       [0., 0., 0., ..., 0., 0., 0.],\n",
            "       ...,\n",
            "       [0., 0., 0., ..., 0., 0., 0.],\n",
            "       [0., 0., 0., ..., 0., 0., 0.],\n",
            "       [0., 0., 0., ..., 0., 0., 0.]], dtype=float32)]]\n",
            "INFO:tensorflow:Restoring parameters from model3.ckpt\n",
            "loss epochs5: [[0.6371701, 0.6209194, 0.65777874, 0.7022689, array([[0., 0., 0., ..., 0., 0., 0.],\n",
            "       [0., 0., 0., ..., 0., 0., 0.],\n",
            "       [0., 0., 0., ..., 0., 0., 0.],\n",
            "       ...,\n",
            "       [0., 0., 0., ..., 0., 0., 0.],\n",
            "       [0., 0., 0., ..., 0., 0., 0.],\n",
            "       [0., 0., 0., ..., 0., 0., 0.]], dtype=float32)]]\n",
            "8\n",
            "Extracting MNIST_data/train-images-idx3-ubyte.gz\n",
            "Extracting MNIST_data/train-labels-idx1-ubyte.gz\n",
            "Extracting MNIST_data/t10k-images-idx3-ubyte.gz\n",
            "Extracting MNIST_data/t10k-labels-idx1-ubyte.gz\n",
            "Extracting MNIST_data/train-images-idx3-ubyte.gz\n",
            "Extracting MNIST_data/train-labels-idx1-ubyte.gz\n",
            "Extracting MNIST_data/t10k-images-idx3-ubyte.gz\n",
            "Extracting MNIST_data/t10k-labels-idx1-ubyte.gz\n",
            "INFO:tensorflow:Restoring parameters from model1.ckpt\n",
            "loss epochs0: [[1.0722561, 0.81631756, 1.0507578, 1.1392816, array([[0., 0., 0., ..., 1., 1., 1.],\n",
            "       [0., 0., 0., ..., 1., 1., 1.],\n",
            "       [0., 0., 0., ..., 1., 1., 1.],\n",
            "       ...,\n",
            "       [0., 0., 0., ..., 1., 1., 1.],\n",
            "       [0., 0., 0., ..., 1., 1., 1.],\n",
            "       [0., 0., 0., ..., 1., 1., 1.]], dtype=float32)]]\n",
            "INFO:tensorflow:Restoring parameters from model2.ckpt\n",
            "loss epochs1: [[0.6285667, 0.67179024, 0.6847656, 0.69252706, array([[0., 0., 0., ..., 0., 0., 0.],\n",
            "       [0., 0., 0., ..., 0., 0., 0.],\n",
            "       [0., 0., 0., ..., 0., 0., 0.],\n",
            "       ...,\n",
            "       [0., 0., 0., ..., 0., 0., 0.],\n",
            "       [0., 0., 0., ..., 0., 0., 0.],\n",
            "       [0., 0., 0., ..., 0., 0., 0.]], dtype=float32)]]\n",
            "INFO:tensorflow:Restoring parameters from model3.ckpt\n"
          ],
          "name": "stdout"
        },
        {
          "output_type": "stream",
          "text": [
            "loss epochs5: [[0.6309689, 0.62743896, 0.66009307, 0.7035792, array([[0., 0., 0., ..., 0., 0., 0.],\n",
            "       [0., 0., 0., ..., 0., 0., 0.],\n",
            "       [0., 0., 0., ..., 0., 0., 0.],\n",
            "       ...,\n",
            "       [0., 0., 0., ..., 0., 0., 0.],\n",
            "       [0., 0., 0., ..., 0., 0., 0.],\n",
            "       [0., 0., 0., ..., 0., 0., 0.]], dtype=float32)]]\n",
            "9\n",
            "Extracting MNIST_data/train-images-idx3-ubyte.gz\n",
            "Extracting MNIST_data/train-labels-idx1-ubyte.gz\n",
            "Extracting MNIST_data/t10k-images-idx3-ubyte.gz\n",
            "Extracting MNIST_data/t10k-labels-idx1-ubyte.gz\n",
            "Extracting MNIST_data/train-images-idx3-ubyte.gz\n",
            "Extracting MNIST_data/train-labels-idx1-ubyte.gz\n",
            "Extracting MNIST_data/t10k-images-idx3-ubyte.gz\n",
            "Extracting MNIST_data/t10k-labels-idx1-ubyte.gz\n",
            "INFO:tensorflow:Restoring parameters from model1.ckpt\n",
            "loss epochs0: [[1.056055, 0.8219377, 1.0524079, 1.1389031, array([[0., 0., 0., ..., 1., 1., 1.],\n",
            "       [0., 0., 0., ..., 1., 1., 1.],\n",
            "       [0., 0., 0., ..., 1., 1., 1.],\n",
            "       ...,\n",
            "       [0., 0., 0., ..., 1., 1., 1.],\n",
            "       [0., 0., 0., ..., 1., 1., 1.],\n",
            "       [0., 0., 0., ..., 1., 1., 1.]], dtype=float32)]]\n",
            "INFO:tensorflow:Restoring parameters from model2.ckpt\n",
            "loss epochs1: [[0.6285667, 0.66555, 0.68181455, 0.69240636, array([[0., 0., 0., ..., 0., 0., 0.],\n",
            "       [0., 0., 0., ..., 0., 0., 0.],\n",
            "       [0., 0., 0., ..., 0., 0., 0.],\n",
            "       ...,\n",
            "       [0., 0., 0., ..., 0., 0., 0.],\n",
            "       [0., 0., 0., ..., 0., 0., 0.],\n",
            "       [0., 0., 0., ..., 0., 0., 0.]], dtype=float32)]]\n",
            "INFO:tensorflow:Restoring parameters from model3.ckpt\n",
            "loss epochs5: [[0.6333713, 0.61447805, 0.65322155, 0.7060056, array([[0., 0., 0., ..., 0., 0., 0.],\n",
            "       [0., 0., 0., ..., 0., 0., 0.],\n",
            "       [0., 0., 0., ..., 0., 0., 0.],\n",
            "       ...,\n",
            "       [0., 0., 0., ..., 0., 0., 0.],\n",
            "       [0., 0., 0., ..., 0., 0., 0.],\n",
            "       [0., 0., 0., ..., 0., 0., 0.]], dtype=float32)]]\n"
          ],
          "name": "stdout"
        }
      ]
    },
    {
      "metadata": {
        "id": "4yf7jlPWsbZ8",
        "colab_type": "code",
        "colab": {
          "autoexec": {
            "startup": false,
            "wait_interval": 0
          }
        }
      },
      "cell_type": "code",
      "source": [
        "#Visualize samples"
      ],
      "execution_count": 0,
      "outputs": []
    },
    {
      "metadata": {
        "id": "mxDTmU5fbuHH",
        "colab_type": "text"
      },
      "cell_type": "markdown",
      "source": [
        "### Good example"
      ]
    },
    {
      "metadata": {
        "id": "nq-SazbEPHk_",
        "colab_type": "code",
        "colab": {
          "autoexec": {
            "startup": false,
            "wait_interval": 0
          },
          "output_extras": [
            {
              "item_id": 1
            },
            {
              "item_id": 2
            }
          ],
          "base_uri": "https://localhost:8080/",
          "height": 380
        },
        "outputId": "f37f98ef-e6e3-4403-dc48-f65b4f452568",
        "executionInfo": {
          "status": "ok",
          "timestamp": 1522171351507,
          "user_tz": -60,
          "elapsed": 452,
          "user": {
            "displayName": "JOY WU",
            "photoUrl": "//lh6.googleusercontent.com/-tPBEt0lFVJA/AAAAAAAAAAI/AAAAAAAABm0/dJFicuVmNrg/s50-c-k-no/photo.jpg",
            "userId": "118283881385645801877"
          }
        }
      },
      "cell_type": "code",
      "source": [
        "left10 = np.zeros((1,290)) \n",
        "left1 = np.zeros((1,299))  \n",
        "left28 = np.zeros((1,272))  \n",
        "\n",
        "n = 27\n",
        "\n",
        "#image1 = np.reshape(loss_ten_full[0][2][0][4][n],(28,28))\n",
        "\n",
        "image2 = np.reshape(image_full[n],(28,28))\n",
        " \n",
        "plt.title('Ground truth')\n",
        "plt.imshow(image2)"
      ],
      "execution_count": 243,
      "outputs": [
        {
          "output_type": "execute_result",
          "data": {
            "text/plain": [
              "<matplotlib.image.AxesImage at 0x7f8564ec9e10>"
            ]
          },
          "metadata": {
            "tags": []
          },
          "execution_count": 243
        },
        {
          "output_type": "display_data",
          "data": {
            "image/png": "[encoded data removed]",
            "text/plain": [
              "<matplotlib.figure.Figure at 0x7f856d8238d0>"
            ]
          },
          "metadata": {
            "tags": []
          }
        }
      ]
    },
    {
      "metadata": {
        "id": "AfbcpFzXZWcq",
        "colab_type": "code",
        "colab": {
          "autoexec": {
            "startup": false,
            "wait_interval": 0
          },
          "output_extras": [
            {
              "item_id": 1
            }
          ],
          "base_uri": "https://localhost:8080/",
          "height": 846
        },
        "outputId": "082a9fb0-12ee-461a-d98d-4df1f2bb0a4a",
        "executionInfo": {
          "status": "ok",
          "timestamp": 1522171462260,
          "user_tz": -60,
          "elapsed": 1880,
          "user": {
            "displayName": "JOY WU",
            "photoUrl": "//lh6.googleusercontent.com/-tPBEt0lFVJA/AAAAAAAAAAI/AAAAAAAABm0/dJFicuVmNrg/s50-c-k-no/photo.jpg",
            "userId": "118283881385645801877"
          }
        }
      },
      "cell_type": "code",
      "source": [
        "\n",
        "# random choose 5 sample\n",
        "plt.figure(num='Comparison',figsize=(15,15))\n",
        "\n",
        "choices = np.random.choice(range(9), 5,replace=False)\n",
        "plt.subplot(4,5,3)\n",
        "plt.title('Next one pixel')\n",
        "pixels_1 = loss_full[choices[0]][0][2][0][4][n][0:-299]\n",
        "plt.imshow(np.reshape(np.append(pixels_1, left1),(28,28)))\n",
        "\n",
        "for i in range(3):\n",
        "  for j in range(5):\n",
        "    plt.subplot(4,5,i*5+j+6)\n",
        "    if i == 0:\n",
        "      plt.title('Next 10 pixels')    \n",
        "      pixels_10 = loss_full[choices[j]][0][2][0][4][n][0:-290]\n",
        "      plt.imshow(np.reshape(np.append(pixels_10, left10),(28,28)))\n",
        "    if i == 1:\n",
        "      plt.title('Next 28 pixels')\n",
        "      pixels_28 = loss_full[choices[j]][0][2][0][4][n][0:-272]\n",
        "      plt.imshow(np.reshape(np.append(pixels_28, left28),(28,28)))\n",
        " \n",
        "    if i == 2:\n",
        "      plt.title('Next 300 pixels')\n",
        "      plt.imshow(np.reshape(loss_full[choices[j]][0][2][0][4][n],(28,28)))"
      ],
      "execution_count": 248,
      "outputs": [
        {
          "output_type": "display_data",
          "data": {
            "image/png": "[encoded data removed]",
            "text/plain": [
              "<matplotlib.figure.Figure at 0x7f857c6ee898>"
            ]
          },
          "metadata": {
            "tags": []
          }
        }
      ]
    },
    {
      "metadata": {
        "id": "rXDRPkC1f99m",
        "colab_type": "text"
      },
      "cell_type": "markdown",
      "source": [
        "### Bad exmaple"
      ]
    },
    {
      "metadata": {
        "id": "C11eO5DWgAxg",
        "colab_type": "code",
        "colab": {
          "autoexec": {
            "startup": false,
            "wait_interval": 0
          },
          "output_extras": [
            {
              "item_id": 1
            },
            {
              "item_id": 2
            }
          ],
          "base_uri": "https://localhost:8080/",
          "height": 380
        },
        "outputId": "9539b01f-76ca-4bab-97f1-2e203ab362d0",
        "executionInfo": {
          "status": "ok",
          "timestamp": 1522171693410,
          "user_tz": -60,
          "elapsed": 524,
          "user": {
            "displayName": "JOY WU",
            "photoUrl": "//lh6.googleusercontent.com/-tPBEt0lFVJA/AAAAAAAAAAI/AAAAAAAABm0/dJFicuVmNrg/s50-c-k-no/photo.jpg",
            "userId": "118283881385645801877"
          }
        }
      },
      "cell_type": "code",
      "source": [
        "left10 = np.zeros((1,290)) \n",
        "left1 = np.zeros((1,299))  \n",
        "left28 = np.zeros((1,272))  \n",
        "\n",
        "n = 91\n",
        "\n",
        "#image1 = np.reshape(loss_ten_full[0][2][0][4][n],(28,28))\n",
        "\n",
        "image2 = np.reshape(image_full[n],(28,28))\n",
        " \n",
        "plt.title('Ground truth')\n",
        "plt.imshow(image2)"
      ],
      "execution_count": 255,
      "outputs": [
        {
          "output_type": "execute_result",
          "data": {
            "text/plain": [
              "<matplotlib.image.AxesImage at 0x7f853993ea90>"
            ]
          },
          "metadata": {
            "tags": []
          },
          "execution_count": 255
        },
        {
          "output_type": "display_data",
          "data": {
            "image/png": "[encoded data removed]",
            "text/plain": [
              "<matplotlib.figure.Figure at 0x7f85681ee4a8>"
            ]
          },
          "metadata": {
            "tags": []
          }
        }
      ]
    },
    {
      "metadata": {
        "id": "ANgad-YBgEJL",
        "colab_type": "code",
        "colab": {
          "autoexec": {
            "startup": false,
            "wait_interval": 0
          },
          "output_extras": [
            {
              "item_id": 1
            }
          ],
          "base_uri": "https://localhost:8080/",
          "height": 846
        },
        "outputId": "87de479e-e774-4dc2-d7dd-66c7a1b31786",
        "executionInfo": {
          "status": "ok",
          "timestamp": 1522171697765,
          "user_tz": -60,
          "elapsed": 1925,
          "user": {
            "displayName": "JOY WU",
            "photoUrl": "//lh6.googleusercontent.com/-tPBEt0lFVJA/AAAAAAAAAAI/AAAAAAAABm0/dJFicuVmNrg/s50-c-k-no/photo.jpg",
            "userId": "118283881385645801877"
          }
        }
      },
      "cell_type": "code",
      "source": [
        "\n",
        "# random choose 5 sample\n",
        "plt.figure(num='Comparison',figsize=(15,15))\n",
        "\n",
        "choices = np.random.choice(range(9), 5,replace=False)\n",
        "plt.subplot(4,5,3)\n",
        "plt.title('Next one pixel')\n",
        "pixels_1 = loss_full[choices[0]][0][2][0][4][n][0:-299]\n",
        "plt.imshow(np.reshape(np.append(pixels_1, left1),(28,28)))\n",
        "\n",
        "for i in range(3):\n",
        "  for j in range(5):\n",
        "    plt.subplot(4,5,i*5+j+6)\n",
        "    if i == 0:\n",
        "      plt.title('Next 10 pixels')    \n",
        "      pixels_10 = loss_full[choices[j]][0][2][0][4][n][0:-290]\n",
        "      plt.imshow(np.reshape(np.append(pixels_10, left10),(28,28)))\n",
        "    if i == 1:\n",
        "      plt.title('Next 28 pixels')\n",
        "      pixels_28 = loss_full[choices[j]][0][2][0][4][n][0:-272]\n",
        "      plt.imshow(np.reshape(np.append(pixels_28, left28),(28,28)))\n",
        " \n",
        "    if i == 2:\n",
        "      plt.title('Next 300 pixels')\n",
        "      plt.imshow(np.reshape(loss_full[choices[j]][0][2][0][4][n],(28,28)))"
      ],
      "execution_count": 256,
      "outputs": [
        {
          "output_type": "display_data",
          "data": {
            "image/png": "[encoded data removed]",
            "text/plain": [
              "<matplotlib.figure.Figure at 0x7f858f06c940>"
            ]
          },
          "metadata": {
            "tags": []
          }
        }
      ]
    },
    {
      "metadata": {
        "id": "mxTiPF3ugajC",
        "colab_type": "text"
      },
      "cell_type": "markdown",
      "source": [
        "### High varianace"
      ]
    },
    {
      "metadata": {
        "id": "ymIzZ6scggUi",
        "colab_type": "code",
        "colab": {
          "autoexec": {
            "startup": false,
            "wait_interval": 0
          },
          "output_extras": [
            {
              "item_id": 1
            },
            {
              "item_id": 2
            }
          ],
          "base_uri": "https://localhost:8080/",
          "height": 380
        },
        "outputId": "73f1b7e2-0288-4c85-a263-fa638e360470",
        "executionInfo": {
          "status": "ok",
          "timestamp": 1522171885975,
          "user_tz": -60,
          "elapsed": 509,
          "user": {
            "displayName": "JOY WU",
            "photoUrl": "//lh6.googleusercontent.com/-tPBEt0lFVJA/AAAAAAAAAAI/AAAAAAAABm0/dJFicuVmNrg/s50-c-k-no/photo.jpg",
            "userId": "118283881385645801877"
          }
        }
      },
      "cell_type": "code",
      "source": [
        "left10 = np.zeros((1,290)) \n",
        "left1 = np.zeros((1,299))  \n",
        "left28 = np.zeros((1,272))  \n",
        "\n",
        "n = 42\n",
        "\n",
        "#image1 = np.reshape(loss_ten_full[0][2][0][4][n],(28,28))\n",
        "\n",
        "image2 = np.reshape(image_full[n],(28,28))\n",
        " \n",
        "plt.title('Ground truth')\n",
        "plt.imshow(image2)"
      ],
      "execution_count": 272,
      "outputs": [
        {
          "output_type": "execute_result",
          "data": {
            "text/plain": [
              "<matplotlib.image.AxesImage at 0x7f855f5e10b8>"
            ]
          },
          "metadata": {
            "tags": []
          },
          "execution_count": 272
        },
        {
          "output_type": "display_data",
          "data": {
            "image/png": "[encoded data removed]",
            "text/plain": [
              "<matplotlib.figure.Figure at 0x7f856e8129e8>"
            ]
          },
          "metadata": {
            "tags": []
          }
        }
      ]
    },
    {
      "metadata": {
        "id": "H7JbIC0jgisy",
        "colab_type": "code",
        "colab": {
          "autoexec": {
            "startup": false,
            "wait_interval": 0
          },
          "output_extras": [
            {
              "item_id": 1
            }
          ],
          "base_uri": "https://localhost:8080/",
          "height": 846
        },
        "outputId": "a6b83350-6917-4e4d-c313-f908f10958e5",
        "executionInfo": {
          "status": "ok",
          "timestamp": 1522171889746,
          "user_tz": -60,
          "elapsed": 1889,
          "user": {
            "displayName": "JOY WU",
            "photoUrl": "//lh6.googleusercontent.com/-tPBEt0lFVJA/AAAAAAAAAAI/AAAAAAAABm0/dJFicuVmNrg/s50-c-k-no/photo.jpg",
            "userId": "118283881385645801877"
          }
        }
      },
      "cell_type": "code",
      "source": [
        "\n",
        "# random choose 5 sample\n",
        "plt.figure(num='Comparison',figsize=(15,15))\n",
        "\n",
        "choices = np.random.choice(range(9), 5,replace=False)\n",
        "plt.subplot(4,5,3)\n",
        "plt.title('Next one pixel')\n",
        "pixels_1 = loss_full[choices[0]][0][2][0][4][n][0:-299]\n",
        "plt.imshow(np.reshape(np.append(pixels_1, left1),(28,28)))\n",
        "\n",
        "for i in range(3):\n",
        "  for j in range(5):\n",
        "    plt.subplot(4,5,i*5+j+6)\n",
        "    if i == 0:\n",
        "      plt.title('Next 10 pixels')    \n",
        "      pixels_10 = loss_full[choices[j]][0][2][0][4][n][0:-290]\n",
        "      plt.imshow(np.reshape(np.append(pixels_10, left10),(28,28)))\n",
        "    if i == 1:\n",
        "      plt.title('Next 28 pixels')\n",
        "      pixels_28 = loss_full[choices[j]][0][2][0][4][n][0:-272]\n",
        "      plt.imshow(np.reshape(np.append(pixels_28, left28),(28,28)))\n",
        " \n",
        "    if i == 2:\n",
        "      plt.title('Next 300 pixels')\n",
        "      plt.imshow(np.reshape(loss_full[choices[j]][0][2][0][4][n],(28,28)))"
      ],
      "execution_count": 273,
      "outputs": [
        {
          "output_type": "display_data",
          "data": {
            "image/png": "[encoded data removed]",
            "text/plain": [
              "<matplotlib.figure.Figure at 0x7f853b5ba4a8>"
            ]
          },
          "metadata": {
            "tags": []
          }
        }
      ]
    },
    {
      "metadata": {
        "id": "kuHRuG8nr1Ne",
        "colab_type": "text"
      },
      "cell_type": "markdown",
      "source": [
        "# In-painting Task"
      ]
    },
    {
      "metadata": {
        "id": "ZDPntgyZjPWO",
        "colab_type": "text"
      },
      "cell_type": "markdown",
      "source": [
        "### In-painting data \n",
        "\n",
        "We provide two datasets (one corresponing to the one-pixel in-painting tasks and the other one with a 2x2 patch missing). The datasets are available on [git](https://github.com/dianaborsa/compgi22_dl_cw4/blob/master/). Links are available in the description and code is provide below to load the dataset and visualize. Both datasets have 1000 sampled images from MNIST(test). Both dataset sets have the same simple structure: cropped images and their ground truth (GT). in this second task, you will consider the copped images and use your pixel-to-pixel model, try to predict the missing pixel/patches.\n"
      ]
    },
    {
      "metadata": {
        "id": "ur-UmPh9ce4N",
        "colab_type": "code",
        "colab": {
          "autoexec": {
            "startup": false,
            "wait_interval": 0
          },
          "output_extras": [
            {
              "item_id": 7
            }
          ],
          "base_uri": "https://localhost:8080/",
          "height": 174
        },
        "outputId": "c5467709-725b-4c86-a8d5-17c41915c07c",
        "executionInfo": {
          "status": "ok",
          "timestamp": 1522242365893,
          "user_tz": -60,
          "elapsed": 6115,
          "user": {
            "displayName": "JOY WU",
            "photoUrl": "//lh6.googleusercontent.com/-tPBEt0lFVJA/AAAAAAAAAAI/AAAAAAAABm0/dJFicuVmNrg/s50-c-k-no/photo.jpg",
            "userId": "118283881385645801877"
          }
        }
      },
      "cell_type": "code",
      "source": [
        "# Downloading the inpainting datasets\n",
        "!git clone https://github.com/dianaborsa/compgi22_dl_cw4.git\n",
        "!git clone https://github.com/dianaborsa/compgi22_dl_cw4/blob/master/one_pixel_inpainting.npy"
      ],
      "execution_count": 2,
      "outputs": [
        {
          "output_type": "stream",
          "text": [
            "Cloning into 'compgi22_dl_cw4'...\n",
            "remote: Counting objects: 16, done.\u001b[K\n",
            "remote: Compressing objects: 100% (14/14), done.\u001b[K\n",
            "remote: Total 16 (delta 6), reused 3 (delta 0), pack-reused 0\u001b[K\n",
            "Unpacking objects: 100% (16/16), done.\n",
            "Cloning into 'one_pixel_inpainting.npy'...\n",
            "remote: Not Found\n",
            "fatal: repository 'https://github.com/dianaborsa/compgi22_dl_cw4/blob/master/one_pixel_inpainting.npy/' not found\n"
          ],
          "name": "stdout"
        }
      ]
    },
    {
      "metadata": {
        "id": "wNq7O4Qv2nbQ",
        "colab_type": "code",
        "colab": {
          "autoexec": {
            "startup": false,
            "wait_interval": 0
          },
          "output_extras": [
            {
              "item_id": 1
            }
          ],
          "base_uri": "https://localhost:8080/",
          "height": 35
        },
        "outputId": "58cbb515-1b04-4ef3-d28d-fcdaded908a8",
        "executionInfo": {
          "status": "ok",
          "timestamp": 1522242373262,
          "user_tz": -60,
          "elapsed": 1441,
          "user": {
            "displayName": "JOY WU",
            "photoUrl": "//lh6.googleusercontent.com/-tPBEt0lFVJA/AAAAAAAAAAI/AAAAAAAABm0/dJFicuVmNrg/s50-c-k-no/photo.jpg",
            "userId": "118283881385645801877"
          }
        }
      },
      "cell_type": "code",
      "source": [
        "!ls"
      ],
      "execution_count": 3,
      "outputs": [
        {
          "output_type": "stream",
          "text": [
            "compgi22_dl_cw4  datalab\r\n"
          ],
          "name": "stdout"
        }
      ]
    },
    {
      "metadata": {
        "id": "XD0JMYbqb9t_",
        "colab_type": "code",
        "colab": {
          "autoexec": {
            "startup": false,
            "wait_interval": 0
          }
        }
      },
      "cell_type": "code",
      "source": [
        "# Load the dataset (2X2)\n",
        "dataset = np.load('compgi22_dl_cw4/2X2_pixels_inpainting.npy')\n",
        "dataset_1 = np.load('compgi22_dl_cw4/one_pixel_inpainting.npy')"
      ],
      "execution_count": 0,
      "outputs": []
    },
    {
      "metadata": {
        "id": "ftjlfCA-cY2X",
        "colab_type": "code",
        "colab": {
          "autoexec": {
            "startup": false,
            "wait_interval": 0
          },
          "output_extras": [
            {
              "item_id": 1
            },
            {
              "item_id": 2
            },
            {
              "item_id": 3
            },
            {
              "item_id": 4
            }
          ],
          "base_uri": "https://localhost:8080/",
          "height": 782
        },
        "outputId": "d53b4a49-8072-4e61-fc92-a3294c265448",
        "executionInfo": {
          "status": "ok",
          "timestamp": 1522242429436,
          "user_tz": -60,
          "elapsed": 853,
          "user": {
            "displayName": "JOY WU",
            "photoUrl": "//lh6.googleusercontent.com/-tPBEt0lFVJA/AAAAAAAAAAI/AAAAAAAABm0/dJFicuVmNrg/s50-c-k-no/photo.jpg",
            "userId": "118283881385645801877"
          }
        }
      },
      "cell_type": "code",
      "source": [
        "# checking loading\n",
        "images    = dataset[0]\n",
        "gt_images = dataset[1] \n",
        "\n",
        "nSamples, ndim = gt_images.shape\n",
        "print('Loaded dataset has {} samples: cropped + GT'.format(nSamples))\n",
        "\n",
        "# randomly visualize a few samples\n",
        "for SampleID in np.random.randint(nSamples,size=3):\n",
        "  plt.figure()\n",
        "  plt.subplot(1,2,1)\n",
        "  plt.imshow(np.reshape(gt_images[SampleID],(28,28)), interpolation='None',vmin=-1, vmax=1)\n",
        "  plt.title(\"GT image\")\n",
        "  plt.grid(False)\n",
        "  plt.axis('off')\n",
        "  plt.subplot(1,2,2)\n",
        "  plt.imshow(np.reshape(images[SampleID],(28,28)), interpolation='None',vmin=-1, vmax=1)\n",
        "  plt.title(\"Cropped image\")\n",
        "  plt.grid(False)\n",
        "  plt.axis('off')"
      ],
      "execution_count": 8,
      "outputs": [
        {
          "output_type": "stream",
          "text": [
            "Loaded dataset has 1000 samples: cropped + GT\n"
          ],
          "name": "stdout"
        },
        {
          "output_type": "display_data",
          "data": {
            "image/png": "[encoded data removed]",
            "text/plain": [
              "<matplotlib.figure.Figure at 0x7fa678f7e828>"
            ]
          },
          "metadata": {
            "tags": []
          }
        },
        {
          "output_type": "display_data",
          "data": {
            "image/png": "[encoded data removed]",
            "text/plain": [
              "<matplotlib.figure.Figure at 0x7fa678ed84e0>"
            ]
          },
          "metadata": {
            "tags": []
          }
        },
        {
          "output_type": "display_data",
          "data": {
            "image/png": "[encoded data removed]",
            "text/plain": [
              "<matplotlib.figure.Figure at 0x7fa678e4e5c0>"
            ]
          },
          "metadata": {
            "tags": []
          }
        }
      ]
    },
    {
      "metadata": {
        "id": "G9RAXOberfI9",
        "colab_type": "text"
      },
      "cell_type": "markdown",
      "source": [
        "### One-pixel prediction "
      ]
    },
    {
      "metadata": {
        "id": "MwBDXSCn9w1r",
        "colab_type": "code",
        "colab": {
          "autoexec": {
            "startup": false,
            "wait_interval": 0
          },
          "output_extras": [
            {
              "item_id": 1
            }
          ],
          "base_uri": "https://localhost:8080/",
          "height": 267
        },
        "outputId": "d2877136-528a-4fa7-b886-5702433ce1c6",
        "executionInfo": {
          "status": "ok",
          "timestamp": 1522263453912,
          "user_tz": -60,
          "elapsed": 652,
          "user": {
            "displayName": "JOY WU",
            "photoUrl": "//lh6.googleusercontent.com/-tPBEt0lFVJA/AAAAAAAAAAI/AAAAAAAABm0/dJFicuVmNrg/s50-c-k-no/photo.jpg",
            "userId": "118283881385645801877"
          }
        }
      },
      "cell_type": "code",
      "source": [
        "im = dataset_1[:,66,:]   #11\n",
        "\n",
        "original_im = im[1,:]\n",
        "missing_im = im[0,:]\n",
        "\n",
        "plt.subplot(1,2,1)\n",
        "plt.title('GT Image')\n",
        "plt.imshow(np.reshape(original_im,(28,28)),interpolation='None',vmin=-1, vmax=1)\n",
        "plt.grid(False)\n",
        "plt.axis('off')\n",
        "\n",
        "plt.subplot(1,2,2)\n",
        "plt.title('Cropped Image')\n",
        "plt.imshow(np.reshape(missing_im ,(28,28)),interpolation='None',vmin=-1, vmax=1)\n",
        "plt.grid(False)\n",
        "plt.axis('off')\n",
        "\n",
        "ind = list(missing_im).index(-1) # missing number\n",
        "ind1 = ind\n",
        "ind2 = 783 - ind\n",
        "\n",
        "def get_placeholders3(ind1, ind2):\n",
        "  x = tf.placeholder(tf.float32, [None, ind1])\n",
        "  y = tf.placeholder(tf.float32, [None, ind2])\n",
        "  return x, y, 784 - ind\n",
        "\n",
        "missing_im = np.reshape(missing_im, (1,784))"
      ],
      "execution_count": 139,
      "outputs": [
        {
          "output_type": "display_data",
          "data": {
            "image/png": "[encoded data removed]",
            "text/plain": [
              "<matplotlib.figure.Figure at 0x7fa51b0d9c50>"
            ]
          },
          "metadata": {
            "tags": []
          }
        }
      ]
    },
    {
      "metadata": {
        "id": "oala06Bq-I12",
        "colab_type": "code",
        "colab": {
          "autoexec": {
            "startup": false,
            "wait_interval": 0
          },
          "output_extras": [
            {
              "item_id": 2
            }
          ],
          "base_uri": "https://localhost:8080/",
          "height": 52
        },
        "outputId": "e46df70d-4259-4e17-8967-10feff213e8a",
        "executionInfo": {
          "status": "ok",
          "timestamp": 1522263845449,
          "user_tz": -60,
          "elapsed": 389565,
          "user": {
            "displayName": "JOY WU",
            "photoUrl": "//lh6.googleusercontent.com/-tPBEt0lFVJA/AAAAAAAAAAI/AAAAAAAABm0/dJFicuVmNrg/s50-c-k-no/photo.jpg",
            "userId": "118283881385645801877"
          }
        }
      },
      "cell_type": "code",
      "source": [
        "# Predicting the missing pixel\n",
        "with tf.device('/device:GPU:*'):\n",
        "\n",
        "  tf.reset_default_graph()\n",
        "  num_epochs = 2\n",
        "  learning_rate = 0.001\n",
        "  batch_size = 256 \n",
        "  num_hidden_unit = 32\n",
        "  num_classes = 1\n",
        "  fully_connected_hidden_units = 64\n",
        "  initializer = tf.contrib.layers.xavier_initializer()\n",
        "\n",
        "  time_steps = 28*28-1\n",
        "  num_units = 1\n",
        "\n",
        "  # LSTM\n",
        "  RNN_layers = [tf.nn.rnn_cell.LSTMCell(size) for size in [num_hidden_unit]]\n",
        "\n",
        "  multi_rnn_cell = tf.nn.rnn_cell.MultiRNNCell(RNN_layers)\n",
        "\n",
        "\n",
        "  W_1 = tf.Variable(initializer([num_hidden_unit, fully_connected_hidden_units]))\n",
        "  b_1 = tf.Variable(initializer([fully_connected_hidden_units]))\n",
        "\n",
        "  W_2 = tf.Variable(initializer([fully_connected_hidden_units, num_classes]))\n",
        "  b_2 = tf.Variable(initializer([num_classes]))\n",
        "\n",
        "  x_test, y_test, n_p  = get_placeholders3(ind1, ind2)\n",
        "  current = x_test\n",
        "  y_test = tf.reshape(y_test, [1, -1])\n",
        "  \n",
        "  current = tf.reshape(current, [1, -1, 1])\n",
        "\n",
        "  # Calculate the piror\n",
        "  outputs_t, _ = tf.nn.dynamic_rnn(multi_rnn_cell, current, dtype=tf.float32)\n",
        "  rnn_outputs_t = outputs_t[:, -1, :]   #batch_size * 1 * num_hidden\n",
        "  rnn_outputs_t = tf.reshape(rnn_outputs_t, [-1, num_hidden_unit])\n",
        "  A0_t = tf.nn.relu(rnn_outputs_t)\n",
        "  A1_t = tf.nn.relu(tf.matmul(A0_t, W_1) + b_1)\n",
        "  A2_t = tf.sigmoid(tf.matmul(A1_t, W_2) + b_2)\n",
        "  current = tf.reshape(current, [1, -1])\n",
        "  prob = A2_t[0][0] # piror\n",
        "  current = tf.reshape(current, [-1, 784 - n_p])\n",
        "    \n",
        "  # Calculate the piror x_m =1 and x_m = 0\n",
        "  prior = [1-prob, prob]\n",
        "  results = []\n",
        "  for i in range(2):\n",
        "    if i==0:\n",
        "      pix = tf.zeros([1,1], tf.float32)\n",
        "      current_n = tf.concat([current, pix],1)\n",
        "      \n",
        "    if i==1:\n",
        "      pix = tf.ones([1,1], tf.float32)\n",
        "      current_n = tf.concat([current, pix],1)\n",
        "    bayes = tf.log(prior[i])\n",
        "    \n",
        "    for j in range(n_p):\n",
        "      current_n = tf.reshape(current_n, [-1, 785 - n_p + j, 1])\n",
        "\n",
        "      outputs_t, _ = tf.nn.dynamic_rnn(multi_rnn_cell, current_n, dtype=tf.float32)\n",
        "      rnn_outputs_t = outputs_t[:, -1, :]   #batch_size * 1 * num_hidden\n",
        "      rnn_outputs_t = tf.reshape(rnn_outputs_t, [-1, num_hidden_unit])\n",
        "      A0_t = tf.nn.relu(rnn_outputs_t)\n",
        "      A1_t = tf.nn.relu(tf.matmul(A0_t, W_1) + b_1)\n",
        "      A2_t = tf.sigmoid(tf.matmul(A1_t, W_2) + b_2)\n",
        "      current_n = tf.reshape(current_n, [-1, 785 - n_p + j])\n",
        "      if y_test[:,j] == 1:\n",
        "        bayes = bayes + tf.log(A2_t)\n",
        "      else:\n",
        "        bayes = bayes + tf.log(1 - A2_t)\n",
        "\n",
        "      # uniform rand \n",
        "      random_ = tf.reshape(tf.random_uniform((1, 1), minval=0, maxval=1,dtype=tf.float32), [1, 1])\n",
        "      result = A2_t - random_\n",
        "\n",
        "      result = tf.cast(result>0, result.dtype)\n",
        "      current_n = tf.concat([current_n, result],1)\n",
        "      \n",
        "    results.append(bayes) \n",
        "    \n",
        "  posterior = results  \n",
        "  \n",
        "  init = tf.global_variables_initializer()\n",
        "  with tf.Session() as sess:\n",
        "    sess.run(init)\n",
        "    saver = tf.train.Saver()\n",
        "    saver.restore(sess, \"model3.ckpt\")\n",
        "    \n",
        "    predict = sess.run(posterior, feed_dict={x_test: missing_im[:,0:ind], y_test: missing_im[:,ind+1:] })   \n",
        "    print(predict)"
      ],
      "execution_count": 140,
      "outputs": [
        {
          "output_type": "stream",
          "text": [
            "INFO:tensorflow:Restoring parameters from model3.ckpt\n",
            "[array([[-219.26108]], dtype=float32), array([[-146.11522]], dtype=float32)]\n"
          ],
          "name": "stdout"
        }
      ]
    },
    {
      "metadata": {
        "id": "nwIX4uarjK0h",
        "colab_type": "code",
        "colab": {
          "autoexec": {
            "startup": false,
            "wait_interval": 0
          },
          "output_extras": [
            {
              "item_id": 1
            },
            {
              "item_id": 2
            }
          ],
          "base_uri": "https://localhost:8080/",
          "height": 429
        },
        "outputId": "83c6e283-80aa-4931-a74a-1a5dee5ffcb5",
        "executionInfo": {
          "status": "ok",
          "timestamp": 1522263912297,
          "user_tz": -60,
          "elapsed": 897,
          "user": {
            "displayName": "JOY WU",
            "photoUrl": "//lh6.googleusercontent.com/-tPBEt0lFVJA/AAAAAAAAAAI/AAAAAAAABm0/dJFicuVmNrg/s50-c-k-no/photo.jpg",
            "userId": "118283881385645801877"
          }
        }
      },
      "cell_type": "code",
      "source": [
        "# Visualize samples\n",
        "missing_im = np.reshape(missing_im,(784))\n",
        "\n",
        "if np.argmax(predict) == 0:\n",
        "  pred = 0\n",
        "else:\n",
        "  pred = 1\n",
        "\n",
        "predicted_im = missing_im.copy()\n",
        "predicted_im[list(missing_im).index(-1)] = pred\n",
        "plt.figure(num='Comparison',figsize=(20,20))\n",
        "\n",
        "plt.subplot(1,3,1)\n",
        "plt.title('GT Image')\n",
        "plt.imshow(np.reshape(original_im,(28,28)),interpolation='None',vmin=-1, vmax=1)\n",
        "plt.grid(False)\n",
        "plt.axis('off')\n",
        "\n",
        "plt.subplot(1,3,2)\n",
        "plt.title('Cropped Image')\n",
        "plt.imshow(np.reshape(missing_im ,(28,28)),interpolation='None',vmin=-1, vmax=1)\n",
        "plt.grid(False)\n",
        "plt.axis('off')\n",
        "\n",
        "plt.subplot(1,3,3)\n",
        "plt.title('Predicted Image')\n",
        "plt.imshow(np.reshape(predicted_im ,(28,28)),interpolation='None',vmin=-1, vmax=1)\n",
        "plt.grid(False)\n",
        "plt.axis('off')"
      ],
      "execution_count": 141,
      "outputs": [
        {
          "output_type": "execute_result",
          "data": {
            "text/plain": [
              "(-0.5, 27.5, 27.5, -0.5)"
            ]
          },
          "metadata": {
            "tags": []
          },
          "execution_count": 141
        },
        {
          "output_type": "display_data",
          "data": {
            "image/png": "[encoded data removed]",
            "text/plain": [
              "<matplotlib.figure.Figure at 0x7fa528836748>"
            ]
          },
          "metadata": {
            "tags": []
          }
        }
      ]
    },
    {
      "metadata": {
        "id": "BfAXkujUtJ3O",
        "colab_type": "text"
      },
      "cell_type": "markdown",
      "source": [
        "### Two-by-two patch prediction "
      ]
    },
    {
      "metadata": {
        "id": "AeQHE30hCwRt",
        "colab_type": "code",
        "colab": {
          "autoexec": {
            "startup": false,
            "wait_interval": 0
          },
          "output_extras": [
            {
              "item_id": 1
            }
          ],
          "base_uri": "https://localhost:8080/",
          "height": 267
        },
        "outputId": "8ad0eede-0d6b-41da-ddeb-5e8726ffe460",
        "executionInfo": {
          "status": "ok",
          "timestamp": 1522266341456,
          "user_tz": -60,
          "elapsed": 476,
          "user": {
            "displayName": "JOY WU",
            "photoUrl": "//lh6.googleusercontent.com/-tPBEt0lFVJA/AAAAAAAAAAI/AAAAAAAABm0/dJFicuVmNrg/s50-c-k-no/photo.jpg",
            "userId": "118283881385645801877"
          }
        }
      },
      "cell_type": "code",
      "source": [
        "im = dataset[:,143,:]   #11\n",
        "\n",
        "original_im = im[1,:]\n",
        "missing_im = im[0,:]\n",
        "\n",
        "plt.subplot(1,2,1)\n",
        "plt.title('GT Image')\n",
        "plt.imshow(np.reshape(original_im,(28,28)),interpolation='None',vmin=-1, vmax=1)\n",
        "plt.grid(False)\n",
        "plt.axis('off')\n",
        "\n",
        "plt.subplot(1,2,2)\n",
        "plt.title('Cropped Image')\n",
        "plt.imshow(np.reshape(missing_im ,(28,28)),interpolation='None',vmin=-1, vmax=1)\n",
        "plt.grid(False)\n",
        "plt.axis('off')\n",
        "\n",
        "ind = list(missing_im).index(-1) # missing number\n",
        "ind_list = [ind, ind + 1, ind + 28, ind + 29]\n",
        "ind1 = ind\n",
        "ind2 = 783 - ind\n",
        "\n",
        "def get_placeholders3(ind1, ind2):\n",
        "  x = tf.placeholder(tf.float32, [None, ind1])\n",
        "  y = tf.placeholder(tf.float32, [None, ind2])\n",
        "  return x, y, 784 - ind\n",
        "\n",
        "missing_im = np.reshape(missing_im, (1,784))"
      ],
      "execution_count": 157,
      "outputs": [
        {
          "output_type": "display_data",
          "data": {
            "image/png": "[encoded data removed]",
            "text/plain": [
              "<matplotlib.figure.Figure at 0x7fa5450c3588>"
            ]
          },
          "metadata": {
            "tags": []
          }
        }
      ]
    },
    {
      "metadata": {
        "id": "HxB9N5G9DJ-5",
        "colab_type": "code",
        "colab": {
          "autoexec": {
            "startup": false,
            "wait_interval": 0
          },
          "output_extras": [
            {
              "item_id": 8
            }
          ],
          "base_uri": "https://localhost:8080/",
          "height": 154
        },
        "cellView": "code",
        "outputId": "57aea34f-7263-4783-8c0f-be6af67a99cb",
        "executionInfo": {
          "status": "ok",
          "timestamp": 1522268212375,
          "user_tz": -60,
          "elapsed": 1429586,
          "user": {
            "displayName": "JOY WU",
            "photoUrl": "//lh6.googleusercontent.com/-tPBEt0lFVJA/AAAAAAAAAAI/AAAAAAAABm0/dJFicuVmNrg/s50-c-k-no/photo.jpg",
            "userId": "118283881385645801877"
          }
        }
      },
      "cell_type": "code",
      "source": [
        "# Predicting the missing patch\n",
        "result_patch = []\n",
        "for k in ind_list:\n",
        "  ind = k\n",
        "  ind1 = ind\n",
        "  ind2 = 783 - ind\n",
        "\n",
        "  with tf.device('/device:GPU:*'):\n",
        "\n",
        "    tf.reset_default_graph()\n",
        "    num_epochs = 2\n",
        "    learning_rate = 0.001\n",
        "    batch_size = 256 \n",
        "    num_hidden_unit = 32\n",
        "    num_classes = 1\n",
        "    fully_connected_hidden_units = 64\n",
        "    initializer = tf.contrib.layers.xavier_initializer()\n",
        "\n",
        "    time_steps = 28*28-1\n",
        "    num_units = 1\n",
        "\n",
        "    # LSTM\n",
        "    RNN_layers = [tf.nn.rnn_cell.LSTMCell(size) for size in [num_hidden_unit]]\n",
        "\n",
        "    multi_rnn_cell = tf.nn.rnn_cell.MultiRNNCell(RNN_layers)\n",
        "\n",
        "\n",
        "    W_1 = tf.Variable(initializer([num_hidden_unit, fully_connected_hidden_units]))\n",
        "    b_1 = tf.Variable(initializer([fully_connected_hidden_units]))\n",
        "\n",
        "    W_2 = tf.Variable(initializer([fully_connected_hidden_units, num_classes]))\n",
        "    b_2 = tf.Variable(initializer([num_classes]))\n",
        "\n",
        "    x_test, y_test, n_p  = get_placeholders3(ind1, ind2)\n",
        "    current = x_test\n",
        "    y_test = tf.reshape(y_test, [1, -1])\n",
        "\n",
        "    current = tf.reshape(current, [1, -1, 1])\n",
        "\n",
        "    # Calculate the piror\n",
        "    outputs_t, _ = tf.nn.dynamic_rnn(multi_rnn_cell, current, dtype=tf.float32)\n",
        "    rnn_outputs_t = outputs_t[:, -1, :]   #batch_size * 1 * num_hidden\n",
        "    rnn_outputs_t = tf.reshape(rnn_outputs_t, [-1, num_hidden_unit])\n",
        "    A0_t = tf.nn.relu(rnn_outputs_t)\n",
        "    A1_t = tf.nn.relu(tf.matmul(A0_t, W_1) + b_1)\n",
        "    A2_t = tf.sigmoid(tf.matmul(A1_t, W_2) + b_2)\n",
        "    current = tf.reshape(current, [1, -1])\n",
        "    prob = A2_t[0][0] # piror\n",
        "    current = tf.reshape(current, [-1, 784 - n_p])\n",
        "\n",
        "    # Calculate the piror x_m =1 and x_m = 0\n",
        "    prior = [1-prob, prob]\n",
        "    results = []\n",
        "    for i in range(2):\n",
        "      if i==0:\n",
        "        pix = tf.zeros([1,1], tf.float32)\n",
        "        current_n = tf.concat([current, pix],1)\n",
        "\n",
        "      if i==1:\n",
        "        pix = tf.ones([1,1], tf.float32)\n",
        "        current_n = tf.concat([current, pix],1)\n",
        "      bayes = tf.log(prior[i])\n",
        "\n",
        "      for j in range(n_p):\n",
        "        current_n = tf.reshape(current_n, [-1, 785 - n_p + j, 1])\n",
        "\n",
        "        outputs_t, _ = tf.nn.dynamic_rnn(multi_rnn_cell, current_n, dtype=tf.float32)\n",
        "        rnn_outputs_t = outputs_t[:, -1, :]   #batch_size * 1 * num_hidden\n",
        "        rnn_outputs_t = tf.reshape(rnn_outputs_t, [-1, num_hidden_unit])\n",
        "        A0_t = tf.nn.relu(rnn_outputs_t)\n",
        "        A1_t = tf.nn.relu(tf.matmul(A0_t, W_1) + b_1)\n",
        "        A2_t = tf.sigmoid(tf.matmul(A1_t, W_2) + b_2)\n",
        "        current_n = tf.reshape(current_n, [-1, 785 - n_p + j])\n",
        "        if y_test[:,j] == 1:\n",
        "          bayes = bayes + tf.log(A2_t)\n",
        "        else:\n",
        "          bayes = bayes + tf.log(1 - A2_t)\n",
        "\n",
        "        # uniform rand \n",
        "        random_ = tf.reshape(tf.random_uniform((1, 1), minval=0, maxval=1,dtype=tf.float32), [1, 1])\n",
        "        result = A2_t - random_\n",
        "\n",
        "        result = tf.cast(result>0, result.dtype)\n",
        "        current_n = tf.concat([current_n, result],1)\n",
        "\n",
        "      results.append(bayes) \n",
        "\n",
        "    posterior = results  \n",
        "\n",
        "    init = tf.global_variables_initializer()\n",
        "    with tf.Session() as sess:\n",
        "      sess.run(init)\n",
        "      saver = tf.train.Saver()\n",
        "      saver.restore(sess, \"model3.ckpt\")\n",
        "\n",
        "      predict1 = sess.run(posterior, feed_dict={x_test: missing_im[:,0:ind], y_test: missing_im[:,ind+1:] })   \n",
        "      print(predict1, 'prior:',prob)\n",
        "      result_patch.append(predict1)\n",
        "\n"
      ],
      "execution_count": 159,
      "outputs": [
        {
          "output_type": "stream",
          "text": [
            "INFO:tensorflow:Restoring parameters from model3.ckpt\n",
            "1 [array([[-10.179286]], dtype=float32), array([[-75.527565]], dtype=float32)]\n",
            "INFO:tensorflow:Restoring parameters from model3.ckpt\n",
            "1 [array([[-142.04602]], dtype=float32), array([[-187.46219]], dtype=float32)]\n",
            "INFO:tensorflow:Restoring parameters from model3.ckpt\n",
            "1 [array([[-160.34012]], dtype=float32), array([[-542.80023]], dtype=float32)]\n",
            "INFO:tensorflow:Restoring parameters from model3.ckpt\n",
            "1 [array([[-2.700427]], dtype=float32), array([[-355.3424]], dtype=float32)]\n"
          ],
          "name": "stdout"
        }
      ]
    },
    {
      "metadata": {
        "id": "MYl1qOnDuwyx",
        "colab_type": "code",
        "colab": {
          "autoexec": {
            "startup": false,
            "wait_interval": 0
          },
          "output_extras": [
            {
              "item_id": 1
            }
          ],
          "base_uri": "https://localhost:8080/",
          "height": 243
        },
        "outputId": "572e8079-f8ee-4ea5-c41e-2d39df87bc4c",
        "executionInfo": {
          "status": "ok",
          "timestamp": 1522270709705,
          "user_tz": -60,
          "elapsed": 1015,
          "user": {
            "displayName": "JOY WU",
            "photoUrl": "//lh6.googleusercontent.com/-tPBEt0lFVJA/AAAAAAAAAAI/AAAAAAAABm0/dJFicuVmNrg/s50-c-k-no/photo.jpg",
            "userId": "118283881385645801877"
          }
        }
      },
      "cell_type": "code",
      "source": [
        "# Visualize samples\n",
        "missing_im = np.reshape(missing_im,(784))\n",
        "\n",
        "plt.figure(num='Comparison',figsize=(20,20))\n",
        "plt.subplot(1,6,1)\n",
        "plt.title('GT Image')\n",
        "plt.imshow(np.reshape(original_im,(28,28)),interpolation='None',vmin=-1, vmax=1)\n",
        "plt.grid(False)\n",
        "plt.axis('off')\n",
        "\n",
        "plt.subplot(1,6,2)\n",
        "plt.title('Cropped Image')\n",
        "plt.imshow(np.reshape(missing_im ,(28,28)),interpolation='None',vmin=-1, vmax=1)\n",
        "plt.grid(False)\n",
        "plt.axis('off')\n",
        "\n",
        "predicted_im = missing_im.copy()\n",
        "for i in range(4):\n",
        "\n",
        "  predicted_im[ind_list[i]] = np.argmax(result_patch[i])\n",
        "  plt.subplot(1,6,3+i)\n",
        "  plt.title('Predicted Image')\n",
        "  plt.imshow(np.reshape(predicted_im ,(28,28)),interpolation='None',vmin=-1, vmax=1)\n",
        "  plt.grid(False)\n",
        "  plt.axis('off')"
      ],
      "execution_count": 183,
      "outputs": [
        {
          "output_type": "display_data",
          "data": {
            "image/png": "[encoded data removed]",
            "text/plain": [
              "<matplotlib.figure.Figure at 0x7fa519728080>"
            ]
          },
          "metadata": {
            "tags": []
          }
        }
      ]
    },
    {
      "metadata": {
        "id": "3-nWwpWryjBO",
        "colab_type": "text"
      },
      "cell_type": "markdown",
      "source": [
        "----------------------------------------------------------------------\n",
        "\n",
        "## PART 2: Learning multiple tasks with LSTM-s (40 pts)\n",
        "(Credits to Pedro Ortega for insipring the task and insights behind it)"
      ]
    },
    {
      "metadata": {
        "id": "xUSn2r_Q1ahS",
        "colab_type": "text"
      },
      "cell_type": "markdown",
      "source": [
        "### Task Description\n",
        "\n",
        "Consider the following generative model: \n",
        "* We have $3$ symbols that will be generates from a multinomial/categorical distribution, with parameters $\\textbf{p}=(p_1, p_2, p_3)$: symbol 1 is generated with probability $p_1$, symbol 2 is generated with probability $p_2$, symbol 3 with probability $p_3$. \n",
        "$$X \\sim Categorical(3, \\textbf{p})$$\n",
        "\n",
        "* The parameter vector $\\textbf{p}$ is drawn from a Dirichlet prior: $$\\textbf{p} \\sim Dirichlet(\\alpha)$$\n",
        "\n",
        "We are going to use the above to generate sequences (a continuous stream of data/observations), in the following way:\n",
        "* Step 1: We sample $\\textbf{p}$ from the prior\n",
        "* Step 2: Given this $\\textbf{p}$, for $T-1$ time-steps we will generate i.i.d observations by sampling one of the $3$ symbols from the categorical distribution induced by $\\textbf{p}$\n",
        "$$ (X_1, X_2, \\cdots X_{T-1}) , s.t. X_i \\sim Categorical(3, \\textbf{p})$$\n",
        "* Step 3: At the end of the sequence we append a fourth symbol (RESET): $(X_1, X_2, \\cdots X_T, RESET)$\n",
        "* Step 4: Return to Step 1 and resample $\\textbf{p}$. \n",
        "* Repeat this 'forever'.\n",
        "\n",
        "This will give rise to a continuous stream of data, of the form: $ x_1, x_2, \\cdots x_{T-1}, RESET, x_{T+1}, x_{T+2}, \\cdots x_{2T}, RESET, \\cdots, x_{kT+1}, x_{kT+2}, \\cdots x_{(k+1)T}, RESET, \\cdots$.\n",
        "\n",
        "Note: Data generation is provided for you in the cell below. (You just need to call the minibatch function to get a sequence of this form).\n",
        "\n",
        "### Model\n",
        "\n",
        "We are going to consider an simple LSTM (32 units hidden state) and present this (generated) sequence of data as an input. Similar to the pixel-to-pixel model, at each time step the LSTM will receive one bit of information (gets to observe the symbol recorded at this time step) and need to output the probability distribution for the next symbol. Thus, at time $t$ the LSTM get as input the symbol $x_t$ and will return a probability over the next state $P(x_{t+1}| x_{t}, LSTM_{t-1})$.\n",
        "\n",
        "### Questions\n",
        "\n",
        "1) **Without running any experiments (5 pts)**, try to think about the following scenarios and answer these questions: \n",
        "* Consider we generate the data with $Dirichlet(\\alpha)$, where $\\alpha = (10.,1.,1.)$. What do you think the LSTM model will learn, if anything? Remember we are effectively changing the prediction task, every time we are resampling the probability vector $\\textbf{p}$. * Hint: Think about the distribution over $\\textbf{p}$ that this prior induces. *\n",
        "\n",
        "The prior distribution of $\\mathbf{p}$ is $p(\\mathbf{p})=\\frac{1}{B(\\mathbf{\\alpha})}\\prod_{i=1}^{3}p_i^{\\alpha_i - 1}$, and function $B$ is the Beta function (multivariate). $\\alpha = (10,1,1)$ will result in $p_1$ having the majority of the weight subject to $p_1+p_2+p_3=1$, so $p_1$ is very likely to take a value close to one, which means symbol one will be sampled for most of the time. LSTM will perform better on such stable patterns, all it has left to learn is the when to reset. \n",
        "\n",
        "* What if we consider a more uniformative prior, like $\\alpha=(1.1, 1.1, 1.1)$? \n",
        "\n",
        "If $\\alpha = (1.1,1.1,1.1)$, this prior will result in $p_1$, $p_2$ and $p_3$ being uniformly distributed. Thus the sequence they generated are more fulctuate and harder for LSTM to predict. Maybe in this case LSTM cannot interpret the hidden structure well, given that the probabilities been reset regularly, since it has equal likely chances of seeing extreme values (like $(1,0,0)$) and more averaged values (like $(\\frac{1}{3},\\frac{1}{3},\\frac{1}{3})$) of $p$'s.\n",
        "\n",
        "* How does this (learning ability and generalization) depend on the lenght of the tasks $T$ and the unrolling length on the LSTM? It might be helpful to consider the two extremes: \n",
        "i) $T=1$ (we reset the task at every time step). What should the model learn in this case?, ii) $T=\\infty$ (we sample the task once and keep it forever). What should the model learn in this case? (Answer this for both previous priors)\n",
        "\n",
        "For T =1,the it is very hard for extreme prior to makes any difference to the leaning and generalization ability, because the resampled p is very close to (1,0,0) in each step. When T = ∞, it does not need to learn the time of reset and just predict next symbol, so the leaning and generalization ability is not so important. \n",
        "If the prior is in uniform distribution, for T = 1, the LSTM will perform very badly in prediction because it cannot learn the potential structure well. Although it can study the precise potential distribution, the randomness in the uniform prior is very high and it cannot learn a high accuracy. If T = ∞, LSTM can learn well in terms of the enough unrolling length because the probabilities are constant. However, the generalization could be not good.\n",
        "\n",
        "* Does this increase or descrease the complexity of the prediction problem? What about the ability to generalize to unseen $\\textbf{p}$?\n",
        "\n",
        "The complexity can be considered as the difficulty of predicting sequence unseen in training. If the T is large, the complexity usually will increase, because the model is harder to learn the potential distributions. The model may just use a few combinations to learn the probabilities. However, the combinations used could be sampled from a large range. Thus, the accuracy of predicting on unseen p will decrease and the complexity will increase. \n",
        "\n",
        "2) **Time to check your intuitions (10 pts)** \n",
        "\n",
        "Implement a similar LSTM model as in PART 1. This will take as input a one-hot description of the obsevation ($[1,0,0,0]$ for symbol 1. $[0,1,0,0]$ for symbol 2, $[0,0,1,0]$ for symbol 3, $[0,0,0,1]$ for the RESET symbol). This input is fed into a 32-unit LSTM and LSTM output is processed as before: $\\textrm{Relu} \\Rightarrow \\textrm{Fully connected} \\Rightarrow \\textrm{Relu} \\Rightarrow \\textrm{Fully connected} \\Rightarrow \\textrm{Output}$ . The model will be trained, as before, by cross-entropy on predicting the next symbol. You will notice that the setup is really similar to the previous tasks, so feel free to re-use whenever appropiate.\n",
        "\n",
        "Train the following models:\n",
        "* T = 5, and T=20 with the data generated from a Dirichlet with $\\alpha = (10.,1.,1.)$. Unrolling length for the LSTM = 100. Minibatch size = 64. (M1, M2)\n",
        "* T = 5, and T=20 with the data generated from a Dirichlet with$\\alpha = (1.3, 1.3, 1.3)$ Unrolling length for the LSTM = 100. Minibatch size = 64. (M3, M4)\n",
        "\n",
        "Train the models for $1000$ iterations ($1000$ minibatches). Record the training and testing preformance (every 10-20 iterations). Plot the curves over training time. What do you observe? (Is this curve smooth? Do any of them plateau?). **[2x5 pts]**\n",
        "\n",
        "\n",
        "3) **Analysis results (10 pts)**\n",
        "\n",
        "In this section, we will investigate what the models have actaully learnt. For this we will generate a few test sequences:\n",
        "* *Test sequence 1*: generate a test sequence that changes tasks every T=5 steps from a a Dirichlet with $\\alpha = (10.,1.,1.)$.\n",
        "* *Test sequence 2*: generate a test sequence that changes tasks every T=5 steps from a a Dirichlet with $\\alpha = (1.3,1.3,1.3)$.\n",
        "* *Test sequence 3*: generate a test sequence that 'changes tasks' every T=5 steps, but keep sampling according to the same probability vector $\\textbf{p}=(1,0,0)$ (You can use any of the extreme here).\n",
        "\n",
        "i) Test the preformance of M1 and M3 and these test sequences. In addition plot the actual prediction the models do (probability of symbols over time). This should give you more insight in what the model does. Does this correspond or contradict your previous intuitions? **[5 pts]**\n",
        "\n",
        "ii) Repeat the same procedure for task length $T=20$ and models M2 and M4. What do you observe? How do M2 and M4 compare to each other and how to their compare to M1 and M3 (the models trained on the shorter task length). **[5 pts]**\n",
        "\n",
        "4) **Comparison to the Bayesian update (15 pts)**\n",
        "\n",
        "Going back to the generative process in the task description. For a given prior, for each the mini-tasks (selecting/sampling a $\\textbf{p}$), one could compute the Bayesian posterior at each time step.  We start with a prior and every time we observe a symbol with update our posterior over the parameters\n",
        " $\\textbf{p}$ given the data. We do this every time step, till we reach the RESET symbol which marks the end of the task. Then we start again, from the prior.\n",
        "\n",
        "i) Derive the posterior update for each time step. (Hint: since the two distribution are conjugates or each other, the posterior has a closed form). **[3 pts]**\n",
        "\n",
        "ANS：\n",
        "\n",
        "The prior is alos Dirichlet distribution because the prior and likelihood are conjugate. \n",
        "\n",
        "The prior is: \n",
        "\n",
        "$$\n",
        "p_1, p_2, p_3 \\sim \\frac{\\Gamma (\\sum_{i=1}^{3}\\alpha_i)}{\\sum_{i=1}^{3}\\Gamma (\\alpha_i )} \\prod\\limits_{i=1}^{3} p_i^{\\alpha_i  - 1}\n",
        "$$\n",
        "\n",
        "The likelihood is:\n",
        "\n",
        "$$\n",
        "x_1, x_2, x_3 \\sim \\frac{\\Gamma (n+1)}{\\sum_{i=1}^{3}p_i^{x_i}} \\prod\\limits_{i=1}^{3} p_i^{x_i}\n",
        "$$\n",
        "\n",
        "Thus, for one observation $X_1 = (x_1^{(1)},x_1^{(2)},x_1^{(3)})$, the posterior is:\n",
        "\n",
        "$$\n",
        "P(p_1, p_2, p_3|X_1) \\propto  \\prod\\limits_{i=1}^{3} p_i^{\\alpha_i  - 1} \\prod\\limits_{i=1}^{3} p_i^{x_i} \\propto \\prod\\limits_{i=1}^{3} p_i^{\\alpha_i  - 1 + x_1^{(i)}}\n",
        "$$\n",
        "\n",
        "Then we can see:\n",
        "\n",
        "$$\n",
        "p_1, p_2, p_3|X_1 \\sim Dirichlet(\\alpha_1 - 1 + x_1^{(1)}, \\alpha_2 - 1 + x_1^{(2)}, \\alpha_3 - 1 + x_1^{(3)}) \n",
        "$$\n",
        "\n",
        "Thus, for T observations $X_1, X_2, X_3, ... X_T$, the posterior is:\n",
        "\n",
        "$$\n",
        "P(p_1, p_2, p_3|X_1, X_2, X_3, ... X_T) \\propto  \\prod\\limits_{i=1}^{3} p_i^{\\alpha_i  - 1 + \\sum_{j=1}^{T}   x_j^{(i)}}\n",
        "$$\n",
        "\n",
        "Then we can see:\n",
        "\n",
        "$$\n",
        "p_1, p_2, p_3|X_1, X_2, X_3, ... X_T \\sim Dirichlet(\\alpha_1 - 1 + \\sum_{i=1}^{T}x_i^{(1)}, \\alpha_2 - 1 + \\sum_{i=1}^{T}x_i^{(2)}, \\alpha_3 - 1 + \\sum_{i=1}^{T}x_i^{(3)}) \n",
        "$$\n",
        "\n",
        "\n",
        "\n",
        "\n",
        "ii) Implement this posterior update and use it to infer the probabilities over the next symbol, for the previously generated test sequences. This will tell you, what the inferred probabilities would be, if we knew the structure of the model, the prior and that the reset symbol means the tasks has finished and we should reset our estimate to the prior. (For test sequence 1 and 2, use the prior that generated them, for test sequence 3 compute the updates starting from both priors) **[5 pts]**\n",
        "\n",
        "ANS:\n",
        "\n",
        "The probabilities can be writen as:\n",
        "\n",
        "\n",
        "$$\n",
        "\\begin{align}\n",
        "P(x_{T+1} = i| X_1, X_2, X_3, ... X_T, \\alpha_1, \\alpha_2, \\alpha_3 ) &= \\int_pP(x_{T+1}|p)P(p|X_1, X_2, X_3, ... X_T, \\alpha_1, \\alpha_2, \\alpha_3)dp\\\\ \n",
        "&= \\frac{\\sum_{i=1}^{3}\\sum_{j=1}^{T}x_j^{(i)} + \\alpha_i}{L + \\sum_{m=1}^{3}\\alpha_m}\n",
        "\\end{align}\n",
        "$$\n",
        "\n",
        "Where $L = \\sum_{i=1}^{3}\\sum_{j=1}^{T}x_j^{(i)}$\n",
        "\n",
        "iii) Compare this to what the LSTM predictions are. What do you observe? What are the failure cases -- can you explain why this might happen? (For test sequence 1 and 2, use the prior that generated them, for test sequence 3 compute the updates starting from both priors). **[7 pts]**\n",
        " \n",
        "For this analysis, only consider $T=20$ and respectively models M2 and M4.\n",
        "\n",
        "5) **Play (not for credit, just for fun)**\n",
        "\n",
        "Visualize the hidden state of the LSTM. Look at the eigenvalues: How many of these are actual revelant? What do they correspond to?\n",
        "\n",
        "\n"
      ]
    },
    {
      "metadata": {
        "id": "7D0rGNa-ytbO",
        "colab_type": "code",
        "colab": {
          "autoexec": {
            "startup": false,
            "wait_interval": 0
          }
        },
        "cellView": "code"
      },
      "cell_type": "code",
      "source": [
        "#@title Generate data function\n",
        "\n",
        "n_symbols = 3\n",
        "def get_data_per_task(number_samples_per_task=10, p=None, alpha=None):\n",
        "  if p == None:\n",
        "    # sample task\n",
        "    if alpha == None:\n",
        "      p = np.random.dirichlet((1.3, 1.3, 1.3), 1)[0]\n",
        "    else:\n",
        "      p = np.random.dirichlet(alpha, 1)[0]\n",
        "    \n",
        "  p = np.append(p, [0])\n",
        "  sample = np.random.multinomial(1, p, size = number_samples_per_task)\n",
        "  \n",
        "  sample = np.append(sample,[[0,0,0,1]], axis=0)\n",
        "  return sample\n",
        "  \n",
        "\n",
        "def get_data(ntasks, nsamples_per_task, p=None, alpha=None):\n",
        "  sample = []\n",
        "  for task_id in range(ntasks):\n",
        "    sample.append(get_data_per_task(number_samples_per_task = nsamples_per_task, p=p, alpha=alpha))\n",
        "  return np.concatenate(sample)\n",
        "\n",
        "\n",
        "def get_minibatch(batch_size, ntasks, nsamples_per_task, p=None, alpha=None):\n",
        "  sample = get_data(batch_size*ntasks, nsamples_per_task, p=p, alpha=alpha)\n",
        "  return np.reshape(sample, [batch_size, ntasks*(nsamples_per_task+1), n_symbols+1])\n",
        "  "
      ],
      "execution_count": 0,
      "outputs": []
    },
    {
      "metadata": {
        "id": "YeVJ2gGdieG-",
        "colab_type": "text"
      },
      "cell_type": "markdown",
      "source": [
        "### Training your recurrent model"
      ]
    },
    {
      "metadata": {
        "id": "GpSBS2IKgZY3",
        "colab_type": "code",
        "colab": {
          "autoexec": {
            "startup": false,
            "wait_interval": 0
          },
          "output_extras": [
            {
              "item_id": 5
            }
          ],
          "base_uri": "https://localhost:8080/",
          "height": 242
        },
        "cellView": "code",
        "outputId": "14b3b151-deba-4858-d5dd-92f242032b3b",
        "executionInfo": {
          "status": "ok",
          "timestamp": 1522339579486,
          "user_tz": -60,
          "elapsed": 653707,
          "user": {
            "displayName": "JOY WU",
            "photoUrl": "//lh6.googleusercontent.com/-tPBEt0lFVJA/AAAAAAAAAAI/AAAAAAAABm0/dJFicuVmNrg/s50-c-k-no/photo.jpg",
            "userId": "118283881385645801877"
          }
        }
      },
      "cell_type": "code",
      "source": [
        "#@title Your models\n",
        "# Advisable to you GPU for this part\n",
        "alpha_list = [[10., 1., 1.],[1.3, 1.3, 1.3]]\n",
        "T_list = [5, 20]\n",
        "result = []\n",
        "model_number = 0\n",
        "for alpha in alpha_list:\n",
        "  for T in T_list:\n",
        "    model_number += 1\n",
        "    print(\"This is model %d\" %(model_number))\n",
        "    with tf.device('/device:GPU:*'):\n",
        "\n",
        "      tf.reset_default_graph()\n",
        "\n",
        "      # your model here.... \n",
        "      x = tf.placeholder(tf.float32,[None, None, 4])\n",
        "      y = tf.placeholder(tf.float32,[None, None, 4])  \n",
        "\n",
        "      rnn_cell = tf.nn.rnn_cell.LSTMCell(32)\n",
        "      initializer = tf.contrib.layers.xavier_initializer()\n",
        "\n",
        "      # RNN\n",
        "      outputs, states = tf.nn.dynamic_rnn(cell = rnn_cell,\n",
        "                                          inputs = x,\n",
        "                                          dtype = tf.float32)\n",
        "\n",
        "      relu_outputs = tf.nn.relu(outputs)\n",
        "\n",
        "      # Fully connected \n",
        "      hidden_1 = tf.contrib.layers.fully_connected(inputs = relu_outputs,\n",
        "                                                  num_outputs = 64,\n",
        "                                                  activation_fn = tf.nn.relu,\n",
        "                                                  weights_initializer = initializer,\n",
        "                                                  biases_initializer = initializer)\n",
        "\n",
        "      logits = tf.contrib.layers.fully_connected(inputs = hidden_1,\n",
        "                                                 num_outputs = 4,\n",
        "                                                 activation_fn = None,\n",
        "                                                 weights_initializer = initializer,\n",
        "                                                 biases_initializer = initializer)\n",
        "\n",
        "      loss_op = tf.reduce_mean(tf.nn.softmax_cross_entropy_with_logits(labels = y, logits = logits))\n",
        "      train_op = tf.train.AdamOptimizer(learning_rate = 0.001).minimize(loss_op)\n",
        "      y_pred = tf.nn.softmax(logits)\n",
        "\n",
        "      batch_size = 64\n",
        "      unroll_len = 100\n",
        "      loss_model = {'train':[], 'test':[]}\n",
        "\n",
        "      init = tf.global_variables_initializer()\n",
        "      raw_data = get_minibatch(batch_size, round(unroll_len/T), T-1, alpha=alpha)\n",
        "\n",
        "      test_xs = raw_data[:,:-1,:]\n",
        "      test_ys = raw_data[:,1:,:]  \n",
        "\n",
        "      with tf.Session() as sess:\n",
        "        sess.run(init)\n",
        "        i = 0\n",
        "        while i < 1000:\n",
        "          raw_data = get_minibatch(batch_size, round(unroll_len/T), T-1, alpha=alpha)\n",
        "          batch_xs = raw_data[:,:-1,:]\n",
        "          batch_ys = raw_data[:,1:,:]  \n",
        "          sess.run(train_op, feed_dict = {x:batch_xs, y: batch_ys})\n",
        "          i += 1\n",
        "          if i % 20 == 0:\n",
        "            loss_train = sess.run(loss_op, feed_dict = {x:batch_xs, y: batch_ys})\n",
        "            loss_model['train'].append(loss_train)\n",
        "\n",
        "            loss_test = sess.run(loss_op, feed_dict = {x:test_xs, y: test_ys})\n",
        "            loss_model['test'].append(loss_test)\n",
        "\n",
        "            \n",
        "        print(loss_model)           \n",
        "        result.append(loss_model)\n",
        "            \n",
        "        saver = tf.train.Saver()\n",
        "        \n",
        "\n",
        "        if model_number == 1:\n",
        "          save_path = saver.save(sess, \"./model_DL4/M1.ckpt\")\n",
        "          print(\"Model 1 saved in path: %s\" % save_path)  \n",
        "\n",
        "        if model_number == 2:\n",
        "          save_path = saver.save(sess, \"./model_DL4/M2.ckpt\")\n",
        "          print(\"Model 2 saved in path: %s\" % save_path)\n",
        "\n",
        "        if model_number == 3:\n",
        "          save_path = saver.save(sess, \"./model_DL4/M3.ckpt\")\n",
        "          print(\"Model 3 saved in path: %s\" % save_path)\n",
        "\n",
        "        if model_number == 4:\n",
        "          save_path = saver.save(sess, \"./model_DL4/M4.ckpt\")\n",
        "          print(\"Model 4 saved in path: %s\" % save_path)\n"
      ],
      "execution_count": 70,
      "outputs": [
        {
          "output_type": "stream",
          "text": [
            "This is model 1\n",
            "{'train': [0.98201966, 0.93800956, 0.9455904, 0.91232955, 0.9012866, 0.7893965, 0.67393225, 0.55815434, 0.5017037, 0.48953816, 0.47264123, 0.47435966, 0.46508458, 0.47093868, 0.45730937, 0.46216047, 0.43871337, 0.46064565, 0.4531716, 0.45498982, 0.44920832, 0.45471203, 0.45706293, 0.41503385, 0.46712765, 0.45952398, 0.46050826, 0.45416692, 0.4367432, 0.4660838, 0.44195974, 0.437009, 0.44413364, 0.45804206, 0.4415437, 0.43196413, 0.4527813, 0.4562294, 0.43796554, 0.45892, 0.43172854, 0.45628577, 0.4334722, 0.45243335, 0.44366884, 0.46381032, 0.45114908, 0.46730927, 0.44708374, 0.439003], 'test': [0.9676885, 0.94710284, 0.93869406, 0.92012715, 0.8746737, 0.78399545, 0.66337436, 0.55545413, 0.49340513, 0.47182664, 0.46388182, 0.4596298, 0.45678025, 0.45422572, 0.45224047, 0.4502357, 0.4486045, 0.44706216, 0.4460894, 0.44463533, 0.44368044, 0.44278693, 0.4424064, 0.44166538, 0.4413374, 0.4410804, 0.44080463, 0.44044003, 0.44021606, 0.44019094, 0.4402879, 0.44000614, 0.4401489, 0.4394949, 0.43997332, 0.43930292, 0.4391914, 0.43919778, 0.43936017, 0.43918836, 0.43900612, 0.43894988, 0.43886176, 0.43889982, 0.4388878, 0.4389773, 0.43884155, 0.43887332, 0.43855086, 0.43904716]}\n",
            "Model 1 saved in path: ./model_DL4/M1.ckpt\n",
            "This is model 2\n",
            "{'train': [1.4325123, 0.7813449, 0.7747047, 0.7656877, 0.7582597, 0.7816959, 0.7445461, 0.74035305, 0.7702345, 0.747701, 0.7674526, 0.76313704, 0.7318041, 0.7682196, 0.76953787, 0.73383147, 0.73746705, 0.70700336, 0.7314276, 0.73362345, 0.7140463, 0.714431, 0.7335379, 0.7240896, 0.6979227, 0.7207688, 0.7103692, 0.700387, 0.7227347, 0.6473905, 0.60448253, 0.6047929, 0.58692324, 0.5688253, 0.5562788, 0.5268792, 0.54108393, 0.53041536, 0.5355258, 0.52629685, 0.53264654, 0.54484534, 0.52800673, 0.52538615, 0.5331757, 0.528809, 0.54234195, 0.54306644, 0.5263386, 0.51962847], 'test': [1.4343607, 0.8261151, 0.81264806, 0.80330765, 0.8008471, 0.7966588, 0.7932205, 0.79088676, 0.7871023, 0.78481185, 0.78074217, 0.7781052, 0.774081, 0.7697982, 0.7662758, 0.7639197, 0.7616788, 0.76101077, 0.75846136, 0.75683856, 0.7554143, 0.75497085, 0.75220335, 0.7512481, 0.74743265, 0.7441077, 0.739228, 0.72981054, 0.7089366, 0.6796915, 0.6498405, 0.6257724, 0.6080164, 0.5939061, 0.58218086, 0.5749158, 0.5703156, 0.5636142, 0.56071407, 0.5596083, 0.55633146, 0.55495006, 0.5541286, 0.55257225, 0.55232835, 0.55082434, 0.5504051, 0.5480394, 0.5486258, 0.54718816]}\n",
            "Model 2 saved in path: ./model_DL4/M2.ckpt\n",
            "This is model 3\n",
            "{'train': [1.3818818, 1.3698194, 1.3533652, 1.3143355, 1.2262927, 1.093146, 0.97477615, 0.89972496, 0.87699205, 0.8607103, 0.85818344, 0.8546879, 0.8566349, 0.85189235, 0.85473824, 0.8450747, 0.8441723, 0.84441507, 0.85161257, 0.84764993, 0.8463777, 0.840547, 0.8451591, 0.84261185, 0.8431802, 0.8448529, 0.84135014, 0.8399111, 0.8384492, 0.8463397, 0.8462774, 0.8433559, 0.84298635, 0.8385523, 0.8408254, 0.8365199, 0.8390017, 0.84550583, 0.8345574, 0.84773195, 0.8392021, 0.84382594, 0.83881277, 0.8369338, 0.83699095, 0.84186256, 0.8357888, 0.84107333, 0.83513355, 0.8374976], 'test': [1.3818153, 1.3698932, 1.3537692, 1.3168342, 1.2257637, 1.0934396, 0.97690547, 0.9065315, 0.8789753, 0.8686209, 0.86390424, 0.8606863, 0.85858375, 0.8559793, 0.85362804, 0.85228944, 0.8515478, 0.8495876, 0.84941965, 0.84826344, 0.8472184, 0.84729004, 0.84640074, 0.84562886, 0.8468473, 0.84620976, 0.8460567, 0.8469364, 0.8441451, 0.845177, 0.8438223, 0.84422547, 0.84404147, 0.84389997, 0.8443464, 0.8437593, 0.8436631, 0.843947, 0.84336567, 0.8442611, 0.8437948, 0.8436285, 0.84347326, 0.8450974, 0.8434216, 0.8435371, 0.84383184, 0.8434083, 0.8449917, 0.8451244]}\n",
            "Model 3 saved in path: ./model_DL4/M3.ckpt\n",
            "This is model 4\n",
            "{'train': [1.2648007, 1.2230072, 1.1904762, 1.1768237, 1.1538724, 1.1457106, 1.155778, 1.1443086, 1.1467632, 1.1227504, 1.0899626, 1.0280211, 0.9970572, 0.97184646, 0.94635147, 0.9502395, 0.93825036, 0.938641, 0.93163633, 0.92966825, 0.9138555, 0.93576545, 0.9468868, 0.935998, 0.93138343, 0.9384019, 0.9192562, 0.9292165, 0.9420015, 0.92114395, 0.9276399, 0.9118563, 0.92802614, 0.9157359, 0.9272801, 0.9155675, 0.92969245, 0.9350885, 0.92785436, 0.9260443, 0.92528665, 0.9379678, 0.93085355, 0.9416477, 0.9363878, 0.9285682, 0.9301924, 0.91535366, 0.92841256, 0.9265384], 'test': [1.2778286, 1.2230434, 1.1950432, 1.1696608, 1.1575679, 1.1511457, 1.1472726, 1.1432765, 1.1371784, 1.1246399, 1.085764, 1.0301923, 0.9932216, 0.9734949, 0.95395523, 0.94580805, 0.93985355, 0.9365626, 0.93456846, 0.93213135, 0.9304184, 0.9288477, 0.9293429, 0.9275436, 0.92650944, 0.92569965, 0.92531717, 0.9251916, 0.92477864, 0.9241931, 0.92443717, 0.92455685, 0.9272941, 0.92394125, 0.9230205, 0.92302513, 0.92355895, 0.9223812, 0.92262024, 0.9236185, 0.9221068, 0.92359245, 0.9240459, 0.9223735, 0.92164034, 0.92203945, 0.92168295, 0.9218718, 0.92196554, 0.9210934]}\n",
            "Model 4 saved in path: ./model_DL4/M4.ckpt\n"
          ],
          "name": "stdout"
        }
      ]
    },
    {
      "metadata": {
        "id": "dUchbRoyimkG",
        "colab_type": "code",
        "colab": {
          "autoexec": {
            "startup": false,
            "wait_interval": 0
          }
        }
      },
      "cell_type": "code",
      "source": [
        "from google.colab import files\n",
        "files.download( \"M4.ckpt.meta\" ) "
      ],
      "execution_count": 0,
      "outputs": []
    },
    {
      "metadata": {
        "id": "jPbIk06yaW6X",
        "colab_type": "code",
        "colab": {
          "autoexec": {
            "startup": false,
            "wait_interval": 0
          },
          "output_extras": [
            {
              "item_id": 1
            }
          ],
          "base_uri": "https://localhost:8080/",
          "height": 154
        },
        "outputId": "e99d3622-d8ff-4e50-c1eb-f94bbea4503c",
        "executionInfo": {
          "status": "ok",
          "timestamp": 1522349893999,
          "user_tz": -60,
          "elapsed": 1520,
          "user": {
            "displayName": "JOY WU",
            "photoUrl": "//lh6.googleusercontent.com/-tPBEt0lFVJA/AAAAAAAAAAI/AAAAAAAABm0/dJFicuVmNrg/s50-c-k-no/photo.jpg",
            "userId": "118283881385645801877"
          }
        }
      },
      "cell_type": "code",
      "source": [
        "!ls"
      ],
      "execution_count": 12,
      "outputs": [
        {
          "output_type": "stream",
          "text": [
            "checkpoint\t\t     M3.ckpt.index\r\n",
            "M1.ckpt.data-00000-of-00001  M3.ckpt.meta\r\n",
            "M1.ckpt.index\t\t     M4.ckpt.data-00000-of-00001\r\n",
            "M1.ckpt.meta\t\t     M4.ckpt.index\r\n",
            "M2.ckpt.data-00000-of-00001  M4.ckpt.meta\r\n",
            "M2.ckpt.index\t\t     MNIST_data\r\n",
            "M2.ckpt.meta\t\t     model_DL4\r\n",
            "M3.ckpt.data-00000-of-00001\r\n"
          ],
          "name": "stdout"
        }
      ]
    },
    {
      "metadata": {
        "id": "RSleVfY-Gikv",
        "colab_type": "code",
        "colab": {
          "autoexec": {
            "startup": false,
            "wait_interval": 0
          },
          "output_extras": [
            {
              "item_id": 1
            }
          ],
          "base_uri": "https://localhost:8080/",
          "height": 35
        },
        "outputId": "43401b8e-6a6c-485d-dfb6-1aa722697df5",
        "executionInfo": {
          "status": "ok",
          "timestamp": 1522349889701,
          "user_tz": -60,
          "elapsed": 452,
          "user": {
            "displayName": "JOY WU",
            "photoUrl": "//lh6.googleusercontent.com/-tPBEt0lFVJA/AAAAAAAAAAI/AAAAAAAABm0/dJFicuVmNrg/s50-c-k-no/photo.jpg",
            "userId": "118283881385645801877"
          }
        }
      },
      "cell_type": "code",
      "source": [
        "cd model_DL4"
      ],
      "execution_count": 11,
      "outputs": [
        {
          "output_type": "stream",
          "text": [
            "/content/model_DL4/model_DL4/model_DL4\n"
          ],
          "name": "stdout"
        }
      ]
    },
    {
      "metadata": {
        "id": "vNH0UHyAdRsK",
        "colab_type": "code",
        "colab": {
          "autoexec": {
            "startup": false,
            "wait_interval": 0
          },
          "output_extras": [
            {
              "item_id": 1
            }
          ],
          "base_uri": "https://localhost:8080/",
          "height": 35
        },
        "outputId": "ce2d4d87-033d-4077-b738-292803640c73",
        "executionInfo": {
          "status": "ok",
          "timestamp": 1522346541553,
          "user_tz": -60,
          "elapsed": 544,
          "user": {
            "displayName": "JOY WU",
            "photoUrl": "//lh6.googleusercontent.com/-tPBEt0lFVJA/AAAAAAAAAAI/AAAAAAAABm0/dJFicuVmNrg/s50-c-k-no/photo.jpg",
            "userId": "118283881385645801877"
          }
        }
      },
      "cell_type": "code",
      "source": [
        "pwd"
      ],
      "execution_count": 100,
      "outputs": [
        {
          "output_type": "execute_result",
          "data": {
            "text/plain": [
              "'/content/model_DL4/model_DL4/model_DL4'"
            ]
          },
          "metadata": {
            "tags": []
          },
          "execution_count": 100
        }
      ]
    },
    {
      "metadata": {
        "id": "_9R5wkxBZWsx",
        "colab_type": "code",
        "colab": {
          "autoexec": {
            "startup": false,
            "wait_interval": 0
          }
        }
      },
      "cell_type": "code",
      "source": [
        "!rm -f M*"
      ],
      "execution_count": 0,
      "outputs": []
    },
    {
      "metadata": {
        "id": "WVa3hXcminFh",
        "colab_type": "text"
      },
      "cell_type": "markdown",
      "source": [
        "### Analysing your recurrent model"
      ]
    },
    {
      "metadata": {
        "id": "1jhC7JmIghuz",
        "colab_type": "code",
        "colab": {
          "autoexec": {
            "startup": false,
            "wait_interval": 0
          },
          "output_extras": [
            {
              "item_id": 1
            },
            {
              "item_id": 2
            },
            {
              "item_id": 3
            },
            {
              "item_id": 4
            },
            {
              "item_id": 5
            }
          ],
          "base_uri": "https://localhost:8080/",
          "height": 1415
        },
        "outputId": "3094e03f-bb1d-46a2-fb1e-7d5435b2469a",
        "executionInfo": {
          "status": "ok",
          "timestamp": 1522345744133,
          "user_tz": -60,
          "elapsed": 1420,
          "user": {
            "displayName": "JOY WU",
            "photoUrl": "//lh6.googleusercontent.com/-tPBEt0lFVJA/AAAAAAAAAAI/AAAAAAAABm0/dJFicuVmNrg/s50-c-k-no/photo.jpg",
            "userId": "118283881385645801877"
          }
        }
      },
      "cell_type": "code",
      "source": [
        "# Plot learning curves \n",
        "\n",
        "for i in range(4):\n",
        "    plt.figure(num='Comparison',figsize=(20,20))\n",
        "    plot_learning_curves( result[i]['train'],  result[i]['test'])\n",
        "    plt.title('Model %d' %(i+1))"
      ],
      "execution_count": 95,
      "outputs": [
        {
          "output_type": "display_data",
          "data": {
            "text/plain": [
              "<matplotlib.figure.Figure at 0x7f86fa156d30>"
            ]
          },
          "metadata": {
            "tags": []
          }
        },
        {
          "output_type": "display_data",
          "data": {
            "image/png": "[encoded data removed]",
            "text/plain": [
              "<matplotlib.figure.Figure at 0x7f86fa156908>"
            ]
          },
          "metadata": {
            "tags": []
          }
        },
        {
          "output_type": "display_data",
          "data": {
            "image/png": "[encoded data removed]",
            "text/plain": [
              "<matplotlib.figure.Figure at 0x7f86fa387320>"
            ]
          },
          "metadata": {
            "tags": []
          }
        },
        {
          "output_type": "display_data",
          "data": {
            "image/png": "[encoded data removed]",
            "text/plain": [
              "<matplotlib.figure.Figure at 0x7f86ff8fd908>"
            ]
          },
          "metadata": {
            "tags": []
          }
        },
        {
          "output_type": "display_data",
          "data": {
            "image/png": "[encoded data removed]",
            "text/plain": [
              "<matplotlib.figure.Figure at 0x7f8721496c18>"
            ]
          },
          "metadata": {
            "tags": []
          }
        }
      ]
    },
    {
      "metadata": {
        "id": "epFG0DEmrYaw",
        "colab_type": "code",
        "colab": {
          "autoexec": {
            "startup": false,
            "wait_interval": 0
          },
          "output_extras": [
            {
              "item_id": 5
            }
          ],
          "base_uri": "https://localhost:8080/",
          "height": 222
        },
        "cellView": "code",
        "outputId": "b5f815a0-7454-4fb5-c03a-21b032552435",
        "executionInfo": {
          "status": "ok",
          "timestamp": 1522352199138,
          "user_tz": -60,
          "elapsed": 1731,
          "user": {
            "displayName": "JOY WU",
            "photoUrl": "//lh6.googleusercontent.com/-tPBEt0lFVJA/AAAAAAAAAAI/AAAAAAAABm0/dJFicuVmNrg/s50-c-k-no/photo.jpg",
            "userId": "118283881385645801877"
          }
        }
      },
      "cell_type": "code",
      "source": [
        "#@title Your models\n",
        "# Advisable to you GPU for this part\n",
        "alpha_list = [[10., 1., 1.],[1.3, 1.3, 1.3]]\n",
        "T_list = [5, 20]\n",
        "model_number = 0\n",
        "batch_size = 1\n",
        "unroll_len = 100\n",
        "result = []\n",
        "gt = {}\n",
        "\n",
        "with tf.device('/device:GPU:*'):\n",
        "\n",
        "  tf.reset_default_graph()\n",
        "\n",
        "  # your model here.... \n",
        "  x = tf.placeholder(tf.float32,[None, None, 4])\n",
        "  y = tf.placeholder(tf.float32,[None, None, 4])  \n",
        "\n",
        "  rnn_cell = tf.nn.rnn_cell.LSTMCell(32)\n",
        "  initializer = tf.contrib.layers.xavier_initializer()\n",
        "\n",
        "  # RNN\n",
        "  outputs, states = tf.nn.dynamic_rnn(cell = rnn_cell,\n",
        "                                      inputs = x,\n",
        "                                      dtype = tf.float32)\n",
        "\n",
        "  relu_outputs = tf.nn.relu(outputs)\n",
        "\n",
        "  # Fully connected \n",
        "  hidden_1 = tf.contrib.layers.fully_connected(inputs = relu_outputs,\n",
        "                                              num_outputs = 64,\n",
        "                                              activation_fn = tf.nn.relu,\n",
        "                                              weights_initializer = initializer,\n",
        "                                              biases_initializer = initializer)\n",
        "\n",
        "  logits = tf.contrib.layers.fully_connected(inputs = hidden_1,\n",
        "                                             num_outputs = 4,\n",
        "                                             activation_fn = None,\n",
        "                                             weights_initializer = initializer,\n",
        "                                             biases_initializer = initializer)\n",
        "\n",
        "  y_pred = tf.nn.softmax(logits)\n",
        "\n",
        "\n",
        "\n",
        "  init = tf.global_variables_initializer()\n",
        "\n",
        "  with tf.Session() as sess:\n",
        "    sess.run(init)\n",
        "    \n",
        "    saver = tf.train.Saver()\n",
        "\n",
        "    \n",
        "    # Sequence 1\n",
        "    \n",
        "    T = 5\n",
        "    alpha = alpha_list[0]\n",
        "    raw_data = get_minibatch(batch_size, round(unroll_len/T), T-1, alpha=alpha)\n",
        "    batch_xs = raw_data[:,:-1,:]\n",
        "    batch_ys = raw_data[:,1:,:] \n",
        "    gt['Sequence 1'] = batch_ys\n",
        "\n",
        "    # Model 1\n",
        "    saver.restore(sess, \"M1.ckpt\")\n",
        "    result.append(sess.run(y_pred, feed_dict = {x:batch_xs, y: batch_ys}))\n",
        "    \n",
        "    # Model 3\n",
        "    \n",
        "    saver.restore(sess, \"M3.ckpt\")\n",
        "    result.append(sess.run(y_pred, feed_dict = {x:batch_xs, y: batch_ys}))\n",
        "     \n",
        "    # Sequence 2\n",
        "    \n",
        "    alpha = alpha_list[1]\n",
        "    raw_data = get_minibatch(batch_size, round(unroll_len/T), T-1, alpha=alpha)\n",
        "    batch_xs = raw_data[:,:-1,:]\n",
        "    batch_ys = raw_data[:,1:,:] \n",
        "    gt['Sequence 2'] = batch_ys\n",
        "\n",
        "    # Model 1\n",
        "    saver.restore(sess, \"M1.ckpt\")\n",
        "    result.append(sess.run(y_pred, feed_dict = {x:batch_xs, y: batch_ys}))\n",
        "    \n",
        "    # Model 3\n",
        "    \n",
        "    saver.restore(sess, \"M3.ckpt\")\n",
        "    result.append(sess.run(y_pred, feed_dict = {x:batch_xs, y: batch_ys}))\n",
        "\n",
        "    # Sequence 3\n",
        "\n",
        "    raw_data = get_minibatch(batch_size, round(unroll_len/T), T-1, p = (1, 0, 0))\n",
        "    batch_xs = raw_data[:,:-1,:]\n",
        "    batch_ys = raw_data[:,1:,:] \n",
        "    gt['Sequence 3'] = batch_ys\n",
        "\n",
        "    # Model 1\n",
        "    saver.restore(sess, \"M1.ckpt\")\n",
        "    result.append(sess.run(y_pred, feed_dict = {x:batch_xs, y: batch_ys}))\n",
        "    \n",
        "    # Model 3\n",
        "    \n",
        "    saver.restore(sess, \"M3.ckpt\")\n",
        "    result.append(sess.run(y_pred, feed_dict = {x:batch_xs, y: batch_ys}))    \n",
        "\n",
        "################################################################################\n",
        "\n",
        "    # Sequence 1\n",
        "    \n",
        "    T = 10\n",
        "    alpha = alpha_list[0]\n",
        "    raw_data = get_minibatch(batch_size, round(unroll_len/T), T-1, alpha=alpha)\n",
        "    batch_xs = raw_data[:,:-1,:]\n",
        "    batch_ys = raw_data[:,1:,:] \n",
        "    gt['Sequence 4'] = batch_ys\n",
        "\n",
        "    # Model 1\n",
        "    saver.restore(sess, \"M2.ckpt\")\n",
        "    result.append(sess.run(y_pred, feed_dict = {x:batch_xs, y: batch_ys}))\n",
        "    \n",
        "    # Model 3\n",
        "    \n",
        "    saver.restore(sess, \"M4.ckpt\")\n",
        "    result.append(sess.run(y_pred, feed_dict = {x:batch_xs, y: batch_ys}))\n",
        "     \n",
        "    # Sequence 2\n",
        "    \n",
        "    alpha = alpha_list[1]\n",
        "    raw_data = get_minibatch(batch_size, round(unroll_len/T), T-1, alpha=alpha)\n",
        "    batch_xs = raw_data[:,:-1,:]\n",
        "    batch_ys = raw_data[:,1:,:] \n",
        "    gt['Sequence 5'] = batch_ys\n",
        "\n",
        "    # Model 1\n",
        "    saver.restore(sess, \"M2.ckpt\")\n",
        "    result.append(sess.run(y_pred, feed_dict = {x:batch_xs, y: batch_ys}))\n",
        "    \n",
        "    # Model 3\n",
        "    \n",
        "    saver.restore(sess, \"M4.ckpt\")\n",
        "    result.append(sess.run(y_pred, feed_dict = {x:batch_xs, y: batch_ys}))\n",
        "\n",
        "    # Sequence 3\n",
        "\n",
        "    raw_data = get_minibatch(batch_size, round(unroll_len/T), T-1, p = (1, 0, 0))\n",
        "    batch_xs = raw_data[:,:-1,:]\n",
        "    batch_ys = raw_data[:,1:,:] \n",
        "    gt['Sequence 6'] = batch_ys\n",
        "\n",
        "    # Model 1\n",
        "    saver.restore(sess, \"M2.ckpt\")\n",
        "    result.append(sess.run(y_pred, feed_dict = {x:batch_xs, y: batch_ys}))\n",
        "    \n",
        "    # Model 3\n",
        "    \n",
        "    saver.restore(sess, \"M4.ckpt\")\n",
        "    result.append(sess.run(y_pred, feed_dict = {x:batch_xs, y: batch_ys})) \n",
        "\n"
      ],
      "execution_count": 67,
      "outputs": [
        {
          "output_type": "stream",
          "text": [
            "INFO:tensorflow:Restoring parameters from M1.ckpt\n",
            "INFO:tensorflow:Restoring parameters from M3.ckpt\n",
            "INFO:tensorflow:Restoring parameters from M1.ckpt\n",
            "INFO:tensorflow:Restoring parameters from M3.ckpt\n",
            "INFO:tensorflow:Restoring parameters from M1.ckpt\n",
            "INFO:tensorflow:Restoring parameters from M3.ckpt\n",
            "INFO:tensorflow:Restoring parameters from M2.ckpt\n",
            "INFO:tensorflow:Restoring parameters from M4.ckpt\n",
            "INFO:tensorflow:Restoring parameters from M2.ckpt\n",
            "INFO:tensorflow:Restoring parameters from M4.ckpt\n",
            "INFO:tensorflow:Restoring parameters from M2.ckpt\n",
            "INFO:tensorflow:Restoring parameters from M4.ckpt\n"
          ],
          "name": "stdout"
        }
      ]
    },
    {
      "metadata": {
        "id": "J-DZmz-dPZ-1",
        "colab_type": "text"
      },
      "cell_type": "markdown",
      "source": [
        "### Test M1 and M3"
      ]
    },
    {
      "metadata": {
        "id": "cv0MLcxd7Xsb",
        "colab_type": "code",
        "colab": {
          "autoexec": {
            "startup": false,
            "wait_interval": 0
          },
          "output_extras": [
            {
              "item_id": 1
            },
            {
              "item_id": 2
            }
          ],
          "base_uri": "https://localhost:8080/",
          "height": 842
        },
        "outputId": "ae4cf793-e632-4c42-e0de-04cf98e0ac6c",
        "executionInfo": {
          "status": "ok",
          "timestamp": 1522361308483,
          "user_tz": -60,
          "elapsed": 1845,
          "user": {
            "displayName": "JOY WU",
            "photoUrl": "//lh6.googleusercontent.com/-tPBEt0lFVJA/AAAAAAAAAAI/AAAAAAAABm0/dJFicuVmNrg/s50-c-k-no/photo.jpg",
            "userId": "118283881385645801877"
          }
        }
      },
      "cell_type": "code",
      "source": [
        "plt.figure(num='Comparison',figsize=(20,14))\n",
        "\n",
        "# Sequence 1\n",
        "plt.subplot(3,3,1)\n",
        "dst = np.reshape(result[0], (-1, 4))\n",
        "plt.imshow(dst, aspect = 'auto')\n",
        "plt.title('Sequence 1 Model 1')\n",
        "\n",
        "plt.subplot(3,3,2)\n",
        "dst = np.reshape(result[1], (-1, 4))\n",
        "plt.imshow(dst, aspect = 'auto')\n",
        "plt.title('Sequence 1 Model 3')\n",
        "\n",
        "plt.subplot(3,3,3)\n",
        "dst = np.reshape(gt['Sequence 1'], (-1, 4))\n",
        "plt.imshow(dst, aspect = 'auto')\n",
        "plt.title('Sequence 1 Ground truth')\n",
        "\n",
        "# Sequence 2\n",
        "plt.subplot(3,3,4)\n",
        "dst = np.reshape(result[2], (-1, 4))\n",
        "plt.imshow(dst, aspect = 'auto')\n",
        "plt.title('Sequence 2 Model 1')\n",
        "\n",
        "plt.subplot(3,3,5)\n",
        "dst = np.reshape(result[3], (-1, 4))\n",
        "plt.imshow(dst, aspect = 'auto')\n",
        "plt.title('Sequence 2 Model 3')\n",
        "\n",
        "plt.subplot(3,3,6)\n",
        "dst = np.reshape(gt['Sequence 2'], (-1, 4))\n",
        "plt.imshow(dst, aspect = 'auto')\n",
        "plt.title('Sequence 2 Ground truth')\n",
        "\n",
        "# Sequence 3\n",
        "plt.subplot(3,3,7)\n",
        "dst = np.reshape(result[4], (-1, 4))\n",
        "plt.imshow(dst, aspect = 'auto')\n",
        "plt.title('Sequence 3 Model 1')\n",
        "\n",
        "plt.subplot(3,3,8)\n",
        "dst = np.reshape(result[5], (-1, 4))\n",
        "plt.imshow(dst, aspect = 'auto')\n",
        "plt.title('Sequence 3 Model 3')\n",
        "\n",
        "plt.subplot(3,3,9)\n",
        "dst = np.reshape(gt['Sequence 3'], (-1, 4))\n",
        "plt.imshow(dst, aspect = 'auto')\n",
        "plt.title('Sequence 3 Ground truth')\n"
      ],
      "execution_count": 72,
      "outputs": [
        {
          "output_type": "execute_result",
          "data": {
            "text/plain": [
              "Text(0.5,1,'Sequence 3 Ground truth')"
            ]
          },
          "metadata": {
            "tags": []
          },
          "execution_count": 72
        },
        {
          "output_type": "display_data",
          "data": {
            "image/png": "[encoded data removed]",
            "text/plain": [
              "<matplotlib.figure.Figure at 0x7f2f378ca3c8>"
            ]
          },
          "metadata": {
            "tags": []
          }
        }
      ]
    },
    {
      "metadata": {
        "id": "KSJywEz4Q09T",
        "colab_type": "text"
      },
      "cell_type": "markdown",
      "source": [
        "### Test M2 and M4 "
      ]
    },
    {
      "metadata": {
        "id": "9-JWwb8EhXhi",
        "colab_type": "code",
        "colab": {
          "autoexec": {
            "startup": false,
            "wait_interval": 0
          },
          "output_extras": [
            {
              "item_id": 1
            },
            {
              "item_id": 2
            }
          ],
          "base_uri": "https://localhost:8080/",
          "height": 842
        },
        "outputId": "ba59fd94-698d-4487-cf01-acfc3326263a",
        "executionInfo": {
          "status": "ok",
          "timestamp": 1522352320721,
          "user_tz": -60,
          "elapsed": 1796,
          "user": {
            "displayName": "JOY WU",
            "photoUrl": "//lh6.googleusercontent.com/-tPBEt0lFVJA/AAAAAAAAAAI/AAAAAAAABm0/dJFicuVmNrg/s50-c-k-no/photo.jpg",
            "userId": "118283881385645801877"
          }
        }
      },
      "cell_type": "code",
      "source": [
        "plt.figure(num='Comparison',figsize=(20,14))\n",
        "\n",
        "# Sequence 1\n",
        "plt.subplot(3,3,1)\n",
        "dst = np.reshape(result[6], (-1, 4))\n",
        "plt.imshow(dst, aspect = 'auto')\n",
        "plt.title('Sequence 1 Model 2')\n",
        "\n",
        "plt.subplot(3,3,2)\n",
        "dst = np.reshape(result[7], (-1, 4))\n",
        "plt.imshow(dst, aspect = 'auto')\n",
        "plt.title('Sequence 1 Model 4')\n",
        "\n",
        "plt.subplot(3,3,3)\n",
        "dst = np.reshape(gt['Sequence 4'], (-1, 4))\n",
        "plt.imshow(dst, aspect = 'auto')\n",
        "plt.title('Sequence 1 Ground truth')\n",
        "\n",
        "# Sequence 2\n",
        "plt.subplot(3,3,4)\n",
        "dst = np.reshape(result[8], (-1, 4))\n",
        "plt.imshow(dst, aspect = 'auto')\n",
        "plt.title('Sequence 2 Model 2')\n",
        "\n",
        "plt.subplot(3,3,5)\n",
        "dst = np.reshape(result[9], (-1, 4))\n",
        "plt.imshow(dst, aspect = 'auto')\n",
        "plt.title('Sequence 2 Model 4')\n",
        "\n",
        "plt.subplot(3,3,6)\n",
        "dst = np.reshape(gt['Sequence 5'], (-1, 4))\n",
        "plt.imshow(dst, aspect = 'auto')\n",
        "plt.title('Sequence 2 Ground truth')\n",
        "\n",
        "# Sequence 3\n",
        "plt.subplot(3,3,7)\n",
        "dst = np.reshape(result[10], (-1, 4))\n",
        "plt.imshow(dst, aspect = 'auto')\n",
        "plt.title('Sequence 3 Model 2')\n",
        "\n",
        "plt.subplot(3,3,8)\n",
        "dst = np.reshape(result[11], (-1, 4))\n",
        "plt.imshow(dst, aspect = 'auto')\n",
        "plt.title('Sequence 3 Model 4')\n",
        "\n",
        "plt.subplot(3,3,9)\n",
        "dst = np.reshape(gt['Sequence 6'], (-1, 4))\n",
        "plt.imshow(dst, aspect = 'auto')\n",
        "plt.title('Sequence 3 Ground truth')\n"
      ],
      "execution_count": 70,
      "outputs": [
        {
          "output_type": "execute_result",
          "data": {
            "text/plain": [
              "Text(0.5,1,'Sequence 3 Ground truth')"
            ]
          },
          "metadata": {
            "tags": []
          },
          "execution_count": 70
        },
        {
          "output_type": "display_data",
          "data": {
            "image/png": "[encoded data removed]",
            "text/plain": [
              "<matplotlib.figure.Figure at 0x7f2f3948f1d0>"
            ]
          },
          "metadata": {
            "tags": []
          }
        }
      ]
    },
    {
      "metadata": {
        "id": "wSl5YYqCgm4D",
        "colab_type": "text"
      },
      "cell_type": "markdown",
      "source": [
        "### Bayesian Updates"
      ]
    },
    {
      "metadata": {
        "id": "b_dhNHuSgpRM",
        "colab_type": "code",
        "colab": {
          "autoexec": {
            "startup": false,
            "wait_interval": 0
          }
        }
      },
      "cell_type": "code",
      "source": [
        "# Implement Bayesian update (as if you knew the 'right' prior and model)\n",
        "\n",
        "\n",
        "# From the posterior infer the mean of the probability vector. Use this as your \n",
        "# estimate to compare again the LSTM predictions\n"
      ],
      "execution_count": 0,
      "outputs": []
    },
    {
      "metadata": {
        "id": "0PoqrDkoiKM5",
        "colab_type": "code",
        "colab": {
          "autoexec": {
            "startup": false,
            "wait_interval": 0
          }
        }
      },
      "cell_type": "code",
      "source": [
        "# Visualize and compare performance on the test sequences:"
      ],
      "execution_count": 0,
      "outputs": []
    }
  ]
}